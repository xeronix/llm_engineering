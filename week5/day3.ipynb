{
 "cells": [
  {
   "cell_type": "markdown",
   "id": "dfe37963-1af6-44fc-a841-8e462443f5e6",
   "metadata": {},
   "source": [
    "## Expert Knowledge Worker\n",
    "\n",
    "### A question answering agent that is an expert knowledge worker\n",
    "### To be used by employees of Insurellm, an Insurance Tech company\n",
    "### The agent needs to be accurate and the solution should be low cost.\n",
    "\n",
    "This project will use RAG (Retrieval Augmented Generation) to ensure our question/answering assistant has high accuracy."
   ]
  },
  {
   "cell_type": "code",
   "execution_count": 1,
   "id": "ba2779af-84ef-4227-9e9e-6eaf0df87e77",
   "metadata": {},
   "outputs": [],
   "source": [
    "# imports\n",
    "\n",
    "import os\n",
    "import glob\n",
    "from dotenv import load_dotenv\n",
    "import gradio as gr"
   ]
  },
  {
   "cell_type": "code",
   "execution_count": 2,
   "id": "802137aa-8a74-45e0-a487-d1974927d7ca",
   "metadata": {},
   "outputs": [],
   "source": [
    "# imports for langchain and Chroma and plotly\n",
    "\n",
    "from langchain.document_loaders import DirectoryLoader, TextLoader\n",
    "from langchain.text_splitter import CharacterTextSplitter\n",
    "from langchain.schema import Document\n",
    "from langchain_openai import OpenAIEmbeddings, ChatOpenAI\n",
    "from langchain_chroma import Chroma\n",
    "import numpy as np\n",
    "from sklearn.manifold import TSNE\n",
    "import plotly.graph_objects as go"
   ]
  },
  {
   "cell_type": "code",
   "execution_count": 3,
   "id": "58c85082-e417-4708-9efe-81a5d55d1424",
   "metadata": {},
   "outputs": [],
   "source": [
    "# price is a factor for our company, so we're going to use a low cost model\n",
    "\n",
    "MODEL = \"gpt-4o-mini\"\n",
    "db_name = \"vector_db\""
   ]
  },
  {
   "cell_type": "code",
   "execution_count": 4,
   "id": "ee78efcb-60fe-449e-a944-40bab26261af",
   "metadata": {},
   "outputs": [],
   "source": [
    "# Load environment variables in a file called .env\n",
    "\n",
    "load_dotenv(override=True)\n",
    "os.environ['OPENAI_API_KEY'] = os.getenv('OPENAI_API_KEY', 'your-key-if-not-using-env')"
   ]
  },
  {
   "cell_type": "code",
   "execution_count": 5,
   "id": "730711a9-6ffe-4eee-8f48-d6cfb7314905",
   "metadata": {},
   "outputs": [],
   "source": [
    "# Read in documents using LangChain's loaders\n",
    "# Take everything in all the sub-folders of our knowledgebase\n",
    "\n",
    "folders = glob.glob(\"knowledge-base/*\")\n",
    "\n",
    "# With thanks to CG and Jon R, students on the course, for this fix needed for some users \n",
    "text_loader_kwargs = {'encoding': 'utf-8'}\n",
    "# If that doesn't work, some Windows users might need to uncomment the next line instead\n",
    "# text_loader_kwargs={'autodetect_encoding': True}\n",
    "\n",
    "documents = []\n",
    "for folder in folders:\n",
    "    doc_type = os.path.basename(folder)\n",
    "    loader = DirectoryLoader(folder, glob=\"**/*.md\", loader_cls=TextLoader, loader_kwargs=text_loader_kwargs)\n",
    "    folder_docs = loader.load()\n",
    "    for doc in folder_docs:\n",
    "        doc.metadata[\"doc_type\"] = doc_type\n",
    "        documents.append(doc)"
   ]
  },
  {
   "cell_type": "markdown",
   "id": "f065d4b1-80b7-4e15-abd4-60a83e752ea8",
   "metadata": {},
   "source": [
    "# Please note:\n",
    "\n",
    "In the next cell, we split the text into chunks.\n",
    "\n",
    "2 students let me know that the next cell crashed their computer.  \n",
    "They were able to fix it by changing the chunk_size from 1,000 to 2,000 and the chunk_overlap from 200 to 400.  \n",
    "This shouldn't be required; but if it happens to you, please make that change!  \n",
    "(Note that LangChain may give a warning about a chunk being larger than 1,000 - this can be safely ignored).\n",
    "\n",
    "_With much thanks to Steven W and Nir P for this valuable contribution._"
   ]
  },
  {
   "cell_type": "code",
   "execution_count": 6,
   "id": "7310c9c8-03c1-4efc-a104-5e89aec6db1a",
   "metadata": {},
   "outputs": [
    {
     "name": "stderr",
     "output_type": "stream",
     "text": [
      "Created a chunk of size 1088, which is longer than the specified 1000\n"
     ]
    }
   ],
   "source": [
    "text_splitter = CharacterTextSplitter(chunk_size=1000, chunk_overlap=200)\n",
    "chunks = text_splitter.split_documents(documents)"
   ]
  },
  {
   "cell_type": "code",
   "execution_count": 7,
   "id": "cd06e02f-6d9b-44cc-a43d-e1faa8acc7bb",
   "metadata": {},
   "outputs": [
    {
     "data": {
      "text/plain": [
       "123"
      ]
     },
     "execution_count": 7,
     "metadata": {},
     "output_type": "execute_result"
    }
   ],
   "source": [
    "len(chunks)"
   ]
  },
  {
   "cell_type": "code",
   "execution_count": 8,
   "id": "2c54b4b6-06da-463d-bee7-4dd456c2b887",
   "metadata": {},
   "outputs": [
    {
     "name": "stdout",
     "output_type": "stream",
     "text": [
      "Document types found: products, contracts, employees, company\n"
     ]
    }
   ],
   "source": [
    "doc_types = set(chunk.metadata['doc_type'] for chunk in chunks)\n",
    "print(f\"Document types found: {', '.join(doc_types)}\")"
   ]
  },
  {
   "cell_type": "markdown",
   "id": "77f7d2a6-ccfa-425b-a1c3-5e55b23bd013",
   "metadata": {},
   "source": [
    "## A sidenote on Embeddings, and \"Auto-Encoding LLMs\"\n",
    "\n",
    "We will be mapping each chunk of text into a Vector that represents the meaning of the text, known as an embedding.\n",
    "\n",
    "OpenAI offers a model to do this, which we will use by calling their API with some LangChain code.\n",
    "\n",
    "This model is an example of an \"Auto-Encoding LLM\" which generates an output given a complete input.\n",
    "It's different to all the other LLMs we've discussed today, which are known as \"Auto-Regressive LLMs\", and generate future tokens based only on past context.\n",
    "\n",
    "Another example of an Auto-Encoding LLMs is BERT from Google. In addition to embedding, Auto-encoding LLMs are often used for classification.\n",
    "\n",
    "### Sidenote\n",
    "\n",
    "In week 8 we will return to RAG and vector embeddings, and we will use an open-source vector encoder so that the data never leaves our computer - that's an important consideration when building enterprise systems and the data needs to remain internal."
   ]
  },
  {
   "cell_type": "code",
   "execution_count": 9,
   "id": "78998399-ac17-4e28-b15f-0b5f51e6ee23",
   "metadata": {},
   "outputs": [],
   "source": [
    "# Put the chunks of data into a Vector Store that associates a Vector Embedding with each chunk\n",
    "\n",
    "embeddings = OpenAIEmbeddings()\n",
    "\n",
    "# If you would rather use the free Vector Embeddings from HuggingFace sentence-transformers\n",
    "# Then replace embeddings = OpenAIEmbeddings()\n",
    "# with:\n",
    "# from langchain.embeddings import HuggingFaceEmbeddings\n",
    "# embeddings = HuggingFaceEmbeddings(model_name=\"sentence-transformers/all-MiniLM-L6-v2\")"
   ]
  },
  {
   "cell_type": "code",
   "execution_count": 10,
   "id": "763e51ff-5787-4a56-8176-36b7c5796fe3",
   "metadata": {},
   "outputs": [],
   "source": [
    "# Check if a Chroma Datastore already exists - if so, delete the collection to start from scratch\n",
    "\n",
    "if os.path.exists(db_name):\n",
    "    Chroma(persist_directory=db_name, embedding_function=embeddings).delete_collection()"
   ]
  },
  {
   "cell_type": "code",
   "execution_count": 11,
   "id": "99fe3a37-480f-4d55-be48-120588d5846b",
   "metadata": {},
   "outputs": [
    {
     "name": "stdout",
     "output_type": "stream",
     "text": [
      "Vectorstore created with 123 documents\n"
     ]
    }
   ],
   "source": [
    "# Create our Chroma vectorstore!\n",
    "\n",
    "vectorstore = Chroma.from_documents(documents=chunks, embedding=embeddings, persist_directory=db_name)\n",
    "print(f\"Vectorstore created with {vectorstore._collection.count()} documents\")"
   ]
  },
  {
   "cell_type": "code",
   "execution_count": 12,
   "id": "057868f6-51a6-4087-94d1-380145821550",
   "metadata": {},
   "outputs": [
    {
     "name": "stdout",
     "output_type": "stream",
     "text": [
      "The vectors have 1,536 dimensions\n"
     ]
    }
   ],
   "source": [
    "# Get one vector and find how many dimensions it has\n",
    "\n",
    "collection = vectorstore._collection\n",
    "sample_embedding = collection.get(limit=1, include=[\"embeddings\"])[\"embeddings\"][0]\n",
    "dimensions = len(sample_embedding)\n",
    "print(f\"The vectors have {dimensions:,} dimensions\")"
   ]
  },
  {
   "cell_type": "code",
   "execution_count": null,
   "id": "61e393a0-dd4c-419f-842f-60c1cb3b716b",
   "metadata": {},
   "outputs": [],
   "source": []
  },
  {
   "cell_type": "markdown",
   "id": "b0d45462-a818-441c-b010-b85b32bcf618",
   "metadata": {},
   "source": [
    "## Visualizing the Vector Store\n",
    "\n",
    "Let's take a minute to look at the documents and their embedding vectors to see what's going on."
   ]
  },
  {
   "cell_type": "code",
   "execution_count": 13,
   "id": "b98adf5e-d464-4bd2-9bdf-bc5b6770263b",
   "metadata": {},
   "outputs": [],
   "source": [
    "# Prework\n",
    "\n",
    "result = collection.get(include=['embeddings', 'documents', 'metadatas'])\n",
    "vectors = np.array(result['embeddings'])\n",
    "documents = result['documents']\n",
    "doc_types = [metadata['doc_type'] for metadata in result['metadatas']]\n",
    "colors = [['blue', 'green', 'red', 'orange'][['products', 'employees', 'contracts', 'company'].index(t)] for t in doc_types]"
   ]
  },
  {
   "cell_type": "code",
   "execution_count": 14,
   "id": "427149d5-e5d8-4abd-bb6f-7ef0333cca21",
   "metadata": {},
   "outputs": [
    {
     "data": {
      "application/vnd.plotly.v1+json": {
       "config": {
        "plotlyServerURL": "https://plot.ly"
       },
       "data": [
        {
         "hoverinfo": "text",
         "marker": {
          "color": [
           "blue",
           "blue",
           "blue",
           "blue",
           "blue",
           "blue",
           "blue",
           "blue",
           "blue",
           "blue",
           "blue",
           "blue",
           "blue",
           "blue",
           "blue",
           "blue",
           "blue",
           "blue",
           "blue",
           "blue",
           "blue",
           "red",
           "red",
           "red",
           "red",
           "red",
           "red",
           "red",
           "red",
           "red",
           "red",
           "red",
           "red",
           "red",
           "red",
           "red",
           "red",
           "red",
           "red",
           "red",
           "red",
           "red",
           "red",
           "red",
           "red",
           "red",
           "red",
           "red",
           "red",
           "red",
           "red",
           "red",
           "red",
           "red",
           "red",
           "red",
           "red",
           "red",
           "red",
           "red",
           "red",
           "red",
           "red",
           "red",
           "red",
           "red",
           "red",
           "red",
           "red",
           "red",
           "red",
           "red",
           "red",
           "orange",
           "orange",
           "orange",
           "green",
           "green",
           "green",
           "green",
           "green",
           "green",
           "green",
           "green",
           "green",
           "green",
           "green",
           "green",
           "green",
           "green",
           "green",
           "green",
           "green",
           "green",
           "green",
           "green",
           "green",
           "green",
           "green",
           "green",
           "green",
           "green",
           "green",
           "green",
           "green",
           "green",
           "green",
           "green",
           "green",
           "green",
           "green",
           "green",
           "green",
           "green",
           "green",
           "green",
           "green",
           "green",
           "green",
           "green",
           "green",
           "green",
           "green"
          ],
          "opacity": 0.8,
          "size": 5
         },
         "mode": "markers",
         "text": [
          "Type: products<br>Text: # Product Summary\n\n# Rellm: AI-Powered Enterprise Reinsurance Solution\n\n## Summary\n\nRellm is an inno...",
          "Type: products<br>Text: ### Seamless Integrations\nRellm's architecture is designed for effortless integration with existing ...",
          "Type: products<br>Text: ### Regulatory Compliance Tools\nRellm includes built-in compliance tracking features to help organiz...",
          "Type: products<br>Text: Join the growing number of organizations leveraging Rellm to enhance their reinsurance processes whi...",
          "Type: products<br>Text: Experience the future of reinsurance with Rellm, where innovation meets reliability. Let Insurellm h...",
          "Type: products<br>Text: # Product Summary\n\n# Markellm\n\n## Summary\n\nMarkellm is an innovative two-sided marketplace designed ...",
          "Type: products<br>Text: - **User-Friendly Interface**: Designed with user experience in mind, Markellm features an intuitive...",
          "Type: products<br>Text: - **Customer Support**: Our dedicated support team is always available to assist both consumers and ...",
          "Type: products<br>Text: ### For Insurance Companies:\n- **Basic Listing Fee**: $199/month for a featured listing on the platf...",
          "Type: products<br>Text: ### Q3 2025\n- Initiate a comprehensive marketing campaign targeting both consumers and insurers to i...",
          "Type: products<br>Text: # Product Summary\n\n# Homellm\n\n## Summary\nHomellm is an innovative home insurance product developed b...",
          "Type: products<br>Text: ### 2. Dynamic Pricing Model\nWith Homellm's innovative dynamic pricing model, insurance providers ca...",
          "Type: products<br>Text: ### 5. Multi-Channel Integration\nHomellm seamlessly integrates into existing insurance platforms, pr...",
          "Type: products<br>Text: - **Basic Tier:** Starting at $5,000/month for small insurers with basic integration features.\n- **S...",
          "Type: products<br>Text: All tiers include a comprehensive training program and ongoing updates to ensure optimal performance...",
          "Type: products<br>Text: With Homellm, Insurellm is committed to transforming the landscape of home insurance, ensuring both ...",
          "Type: products<br>Text: # Product Summary\n\n# Carllm\n\n## Summary\n\nCarllm is an innovative auto insurance product developed by...",
          "Type: products<br>Text: - **Instant Quoting**: With Carllm, insurance companies can offer near-instant quotes to customers, ...",
          "Type: products<br>Text: - **Mobile Integration**: Carllm is designed to work seamlessly with mobile applications, providing ...",
          "Type: products<br>Text: - **Professional Tier**: $2,500/month\n  - For medium-sized companies.\n  - All Basic Tier features pl...",
          "Type: products<br>Text: ### Q2 2025: Customer Experience Improvements\n- Launch of a new **mobile app** for end-users.\n- Intr...",
          "Type: contracts<br>Text: # Contract with GreenField Holdings for Markellm\n\n**Effective Date:** November 15, 2023  \n**Contract...",
          "Type: contracts<br>Text: ## Renewal\n1. **Automatic Renewal**: This contract will automatically renew for sequential one-year ...",
          "Type: contracts<br>Text: ## Features\n1. **AI-Powered Matching**: Access to advanced algorithms that connect GreenField Holdin...",
          "Type: contracts<br>Text: ## Support\n1. **Customer Support Access**: The Client will have access to dedicated support through ...",
          "Type: contracts<br>Text: **Signatures:**  \n_________________________                           _________________________  \n**...",
          "Type: contracts<br>Text: # Contract with Apex Reinsurance for Rellm: AI-Powered Enterprise Reinsurance Solution\n\n## Terms\n\n1....",
          "Type: contracts<br>Text: ## Renewal\n\n1. **Automatic Renewal**: This Agreement will automatically renew for successive one-yea...",
          "Type: contracts<br>Text: 2. **Seamless Integrations**: The architecture of Rellm allows for easy integration with existing sy...",
          "Type: contracts<br>Text: 1. **Technical Support**: Provider shall offer dedicated technical support to the Client via phone, ...",
          "Type: contracts<br>Text: **Insurellm, Inc.**  \n_____________________________  \nAuthorized Signature   \nDate: ________________...",
          "Type: contracts<br>Text: # Contract with Greenstone Insurance for Homellm\n\n---\n\n## Terms\n\n1. **Parties**: This Contract (\"Agr...",
          "Type: contracts<br>Text: 4. **Payment Terms**: \n   - The Customer shall pay an amount of $10,000 per month for the Standard T...",
          "Type: contracts<br>Text: ---\n\n## Features\n\n- **AI-Powered Risk Assessment**: Customer will have access to enhanced risk evalu...",
          "Type: contracts<br>Text: - **Customer Portal**: A dedicated portal will be provided, allowing the Customer's clients to manag...",
          "Type: contracts<br>Text: ______________________________  \n[Name], [Title]  \nDate: ______________________\n\n**For Greenstone In...",
          "Type: contracts<br>Text: # Contract with Roadway Insurance Inc. for Carllm\n\n---\n\n## Terms\n\n1. **Agreement Effective Date**: T...",
          "Type: contracts<br>Text: ---\n\n## Renewal\n\n1. **Automatic Renewal**: This agreement will automatically renew for an additional...",
          "Type: contracts<br>Text: ---\n\n## Features\n\n1. **Access to Core Features**: Roadway Insurance Inc. will have access to all Pro...",
          "Type: contracts<br>Text: ---\n\n## Support\n\n1. **Technical Support**: Roadway Insurance Inc. will receive priority technical su...",
          "Type: contracts<br>Text: # Contract with Stellar Insurance Co. for Rellm\n\n## Terms\nThis contract is made between **Insurellm*...",
          "Type: contracts<br>Text: ### Termination\nEither party may terminate this agreement with a **30-day written notice**. In the e...",
          "Type: contracts<br>Text: ## Features\nStellar Insurance Co. will receive access to the following features of the Rellm product...",
          "Type: contracts<br>Text: ## Support\nInsurellm provides Stellar Insurance Co. with the following support services:\n\n- **24/7 T...",
          "Type: contracts<br>Text: # Contract with TechDrive Insurance for Carllm\n\n**Contract Date:** October 1, 2024  \n**Contract Dura...",
          "Type: contracts<br>Text: ## Renewal\n\n1. **Automatic Renewal**: This contract shall automatically renew for additional one-yea...",
          "Type: contracts<br>Text: ## Support\n\n1. **Customer Support**: Insurellm will provide 24/7 customer support to TechDrive Insur...",
          "Type: contracts<br>Text: **TechDrive Insurance Representative:**  \nName: Sarah Johnson  \nTitle: Operations Director  \nDate: _...",
          "Type: contracts<br>Text: # Contract with Belvedere Insurance for Markellm\n\n## Terms\nThis Contract (\"Agreement\") is made and e...",
          "Type: contracts<br>Text: ## Renewal\n1. **Renewal Terms**: This Agreement may be renewed for additional one-year terms upon mu...",
          "Type: contracts<br>Text: ## Features\n1. **AI-Powered Matching**: Belvedere Insurance will benefit from Markellm's AI-powered ...",
          "Type: contracts<br>Text: ## Support\n1. **Technical Support**: Technical support will be available from 9 AM to 7 PM EST, Mond...",
          "Type: contracts<br>Text: **Belvedere Insurance**  \nSignature: ______________________  \nName: [Authorized Signatory]  \nTitle: ...",
          "Type: contracts<br>Text: # Contract with Velocity Auto Solutions for Carllm\n\n**Contract Date:** October 1, 2023  \n**Contract ...",
          "Type: contracts<br>Text: ## Renewal\n\n1. **Automatic Renewal**: This contract will automatically renew for successive 12-month...",
          "Type: contracts<br>Text: ## Support\n\n1. **Customer Support**: Velocity Auto Solutions will have access to Insurellm’s custome...",
          "Type: contracts<br>Text: # Contract with GreenValley Insurance for Homellm\n\n**Contract Date:** October 6, 2023  \n**Contract N...",
          "Type: contracts<br>Text: 4. **Confidentiality:** Both parties agree to maintain the confidentiality of proprietary informatio...",
          "Type: contracts<br>Text: 1. **AI-Powered Risk Assessment:** Access to advanced AI algorithms for real-time risk evaluations.\n...",
          "Type: contracts<br>Text: 3. **Regular Updates:** Insurellm will offer ongoing updates and enhancements to the Homellm platfor...",
          "Type: contracts<br>Text: # Contract with EverGuard Insurance for Rellm: AI-Powered Enterprise Reinsurance Solution\n\n**Contrac...",
          "Type: contracts<br>Text: 4. **Usage Rights**: EverGuard Insurance is granted a non-exclusive, non-transferable license to acc...",
          "Type: contracts<br>Text: 1. **Core Functionality**: Rellm provides EverGuard Insurance with advanced AI-driven analytics, sea...",
          "Type: contracts<br>Text: 1. **Customer Support**: Insurellm will provide EverGuard Insurance with 24/7 customer support, incl...",
          "Type: contracts<br>Text: ---\n\n**Signatures**  \n**For Insurellm**: __________________________  \n**Name**: John Smith  \n**Title...",
          "Type: contracts<br>Text: # Contract with BrightWay Solutions for Markellm\n\n**Contract Date:** October 5, 2023  \n**Contract ID...",
          "Type: contracts<br>Text: 3. **Service Level Agreement (SLA):**  \n   Insurellm commits to a 99.9% uptime for the platform with...",
          "Type: contracts<br>Text: 2. **Real-Time Quote Availability:**  \n   Consumers sourced via BrightWay Solutions will receive rea...",
          "Type: contracts<br>Text: 3. **Training and Onboarding:**  \n   Insurellm agrees to provide one free training session on how to...",
          "Type: contracts<br>Text: # Contract with Pinnacle Insurance Co. for Homellm\n\n## Terms\nThis contract (\"Contract\") is entered i...",
          "Type: contracts<br>Text: ## Renewal\n1. **Renewal Terms**: At the end of the initial term, this Contract shall automatically r...",
          "Type: contracts<br>Text: ## Features\n1. **AI-Powered Risk Assessment**: Utilized for tailored underwriting decisions specific...",
          "Type: contracts<br>Text: ## Support\n1. **Technical Support**: Insurellm shall provide 24/7 technical support via an email and...",
          "Type: company<br>Text: # Overview of Insurellm\n\nInsurellm is an innovative insurance tech firm with 200 employees across th...",
          "Type: company<br>Text: # Careers at Insurellm\n\nInsurellm is hiring! We are looking for talented software engineers, data sc...",
          "Type: company<br>Text: # About Insurellm\n\nInsurellm was founded by Avery Lancaster in 2015 as an insurance tech startup des...",
          "Type: employees<br>Text: # HR Record\n\n# Alex Chen\n\n## Summary\n- **Date of Birth:** March 15, 1990  \n- **Job Title:** Backend ...",
          "Type: employees<br>Text: ## Annual Performance History\n- **2020:**  \n  - Completed onboarding successfully.  \n  - Met expecta...",
          "Type: employees<br>Text: ## Compensation History\n- **2020:** Base Salary: $80,000  \n- **2021:** Base Salary Increase to $90,0...",
          "Type: employees<br>Text: Alex Chen continues to be a vital asset at Insurellm, contributing significantly to innovative backe...",
          "Type: employees<br>Text: # HR Record\n\n# Oliver Spencer\n\n## Summary\n- **Date of Birth**: May 14, 1990  \n- **Job Title**: Backe...",
          "Type: employees<br>Text: ## Annual Performance History\n- **2018**: **3/5** - Adaptable team player but still learning to take...",
          "Type: employees<br>Text: ## Compensation History\n- **March 2018**: Initial salary of $80,000.\n- **July 2019**: Salary increas...",
          "Type: employees<br>Text: # HR Record\n\n# Emily Tran\n\n## Summary\n- **Date of Birth:** March 18, 1991  \n- **Job Title:** Digital...",
          "Type: employees<br>Text: - **January 2017 - May 2018**: Marketing Intern  \n  - Supported the Marketing team by collaborating ...",
          "Type: employees<br>Text: - **2021**:  \n  - Performance Rating: Meets Expectations  \n  - Key Achievements: Contributed to the ...",
          "Type: employees<br>Text: - **Professional Development Goals**:  \n  - Emily Tran aims to become a Marketing Manager within the...",
          "Type: employees<br>Text: # HR Record\n\n# Jordan Blake\n\n## Summary\n- **Date of Birth:** March 15, 1993  \n- **Job Title:** Sales...",
          "Type: employees<br>Text: ## Annual Performance History\n- **2021:** First year at Insurellm; achieved 90% of monthly targets. ...",
          "Type: employees<br>Text: ## Other HR Notes\n- Jordan has shown an interest in continuing education, actively participating in ...",
          "Type: employees<br>Text: # Avery Lancaster\n\n## Summary\n- **Date of Birth**: March 15, 1985  \n- **Job Title**: Co-Founder & Ch...",
          "Type: employees<br>Text: - **2010 - 2013**: Business Analyst at Edge Analytics  \n  Prior to joining Innovate, Avery worked as...",
          "Type: employees<br>Text: - **2018**: **Exceeds Expectations**  \n  Under Avery’s pivoted vision, Insurellm launched two new su...",
          "Type: employees<br>Text: - **2022**: **Satisfactory**  \n  Avery focused on rebuilding team dynamics and addressing employee c...",
          "Type: employees<br>Text: ## Compensation History\n- **2015**: $150,000 base salary + Significant equity stake  \n- **2016**: $1...",
          "Type: employees<br>Text: ## Other HR Notes\n- **Professional Development**: Avery has actively participated in leadership trai...",
          "Type: employees<br>Text: # HR Record\n\n# Maxine Thompson\n\n## Summary\n- **Date of Birth:** January 15, 1991  \n- **Job Title:** ...",
          "Type: employees<br>Text: ## Insurellm Career Progression\n- **January 2017 - October 2018**: **Junior Data Engineer**  \n  * Ma...",
          "Type: employees<br>Text: ## Annual Performance History\n- **2017**: *Meets Expectations*  \n  Maxine showed potential in her ro...",
          "Type: employees<br>Text: - **2021**: *Exceeds Expectations*  \n  Maxine spearheaded the transition to a new data warehousing s...",
          "Type: employees<br>Text: ## Compensation History\n- **2017**: $70,000 (Junior Data Engineer)  \n- **2018**: $75,000 (Junior Dat...",
          "Type: employees<br>Text: # Samantha Greene\n\n## Summary\n- **Date of Birth:** October 14, 1990\n- **Job Title:** HR Generalist\n-...",
          "Type: employees<br>Text: ## Annual Performance History\n- **2020:** Exceeds Expectations  \n  Samantha Greene demonstrated exce...",
          "Type: employees<br>Text: ## Compensation History\n- **2020:** Base Salary - $55,000  \n  The entry-level salary matched industr...",
          "Type: employees<br>Text: - **2023:** Base Salary - $70,000  \n  Recognized for substantial improvement in employee relations m...",
          "Type: employees<br>Text: # HR Record\n\n# Alex Thomson\n\n## Summary\n- **Date of Birth:** March 15, 1995  \n- **Job Title:** Sales...",
          "Type: employees<br>Text: ## Annual Performance History  \n- **2022** - Rated as \"Exceeds Expectations.\" Alex Thomson achieved ...",
          "Type: employees<br>Text: ## Other HR Notes\n- Alex Thomson is an active member of the Diversity and Inclusion committee at Ins...",
          "Type: employees<br>Text: # HR Record\n\n# Samuel Trenton\n\n## Summary\n- **Date of Birth:** April 12, 1989  \n- **Job Title:** Sen...",
          "Type: employees<br>Text: ## Annual Performance History\n- **2023:** Rating: 4.5/5  \n  *Samuel exceeded expectations, successfu...",
          "Type: employees<br>Text: ## Compensation History\n- **2023:** Base Salary: $115,000 + Bonus: $15,000  \n  *Annual bonus based o...",
          "Type: employees<br>Text: - **Engagement in Company Culture:** Regularly participates in team-building events and contributes ...",
          "Type: employees<br>Text: # HR Record\n\n# Alex Harper\n\n## Summary\n- **Date of Birth**: March 15, 1993  \n- **Job Title**: Sales ...",
          "Type: employees<br>Text: ## Annual Performance History  \n- **2021**:  \n  - **Performance Rating**: 4.5/5  \n  - **Key Achievem...",
          "Type: employees<br>Text: - **2022**:  \n  - **Base Salary**: $65,000 (Promotion to Senior SDR)  \n  - **Bonus**: $13,000 (20% o...",
          "Type: employees<br>Text: # HR Record\n\n# Jordan K. Bishop\n\n## Summary\n- **Date of Birth:** March 15, 1990\n- **Job Title:** Fro...",
          "Type: employees<br>Text: ## Annual Performance History\n- **2019:** Exceeds Expectations - Continuously delivered high-quality...",
          "Type: employees<br>Text: ## Compensation History\n- **June 2018:** Starting Salary - $85,000\n- **June 2019:** Salary Increase ...",
          "Type: employees<br>Text: ## Other HR Notes\n- Jordan K. Bishop has been an integral part of club initiatives, including the In...",
          "Type: employees<br>Text: # HR Record\n\n# Emily Carter\n\n## Summary\n- **Date of Birth:** August 12, 1990  \n- **Job Title:** Acco...",
          "Type: employees<br>Text: - **2017-2019:** Marketing Intern  \n  - Assisted with market research and campaign development for s...",
          "Type: employees<br>Text: ## Compensation History\n| Year | Base Salary | Bonus         | Total Compensation |\n|------|--------...",
          "Type: employees<br>Text: Emily Carter exemplifies the kind of talent that drives Insurellm's success and is an invaluable ass..."
         ],
         "type": "scatter",
         "x": {
          "_inputArray": {
           "0": -3.820157051086426,
           "1": -4.936010360717773,
           "10": -3.3699777126312256,
           "100": 12.280961990356445,
           "101": 9.435858726501465,
           "102": 9.64128589630127,
           "103": 10.65817642211914,
           "104": 10.177745819091797,
           "105": 9.98327922821045,
           "106": 13.123588562011719,
           "107": 10.55466365814209,
           "108": 8.579838752746582,
           "109": 13.070938110351562,
           "11": -4.167118549346924,
           "110": 12.848018646240234,
           "111": 11.759824752807617,
           "112": 9.986063003540039,
           "113": 12.404722213745117,
           "114": 11.955231666564941,
           "115": 8.237496376037598,
           "116": 9.15091323852539,
           "117": 13.078930854797363,
           "118": 8.710282325744629,
           "119": 7.0777587890625,
           "12": -3.4408044815063477,
           "120": 7.56819486618042,
           "121": 11.258682250976562,
           "122": 4.305540561676025,
           "13": -2.6078407764434814,
           "14": -3.034010887145996,
           "15": -1.910215973854065,
           "16": -0.8879023790359497,
           "17": -0.9346578121185303,
           "18": -1.4200960397720337,
           "19": -1.7787854671478271,
           "2": -4.28974723815918,
           "20": -2.0591342449188232,
           "21": -8.290539741516113,
           "22": -9.348670959472656,
           "23": -6.268416404724121,
           "24": -10.016215324401855,
           "25": -4.05670166015625,
           "26": -6.778000354766846,
           "27": -6.105962753295898,
           "28": -5.345861434936523,
           "29": -4.435533046722412,
           "3": -2.90169620513916,
           "30": -3.874889373779297,
           "31": -7.349462032318115,
           "32": -8.623229026794434,
           "33": -4.649949073791504,
           "34": -5.641514301300049,
           "35": -4.3439621925354,
           "36": -1.9275974035263062,
           "37": -8.120004653930664,
           "38": -2.6689302921295166,
           "39": -1.465604543685913,
           "4": -1.9429582357406616,
           "40": -5.6486406326293945,
           "41": -6.004997253417969,
           "42": -4.195438861846924,
           "43": -4.575985431671143,
           "44": -1.6032599210739136,
           "45": -2.558182954788208,
           "46": -0.8477175235748291,
           "47": -0.3125865161418915,
           "48": -8.698978424072266,
           "49": -9.588147163391113,
           "5": -7.593144416809082,
           "50": -7.62169885635376,
           "51": -4.4037251472473145,
           "52": -4.642688751220703,
           "53": -2.261331558227539,
           "54": -2.8525962829589844,
           "55": -1.3323630094528198,
           "56": -7.035246849060059,
           "57": -6.687460422515869,
           "58": -5.214550495147705,
           "59": -5.976635932922363,
           "6": -7.829329013824463,
           "60": -6.007298946380615,
           "61": -5.477229595184326,
           "62": -4.886891841888428,
           "63": -4.543769359588623,
           "64": -3.2871949672698975,
           "65": -9.118728637695312,
           "66": -8.567028999328613,
           "67": -8.719467163085938,
           "68": -9.324470520019531,
           "69": -6.8930206298828125,
           "7": -8.479645729064941,
           "70": -9.453269958496094,
           "71": -5.327120304107666,
           "72": -4.9088616371154785,
           "73": -0.24379856884479523,
           "74": 1.0039112567901611,
           "75": 0.08159100264310837,
           "76": 7.822779655456543,
           "77": 9.608572006225586,
           "78": 11.869932174682617,
           "79": 3.690727710723877,
           "8": -9.302824020385742,
           "80": 7.613567352294922,
           "81": 9.743165016174316,
           "82": 11.883710861206055,
           "83": 6.997290134429932,
           "84": 6.956966400146484,
           "85": 11.777783393859863,
           "86": 6.559257984161377,
           "87": 9.36246395111084,
           "88": 11.073164939880371,
           "89": 9.142579078674316,
           "9": -7.934462547302246,
           "90": 4.6933064460754395,
           "91": 6.150520324707031,
           "92": 6.376956939697266,
           "93": 6.300516605377197,
           "94": 13.523496627807617,
           "95": 4.917954444885254,
           "96": 8.173158645629883,
           "97": 7.947726249694824,
           "98": 8.527508735656738,
           "99": 7.659470081329346,
           "bdata": "dH10wMzzncCcRYnAZLU5wNuy+L8K+/LA3Yn6wKGsB8Fe2BTBHuf9wLetV8AJWYXAJDZcwN3mJsA8LULA9YH0v5JNY7+8RW+/tcW1vz6v47/byAPADaYEwSiUFcHelsjAa0IgwYDQgcBh5djADGTDwEwRq8Dj743AMP53wMsu68C/+AnBYsyUwEmHtMC9AYvAg7v2v4rrAcHBzyrA7pi7v6rBtMDwKMDACUGGwHluksCfN82/RbkjwAQEWb9XC6C+BC8LwQ1pGcH15PPAUeuMwOiQlMCouRDA8JA2wN+Kqr++IOHArf/VwJndpsCaQL/AyzvAwHdFr8BrYZzAj2aRwGdhUsBQ5hHBjRIJwfCCC8EIMRXBoJPcwJhAF8HFd6rAZRWdwFWmeb4qgIA/LxmnPTZU+kC2vBlBPus9QeI0bEBYovNAAeQbQa4jPkHN6d9AeJ/eQM1xPEFx5dFAp8wVQa8rMUEBSBJBkS+WQBDRxEAIEMxA1Z3JQD5gWEHiX51AQsUCQcZT/kCtcAhBYRr1QNJ+REFH+RZBtUIaQeSHKkEM2CJBg7sfQTj6UUHn3yhBBUcJQZAiUUF8kU1BPig8QerGH0G+eUZBoUg/QcnMA0EkahJBTUNRQVFdC0EAfeJApy7yQJAjNEH9xolA",
           "dtype": "f4",
           "shape": "123"
          },
          "bdata": "dH10wMzzncCcRYnAZLU5wNuy+L8K+/LA3Yn6wKGsB8Fe2BTBHuf9wLetV8AJWYXAJDZcwN3mJsA8LULA9YH0v5JNY7+8RW+/tcW1vz6v47/byAPADaYEwSiUFcHelsjAa0IgwYDQgcBh5djADGTDwEwRq8Dj743AMP53wMsu68C/+AnBYsyUwEmHtMC9AYvAg7v2v4rrAcHBzyrA7pi7v6rBtMDwKMDACUGGwHluksCfN82/RbkjwAQEWb9XC6C+BC8LwQ1pGcH15PPAUeuMwOiQlMCouRDA8JA2wN+Kqr++IOHArf/VwJndpsCaQL/AyzvAwHdFr8BrYZzAj2aRwGdhUsBQ5hHBjRIJwfCCC8EIMRXBoJPcwJhAF8HFd6rAZRWdwFWmeb4qgIA/LxmnPTZU+kC2vBlBPus9QeI0bEBYovNAAeQbQa4jPkHN6d9AeJ/eQM1xPEFx5dFAp8wVQa8rMUEBSBJBkS+WQBDRxEAIEMxA1Z3JQD5gWEHiX51AQsUCQcZT/kCtcAhBYRr1QNJ+REFH+RZBtUIaQeSHKkEM2CJBg7sfQTj6UUHn3yhBBUcJQZAiUUF8kU1BPig8QerGH0G+eUZBoUg/QcnMA0EkahJBTUNRQVFdC0EAfeJApy7yQJAjNEH9xolA",
          "dtype": "f4"
         },
         "y": {
          "_inputArray": {
           "0": 1.6679162979125977,
           "1": 1.327757716178894,
           "10": 3.3674404621124268,
           "100": -0.7446736693382263,
           "101": 0.3796527683734894,
           "102": -1.4378827810287476,
           "103": -0.28744956851005554,
           "104": 0.14592941105365753,
           "105": 4.356215476989746,
           "106": 2.5102100372314453,
           "107": 4.604551315307617,
           "108": 4.227524280548096,
           "109": 1.3281127214431763,
           "11": 4.053212642669678,
           "110": 0.7626445293426514,
           "111": -2.667959690093994,
           "112": 3.966148853302002,
           "113": 1.9094487428665161,
           "114": 2.932314395904541,
           "115": 3.313079595565796,
           "116": -3.0402543544769287,
           "117": -0.3362463712692261,
           "118": 2.4455485343933105,
           "119": 2.8214149475097656,
           "12": 3.864021062850952,
           "120": 0.2791975438594818,
           "121": 0.8025811910629272,
           "122": 1.8473273515701294,
           "13": 4.929904937744141,
           "14": 5.187504291534424,
           "15": 3.276078939437866,
           "16": 0.5116190314292908,
           "17": 0.27743247151374817,
           "18": -0.3795250952243805,
           "19": -0.4930213391780853,
           "2": 0.7615299820899963,
           "20": 0.7147719860076904,
           "21": -3.0126099586486816,
           "22": -6.607641696929932,
           "23": 3.8505356311798096,
           "24": 1.3731385469436646,
           "25": -7.770815849304199,
           "26": -1.5315263271331787,
           "27": -0.49045056104660034,
           "28": 1.0541225671768188,
           "29": -3.4618964195251465,
           "3": 1.3370143175125122,
           "30": -7.3026509284973145,
           "31": -4.281832218170166,
           "32": -5.008506774902344,
           "33": 4.222723484039307,
           "34": -4.5351338386535645,
           "35": -8.04886245727539,
           "36": -4.850588798522949,
           "37": -7.017368793487549,
           "38": -1.1113066673278809,
           "39": -2.1310858726501465,
           "4": 2.3010902404785156,
           "40": -2.616912364959717,
           "41": -2.6657228469848633,
           "42": -0.14699144661426544,
           "43": -2.09615421295166,
           "44": -4.069995880126953,
           "45": -2.6818044185638428,
           "46": -3.1075077056884766,
           "47": -3.7777819633483887,
           "48": -2.4920034408569336,
           "49": -7.030930042266846,
           "5": 2.6787662506103516,
           "50": 1.5409152507781982,
           "51": -4.245491027832031,
           "52": -6.944962501525879,
           "53": -4.003933906555176,
           "54": -2.437368392944336,
           "55": -2.9349873065948486,
           "56": -5.039908409118652,
           "57": -5.111517906188965,
           "58": 3.6862690448760986,
           "59": -5.4747443199157715,
           "6": 2.3743622303009033,
           "60": -1.4734530448913574,
           "61": -0.7138511538505554,
           "62": 0.06578385084867477,
           "63": -1.4738801717758179,
           "64": -6.1332316398620605,
           "65": -1.565544843673706,
           "66": -0.6239909529685974,
           "67": 0.1746518760919571,
           "68": -1.6566094160079956,
           "69": -3.9626762866973877,
           "7": 1.893079400062561,
           "70": -6.8626017570495605,
           "71": 4.819427490234375,
           "72": -4.410538673400879,
           "73": 2.27586030960083,
           "74": 2.2544989585876465,
           "75": 2.2979891300201416,
           "76": 4.0520758628845215,
           "77": -2.8256309032440186,
           "78": 0.4868852198123932,
           "79": 1.7786942720413208,
           "8": 1.7455576658248901,
           "80": 4.1471052169799805,
           "81": -2.7070844173431396,
           "82": 0.13162297010421753,
           "83": 1.996002197265625,
           "84": 1.134470820426941,
           "85": 1.4159910678863525,
           "86": 1.4318534135818481,
           "87": 3.654831886291504,
           "88": 1.6766952276229858,
           "89": 2.360548973083496,
           "9": 3.4990859031677246,
           "90": -0.6213220953941345,
           "91": -1.931215524673462,
           "92": -2.601646661758423,
           "93": -2.7515642642974854,
           "94": 0.26787981390953064,
           "95": -0.7536768317222595,
           "96": 5.590550422668457,
           "97": -1.0328947305679321,
           "98": -2.2351090908050537,
           "99": -1.9093025922775269,
           "bdata": "SH7VP/fzqT+h80I/SSOrPxBFE0DocCtAjfUXQG1Q8j9vbt8/BvFfQCWEV0Drs4FAH0x3QMjBnUAJAKZAR6tRQHf5Aj+hC44+HVHCvktt/L5M+zY/ms5AwM1x08Atb3ZAAcOvP4aq+MAOCcS/Vhz7vn3thj+2j13AUa/pwMUEicCwRaDAjSCHQNEfkcAkyADBBjibwEmO4MBMP46/tmMIwH57J8A0myrA7YQWvmQnBsBoPYLAr6IrwGjhRsAux3HA/HwfwGH94MC2PMU/ENuHwCI93sA6IIDA2P0bwNXWO8DuRqHAjpGjwNXra0AbMa/AHJq8v/O+Nr+vuYY9G6i8v29DxMDGY8i/370fv/HXMj7HC9S/fZx9wG+a28DAOJpAIiONwLKnEUC2SRBAQRITQJuqgUAj1zTABUn5PkGs4z8WtYRA30AtwCzIBj4Aff8/VzaRPzI/tT/5Rrc/xOhpQPOd1j88ExdA9w4fvxIy979hgSbAoRkwwIsniT738EC/yuWyQOU1hL8HDA/AB2T0v++iPr/ZYcI+iwy4v5csk76FbhU+HmaLQEinIEB8WJNA4UeHQJn/qT+sPEM/2r8qwGLVfUDRaPQ/Cqs7QH8JVECHk0LAfCisvt6DHEAQkjRA+/KOPvZ1TT85dew/",
           "dtype": "f4",
           "shape": "123"
          },
          "bdata": "SH7VP/fzqT+h80I/SSOrPxBFE0DocCtAjfUXQG1Q8j9vbt8/BvFfQCWEV0Drs4FAH0x3QMjBnUAJAKZAR6tRQHf5Aj+hC44+HVHCvktt/L5M+zY/ms5AwM1x08Atb3ZAAcOvP4aq+MAOCcS/Vhz7vn3thj+2j13AUa/pwMUEicCwRaDAjSCHQNEfkcAkyADBBjibwEmO4MBMP46/tmMIwH57J8A0myrA7YQWvmQnBsBoPYLAr6IrwGjhRsAux3HA/HwfwGH94MC2PMU/ENuHwCI93sA6IIDA2P0bwNXWO8DuRqHAjpGjwNXra0AbMa/AHJq8v/O+Nr+vuYY9G6i8v29DxMDGY8i/370fv/HXMj7HC9S/fZx9wG+a28DAOJpAIiONwLKnEUC2SRBAQRITQJuqgUAj1zTABUn5PkGs4z8WtYRA30AtwCzIBj4Aff8/VzaRPzI/tT/5Rrc/xOhpQPOd1j88ExdA9w4fvxIy979hgSbAoRkwwIsniT738EC/yuWyQOU1hL8HDA/AB2T0v++iPr/ZYcI+iwy4v5csk76FbhU+HmaLQEinIEB8WJNA4UeHQJn/qT+sPEM/2r8qwGLVfUDRaPQ/Cqs7QH8JVECHk0LAfCisvt6DHEAQkjRA+/KOPvZ1TT85dew/",
          "dtype": "f4"
         }
        }
       ],
       "layout": {
        "height": 600,
        "margin": {
         "b": 10,
         "l": 10,
         "r": 20,
         "t": 40
        },
        "scene": {
         "xaxis": {
          "title": {
           "text": "x"
          }
         },
         "yaxis": {
          "title": {
           "text": "y"
          }
         }
        },
        "template": {
         "data": {
          "bar": [
           {
            "error_x": {
             "color": "#2a3f5f"
            },
            "error_y": {
             "color": "#2a3f5f"
            },
            "marker": {
             "line": {
              "color": "#E5ECF6",
              "width": 0.5
             },
             "pattern": {
              "fillmode": "overlay",
              "size": 10,
              "solidity": 0.2
             }
            },
            "type": "bar"
           }
          ],
          "barpolar": [
           {
            "marker": {
             "line": {
              "color": "#E5ECF6",
              "width": 0.5
             },
             "pattern": {
              "fillmode": "overlay",
              "size": 10,
              "solidity": 0.2
             }
            },
            "type": "barpolar"
           }
          ],
          "carpet": [
           {
            "aaxis": {
             "endlinecolor": "#2a3f5f",
             "gridcolor": "white",
             "linecolor": "white",
             "minorgridcolor": "white",
             "startlinecolor": "#2a3f5f"
            },
            "baxis": {
             "endlinecolor": "#2a3f5f",
             "gridcolor": "white",
             "linecolor": "white",
             "minorgridcolor": "white",
             "startlinecolor": "#2a3f5f"
            },
            "type": "carpet"
           }
          ],
          "choropleth": [
           {
            "colorbar": {
             "outlinewidth": 0,
             "ticks": ""
            },
            "type": "choropleth"
           }
          ],
          "contour": [
           {
            "colorbar": {
             "outlinewidth": 0,
             "ticks": ""
            },
            "colorscale": [
             [
              0,
              "#0d0887"
             ],
             [
              0.1111111111111111,
              "#46039f"
             ],
             [
              0.2222222222222222,
              "#7201a8"
             ],
             [
              0.3333333333333333,
              "#9c179e"
             ],
             [
              0.4444444444444444,
              "#bd3786"
             ],
             [
              0.5555555555555556,
              "#d8576b"
             ],
             [
              0.6666666666666666,
              "#ed7953"
             ],
             [
              0.7777777777777778,
              "#fb9f3a"
             ],
             [
              0.8888888888888888,
              "#fdca26"
             ],
             [
              1,
              "#f0f921"
             ]
            ],
            "type": "contour"
           }
          ],
          "contourcarpet": [
           {
            "colorbar": {
             "outlinewidth": 0,
             "ticks": ""
            },
            "type": "contourcarpet"
           }
          ],
          "heatmap": [
           {
            "colorbar": {
             "outlinewidth": 0,
             "ticks": ""
            },
            "colorscale": [
             [
              0,
              "#0d0887"
             ],
             [
              0.1111111111111111,
              "#46039f"
             ],
             [
              0.2222222222222222,
              "#7201a8"
             ],
             [
              0.3333333333333333,
              "#9c179e"
             ],
             [
              0.4444444444444444,
              "#bd3786"
             ],
             [
              0.5555555555555556,
              "#d8576b"
             ],
             [
              0.6666666666666666,
              "#ed7953"
             ],
             [
              0.7777777777777778,
              "#fb9f3a"
             ],
             [
              0.8888888888888888,
              "#fdca26"
             ],
             [
              1,
              "#f0f921"
             ]
            ],
            "type": "heatmap"
           }
          ],
          "histogram": [
           {
            "marker": {
             "pattern": {
              "fillmode": "overlay",
              "size": 10,
              "solidity": 0.2
             }
            },
            "type": "histogram"
           }
          ],
          "histogram2d": [
           {
            "colorbar": {
             "outlinewidth": 0,
             "ticks": ""
            },
            "colorscale": [
             [
              0,
              "#0d0887"
             ],
             [
              0.1111111111111111,
              "#46039f"
             ],
             [
              0.2222222222222222,
              "#7201a8"
             ],
             [
              0.3333333333333333,
              "#9c179e"
             ],
             [
              0.4444444444444444,
              "#bd3786"
             ],
             [
              0.5555555555555556,
              "#d8576b"
             ],
             [
              0.6666666666666666,
              "#ed7953"
             ],
             [
              0.7777777777777778,
              "#fb9f3a"
             ],
             [
              0.8888888888888888,
              "#fdca26"
             ],
             [
              1,
              "#f0f921"
             ]
            ],
            "type": "histogram2d"
           }
          ],
          "histogram2dcontour": [
           {
            "colorbar": {
             "outlinewidth": 0,
             "ticks": ""
            },
            "colorscale": [
             [
              0,
              "#0d0887"
             ],
             [
              0.1111111111111111,
              "#46039f"
             ],
             [
              0.2222222222222222,
              "#7201a8"
             ],
             [
              0.3333333333333333,
              "#9c179e"
             ],
             [
              0.4444444444444444,
              "#bd3786"
             ],
             [
              0.5555555555555556,
              "#d8576b"
             ],
             [
              0.6666666666666666,
              "#ed7953"
             ],
             [
              0.7777777777777778,
              "#fb9f3a"
             ],
             [
              0.8888888888888888,
              "#fdca26"
             ],
             [
              1,
              "#f0f921"
             ]
            ],
            "type": "histogram2dcontour"
           }
          ],
          "mesh3d": [
           {
            "colorbar": {
             "outlinewidth": 0,
             "ticks": ""
            },
            "type": "mesh3d"
           }
          ],
          "parcoords": [
           {
            "line": {
             "colorbar": {
              "outlinewidth": 0,
              "ticks": ""
             }
            },
            "type": "parcoords"
           }
          ],
          "pie": [
           {
            "automargin": true,
            "type": "pie"
           }
          ],
          "scatter": [
           {
            "fillpattern": {
             "fillmode": "overlay",
             "size": 10,
             "solidity": 0.2
            },
            "type": "scatter"
           }
          ],
          "scatter3d": [
           {
            "line": {
             "colorbar": {
              "outlinewidth": 0,
              "ticks": ""
             }
            },
            "marker": {
             "colorbar": {
              "outlinewidth": 0,
              "ticks": ""
             }
            },
            "type": "scatter3d"
           }
          ],
          "scattercarpet": [
           {
            "marker": {
             "colorbar": {
              "outlinewidth": 0,
              "ticks": ""
             }
            },
            "type": "scattercarpet"
           }
          ],
          "scattergeo": [
           {
            "marker": {
             "colorbar": {
              "outlinewidth": 0,
              "ticks": ""
             }
            },
            "type": "scattergeo"
           }
          ],
          "scattergl": [
           {
            "marker": {
             "colorbar": {
              "outlinewidth": 0,
              "ticks": ""
             }
            },
            "type": "scattergl"
           }
          ],
          "scattermap": [
           {
            "marker": {
             "colorbar": {
              "outlinewidth": 0,
              "ticks": ""
             }
            },
            "type": "scattermap"
           }
          ],
          "scattermapbox": [
           {
            "marker": {
             "colorbar": {
              "outlinewidth": 0,
              "ticks": ""
             }
            },
            "type": "scattermapbox"
           }
          ],
          "scatterpolar": [
           {
            "marker": {
             "colorbar": {
              "outlinewidth": 0,
              "ticks": ""
             }
            },
            "type": "scatterpolar"
           }
          ],
          "scatterpolargl": [
           {
            "marker": {
             "colorbar": {
              "outlinewidth": 0,
              "ticks": ""
             }
            },
            "type": "scatterpolargl"
           }
          ],
          "scatterternary": [
           {
            "marker": {
             "colorbar": {
              "outlinewidth": 0,
              "ticks": ""
             }
            },
            "type": "scatterternary"
           }
          ],
          "surface": [
           {
            "colorbar": {
             "outlinewidth": 0,
             "ticks": ""
            },
            "colorscale": [
             [
              0,
              "#0d0887"
             ],
             [
              0.1111111111111111,
              "#46039f"
             ],
             [
              0.2222222222222222,
              "#7201a8"
             ],
             [
              0.3333333333333333,
              "#9c179e"
             ],
             [
              0.4444444444444444,
              "#bd3786"
             ],
             [
              0.5555555555555556,
              "#d8576b"
             ],
             [
              0.6666666666666666,
              "#ed7953"
             ],
             [
              0.7777777777777778,
              "#fb9f3a"
             ],
             [
              0.8888888888888888,
              "#fdca26"
             ],
             [
              1,
              "#f0f921"
             ]
            ],
            "type": "surface"
           }
          ],
          "table": [
           {
            "cells": {
             "fill": {
              "color": "#EBF0F8"
             },
             "line": {
              "color": "white"
             }
            },
            "header": {
             "fill": {
              "color": "#C8D4E3"
             },
             "line": {
              "color": "white"
             }
            },
            "type": "table"
           }
          ]
         },
         "layout": {
          "annotationdefaults": {
           "arrowcolor": "#2a3f5f",
           "arrowhead": 0,
           "arrowwidth": 1
          },
          "autotypenumbers": "strict",
          "coloraxis": {
           "colorbar": {
            "outlinewidth": 0,
            "ticks": ""
           }
          },
          "colorscale": {
           "diverging": [
            [
             0,
             "#8e0152"
            ],
            [
             0.1,
             "#c51b7d"
            ],
            [
             0.2,
             "#de77ae"
            ],
            [
             0.3,
             "#f1b6da"
            ],
            [
             0.4,
             "#fde0ef"
            ],
            [
             0.5,
             "#f7f7f7"
            ],
            [
             0.6,
             "#e6f5d0"
            ],
            [
             0.7,
             "#b8e186"
            ],
            [
             0.8,
             "#7fbc41"
            ],
            [
             0.9,
             "#4d9221"
            ],
            [
             1,
             "#276419"
            ]
           ],
           "sequential": [
            [
             0,
             "#0d0887"
            ],
            [
             0.1111111111111111,
             "#46039f"
            ],
            [
             0.2222222222222222,
             "#7201a8"
            ],
            [
             0.3333333333333333,
             "#9c179e"
            ],
            [
             0.4444444444444444,
             "#bd3786"
            ],
            [
             0.5555555555555556,
             "#d8576b"
            ],
            [
             0.6666666666666666,
             "#ed7953"
            ],
            [
             0.7777777777777778,
             "#fb9f3a"
            ],
            [
             0.8888888888888888,
             "#fdca26"
            ],
            [
             1,
             "#f0f921"
            ]
           ],
           "sequentialminus": [
            [
             0,
             "#0d0887"
            ],
            [
             0.1111111111111111,
             "#46039f"
            ],
            [
             0.2222222222222222,
             "#7201a8"
            ],
            [
             0.3333333333333333,
             "#9c179e"
            ],
            [
             0.4444444444444444,
             "#bd3786"
            ],
            [
             0.5555555555555556,
             "#d8576b"
            ],
            [
             0.6666666666666666,
             "#ed7953"
            ],
            [
             0.7777777777777778,
             "#fb9f3a"
            ],
            [
             0.8888888888888888,
             "#fdca26"
            ],
            [
             1,
             "#f0f921"
            ]
           ]
          },
          "colorway": [
           "#636efa",
           "#EF553B",
           "#00cc96",
           "#ab63fa",
           "#FFA15A",
           "#19d3f3",
           "#FF6692",
           "#B6E880",
           "#FF97FF",
           "#FECB52"
          ],
          "font": {
           "color": "#2a3f5f"
          },
          "geo": {
           "bgcolor": "white",
           "lakecolor": "white",
           "landcolor": "#E5ECF6",
           "showlakes": true,
           "showland": true,
           "subunitcolor": "white"
          },
          "hoverlabel": {
           "align": "left"
          },
          "hovermode": "closest",
          "mapbox": {
           "style": "light"
          },
          "paper_bgcolor": "white",
          "plot_bgcolor": "#E5ECF6",
          "polar": {
           "angularaxis": {
            "gridcolor": "white",
            "linecolor": "white",
            "ticks": ""
           },
           "bgcolor": "#E5ECF6",
           "radialaxis": {
            "gridcolor": "white",
            "linecolor": "white",
            "ticks": ""
           }
          },
          "scene": {
           "xaxis": {
            "backgroundcolor": "#E5ECF6",
            "gridcolor": "white",
            "gridwidth": 2,
            "linecolor": "white",
            "showbackground": true,
            "ticks": "",
            "zerolinecolor": "white"
           },
           "yaxis": {
            "backgroundcolor": "#E5ECF6",
            "gridcolor": "white",
            "gridwidth": 2,
            "linecolor": "white",
            "showbackground": true,
            "ticks": "",
            "zerolinecolor": "white"
           },
           "zaxis": {
            "backgroundcolor": "#E5ECF6",
            "gridcolor": "white",
            "gridwidth": 2,
            "linecolor": "white",
            "showbackground": true,
            "ticks": "",
            "zerolinecolor": "white"
           }
          },
          "shapedefaults": {
           "line": {
            "color": "#2a3f5f"
           }
          },
          "ternary": {
           "aaxis": {
            "gridcolor": "white",
            "linecolor": "white",
            "ticks": ""
           },
           "baxis": {
            "gridcolor": "white",
            "linecolor": "white",
            "ticks": ""
           },
           "bgcolor": "#E5ECF6",
           "caxis": {
            "gridcolor": "white",
            "linecolor": "white",
            "ticks": ""
           }
          },
          "title": {
           "x": 0.05
          },
          "xaxis": {
           "automargin": true,
           "gridcolor": "white",
           "linecolor": "white",
           "ticks": "",
           "title": {
            "standoff": 15
           },
           "zerolinecolor": "white",
           "zerolinewidth": 2
          },
          "yaxis": {
           "automargin": true,
           "gridcolor": "white",
           "linecolor": "white",
           "ticks": "",
           "title": {
            "standoff": 15
           },
           "zerolinecolor": "white",
           "zerolinewidth": 2
          }
         }
        },
        "title": {
         "text": "2D Chroma Vector Store Visualization"
        },
        "width": 800,
        "xaxis": {
         "autorange": true,
         "range": [
          -11.445869741303996,
          14.953151044709758
         ],
         "type": "linear"
        },
        "yaxis": {
         "autorange": true,
         "range": [
          -8.906447550865199,
          6.448135516258265
         ],
         "type": "linear"
        }
       }
      },
      "image/png": "[encoded data removed]"
     },
     "metadata": {},
     "output_type": "display_data"
    }
   ],
   "source": [
    "# We humans find it easier to visalize things in 2D!\n",
    "# Reduce the dimensionality of the vectors to 2D using t-SNE\n",
    "# (t-distributed stochastic neighbor embedding)\n",
    "\n",
    "tsne = TSNE(n_components=2, random_state=42)\n",
    "reduced_vectors = tsne.fit_transform(vectors)\n",
    "\n",
    "# Create the 2D scatter plot\n",
    "fig = go.Figure(data=[go.Scatter(\n",
    "    x=reduced_vectors[:, 0],\n",
    "    y=reduced_vectors[:, 1],\n",
    "    mode='markers',\n",
    "    marker=dict(size=5, color=colors, opacity=0.8),\n",
    "    text=[f\"Type: {t}<br>Text: {d[:100]}...\" for t, d in zip(doc_types, documents)],\n",
    "    hoverinfo='text'\n",
    ")])\n",
    "\n",
    "fig.update_layout(\n",
    "    title='2D Chroma Vector Store Visualization',\n",
    "    scene=dict(xaxis_title='x',yaxis_title='y'),\n",
    "    width=800,\n",
    "    height=600,\n",
    "    margin=dict(r=20, b=10, l=10, t=40)\n",
    ")\n",
    "\n",
    "fig.show()"
   ]
  },
  {
   "cell_type": "code",
   "execution_count": 15,
   "id": "e1418e88-acd5-460a-bf2b-4e6efc88e3dd",
   "metadata": {},
   "outputs": [
    {
     "data": {
      "application/vnd.plotly.v1+json": {
       "config": {
        "plotlyServerURL": "https://plot.ly"
       },
       "data": [
        {
         "hoverinfo": "text",
         "marker": {
          "color": [
           "blue",
           "blue",
           "blue",
           "blue",
           "blue",
           "blue",
           "blue",
           "blue",
           "blue",
           "blue",
           "blue",
           "blue",
           "blue",
           "blue",
           "blue",
           "blue",
           "blue",
           "blue",
           "blue",
           "blue",
           "blue",
           "red",
           "red",
           "red",
           "red",
           "red",
           "red",
           "red",
           "red",
           "red",
           "red",
           "red",
           "red",
           "red",
           "red",
           "red",
           "red",
           "red",
           "red",
           "red",
           "red",
           "red",
           "red",
           "red",
           "red",
           "red",
           "red",
           "red",
           "red",
           "red",
           "red",
           "red",
           "red",
           "red",
           "red",
           "red",
           "red",
           "red",
           "red",
           "red",
           "red",
           "red",
           "red",
           "red",
           "red",
           "red",
           "red",
           "red",
           "red",
           "red",
           "red",
           "red",
           "red",
           "orange",
           "orange",
           "orange",
           "green",
           "green",
           "green",
           "green",
           "green",
           "green",
           "green",
           "green",
           "green",
           "green",
           "green",
           "green",
           "green",
           "green",
           "green",
           "green",
           "green",
           "green",
           "green",
           "green",
           "green",
           "green",
           "green",
           "green",
           "green",
           "green",
           "green",
           "green",
           "green",
           "green",
           "green",
           "green",
           "green",
           "green",
           "green",
           "green",
           "green",
           "green",
           "green",
           "green",
           "green",
           "green",
           "green",
           "green",
           "green",
           "green",
           "green"
          ],
          "opacity": 0.8,
          "size": 5
         },
         "mode": "markers",
         "text": [
          "Type: products<br>Text: # Product Summary\n\n# Rellm: AI-Powered Enterprise Reinsurance Solution\n\n## Summary\n\nRellm is an inno...",
          "Type: products<br>Text: ### Seamless Integrations\nRellm's architecture is designed for effortless integration with existing ...",
          "Type: products<br>Text: ### Regulatory Compliance Tools\nRellm includes built-in compliance tracking features to help organiz...",
          "Type: products<br>Text: Join the growing number of organizations leveraging Rellm to enhance their reinsurance processes whi...",
          "Type: products<br>Text: Experience the future of reinsurance with Rellm, where innovation meets reliability. Let Insurellm h...",
          "Type: products<br>Text: # Product Summary\n\n# Markellm\n\n## Summary\n\nMarkellm is an innovative two-sided marketplace designed ...",
          "Type: products<br>Text: - **User-Friendly Interface**: Designed with user experience in mind, Markellm features an intuitive...",
          "Type: products<br>Text: - **Customer Support**: Our dedicated support team is always available to assist both consumers and ...",
          "Type: products<br>Text: ### For Insurance Companies:\n- **Basic Listing Fee**: $199/month for a featured listing on the platf...",
          "Type: products<br>Text: ### Q3 2025\n- Initiate a comprehensive marketing campaign targeting both consumers and insurers to i...",
          "Type: products<br>Text: # Product Summary\n\n# Homellm\n\n## Summary\nHomellm is an innovative home insurance product developed b...",
          "Type: products<br>Text: ### 2. Dynamic Pricing Model\nWith Homellm's innovative dynamic pricing model, insurance providers ca...",
          "Type: products<br>Text: ### 5. Multi-Channel Integration\nHomellm seamlessly integrates into existing insurance platforms, pr...",
          "Type: products<br>Text: - **Basic Tier:** Starting at $5,000/month for small insurers with basic integration features.\n- **S...",
          "Type: products<br>Text: All tiers include a comprehensive training program and ongoing updates to ensure optimal performance...",
          "Type: products<br>Text: With Homellm, Insurellm is committed to transforming the landscape of home insurance, ensuring both ...",
          "Type: products<br>Text: # Product Summary\n\n# Carllm\n\n## Summary\n\nCarllm is an innovative auto insurance product developed by...",
          "Type: products<br>Text: - **Instant Quoting**: With Carllm, insurance companies can offer near-instant quotes to customers, ...",
          "Type: products<br>Text: - **Mobile Integration**: Carllm is designed to work seamlessly with mobile applications, providing ...",
          "Type: products<br>Text: - **Professional Tier**: $2,500/month\n  - For medium-sized companies.\n  - All Basic Tier features pl...",
          "Type: products<br>Text: ### Q2 2025: Customer Experience Improvements\n- Launch of a new **mobile app** for end-users.\n- Intr...",
          "Type: contracts<br>Text: # Contract with GreenField Holdings for Markellm\n\n**Effective Date:** November 15, 2023  \n**Contract...",
          "Type: contracts<br>Text: ## Renewal\n1. **Automatic Renewal**: This contract will automatically renew for sequential one-year ...",
          "Type: contracts<br>Text: ## Features\n1. **AI-Powered Matching**: Access to advanced algorithms that connect GreenField Holdin...",
          "Type: contracts<br>Text: ## Support\n1. **Customer Support Access**: The Client will have access to dedicated support through ...",
          "Type: contracts<br>Text: **Signatures:**  \n_________________________                           _________________________  \n**...",
          "Type: contracts<br>Text: # Contract with Apex Reinsurance for Rellm: AI-Powered Enterprise Reinsurance Solution\n\n## Terms\n\n1....",
          "Type: contracts<br>Text: ## Renewal\n\n1. **Automatic Renewal**: This Agreement will automatically renew for successive one-yea...",
          "Type: contracts<br>Text: 2. **Seamless Integrations**: The architecture of Rellm allows for easy integration with existing sy...",
          "Type: contracts<br>Text: 1. **Technical Support**: Provider shall offer dedicated technical support to the Client via phone, ...",
          "Type: contracts<br>Text: **Insurellm, Inc.**  \n_____________________________  \nAuthorized Signature   \nDate: ________________...",
          "Type: contracts<br>Text: # Contract with Greenstone Insurance for Homellm\n\n---\n\n## Terms\n\n1. **Parties**: This Contract (\"Agr...",
          "Type: contracts<br>Text: 4. **Payment Terms**: \n   - The Customer shall pay an amount of $10,000 per month for the Standard T...",
          "Type: contracts<br>Text: ---\n\n## Features\n\n- **AI-Powered Risk Assessment**: Customer will have access to enhanced risk evalu...",
          "Type: contracts<br>Text: - **Customer Portal**: A dedicated portal will be provided, allowing the Customer's clients to manag...",
          "Type: contracts<br>Text: ______________________________  \n[Name], [Title]  \nDate: ______________________\n\n**For Greenstone In...",
          "Type: contracts<br>Text: # Contract with Roadway Insurance Inc. for Carllm\n\n---\n\n## Terms\n\n1. **Agreement Effective Date**: T...",
          "Type: contracts<br>Text: ---\n\n## Renewal\n\n1. **Automatic Renewal**: This agreement will automatically renew for an additional...",
          "Type: contracts<br>Text: ---\n\n## Features\n\n1. **Access to Core Features**: Roadway Insurance Inc. will have access to all Pro...",
          "Type: contracts<br>Text: ---\n\n## Support\n\n1. **Technical Support**: Roadway Insurance Inc. will receive priority technical su...",
          "Type: contracts<br>Text: # Contract with Stellar Insurance Co. for Rellm\n\n## Terms\nThis contract is made between **Insurellm*...",
          "Type: contracts<br>Text: ### Termination\nEither party may terminate this agreement with a **30-day written notice**. In the e...",
          "Type: contracts<br>Text: ## Features\nStellar Insurance Co. will receive access to the following features of the Rellm product...",
          "Type: contracts<br>Text: ## Support\nInsurellm provides Stellar Insurance Co. with the following support services:\n\n- **24/7 T...",
          "Type: contracts<br>Text: # Contract with TechDrive Insurance for Carllm\n\n**Contract Date:** October 1, 2024  \n**Contract Dura...",
          "Type: contracts<br>Text: ## Renewal\n\n1. **Automatic Renewal**: This contract shall automatically renew for additional one-yea...",
          "Type: contracts<br>Text: ## Support\n\n1. **Customer Support**: Insurellm will provide 24/7 customer support to TechDrive Insur...",
          "Type: contracts<br>Text: **TechDrive Insurance Representative:**  \nName: Sarah Johnson  \nTitle: Operations Director  \nDate: _...",
          "Type: contracts<br>Text: # Contract with Belvedere Insurance for Markellm\n\n## Terms\nThis Contract (\"Agreement\") is made and e...",
          "Type: contracts<br>Text: ## Renewal\n1. **Renewal Terms**: This Agreement may be renewed for additional one-year terms upon mu...",
          "Type: contracts<br>Text: ## Features\n1. **AI-Powered Matching**: Belvedere Insurance will benefit from Markellm's AI-powered ...",
          "Type: contracts<br>Text: ## Support\n1. **Technical Support**: Technical support will be available from 9 AM to 7 PM EST, Mond...",
          "Type: contracts<br>Text: **Belvedere Insurance**  \nSignature: ______________________  \nName: [Authorized Signatory]  \nTitle: ...",
          "Type: contracts<br>Text: # Contract with Velocity Auto Solutions for Carllm\n\n**Contract Date:** October 1, 2023  \n**Contract ...",
          "Type: contracts<br>Text: ## Renewal\n\n1. **Automatic Renewal**: This contract will automatically renew for successive 12-month...",
          "Type: contracts<br>Text: ## Support\n\n1. **Customer Support**: Velocity Auto Solutions will have access to Insurellm’s custome...",
          "Type: contracts<br>Text: # Contract with GreenValley Insurance for Homellm\n\n**Contract Date:** October 6, 2023  \n**Contract N...",
          "Type: contracts<br>Text: 4. **Confidentiality:** Both parties agree to maintain the confidentiality of proprietary informatio...",
          "Type: contracts<br>Text: 1. **AI-Powered Risk Assessment:** Access to advanced AI algorithms for real-time risk evaluations.\n...",
          "Type: contracts<br>Text: 3. **Regular Updates:** Insurellm will offer ongoing updates and enhancements to the Homellm platfor...",
          "Type: contracts<br>Text: # Contract with EverGuard Insurance for Rellm: AI-Powered Enterprise Reinsurance Solution\n\n**Contrac...",
          "Type: contracts<br>Text: 4. **Usage Rights**: EverGuard Insurance is granted a non-exclusive, non-transferable license to acc...",
          "Type: contracts<br>Text: 1. **Core Functionality**: Rellm provides EverGuard Insurance with advanced AI-driven analytics, sea...",
          "Type: contracts<br>Text: 1. **Customer Support**: Insurellm will provide EverGuard Insurance with 24/7 customer support, incl...",
          "Type: contracts<br>Text: ---\n\n**Signatures**  \n**For Insurellm**: __________________________  \n**Name**: John Smith  \n**Title...",
          "Type: contracts<br>Text: # Contract with BrightWay Solutions for Markellm\n\n**Contract Date:** October 5, 2023  \n**Contract ID...",
          "Type: contracts<br>Text: 3. **Service Level Agreement (SLA):**  \n   Insurellm commits to a 99.9% uptime for the platform with...",
          "Type: contracts<br>Text: 2. **Real-Time Quote Availability:**  \n   Consumers sourced via BrightWay Solutions will receive rea...",
          "Type: contracts<br>Text: 3. **Training and Onboarding:**  \n   Insurellm agrees to provide one free training session on how to...",
          "Type: contracts<br>Text: # Contract with Pinnacle Insurance Co. for Homellm\n\n## Terms\nThis contract (\"Contract\") is entered i...",
          "Type: contracts<br>Text: ## Renewal\n1. **Renewal Terms**: At the end of the initial term, this Contract shall automatically r...",
          "Type: contracts<br>Text: ## Features\n1. **AI-Powered Risk Assessment**: Utilized for tailored underwriting decisions specific...",
          "Type: contracts<br>Text: ## Support\n1. **Technical Support**: Insurellm shall provide 24/7 technical support via an email and...",
          "Type: company<br>Text: # Overview of Insurellm\n\nInsurellm is an innovative insurance tech firm with 200 employees across th...",
          "Type: company<br>Text: # Careers at Insurellm\n\nInsurellm is hiring! We are looking for talented software engineers, data sc...",
          "Type: company<br>Text: # About Insurellm\n\nInsurellm was founded by Avery Lancaster in 2015 as an insurance tech startup des...",
          "Type: employees<br>Text: # HR Record\n\n# Alex Chen\n\n## Summary\n- **Date of Birth:** March 15, 1990  \n- **Job Title:** Backend ...",
          "Type: employees<br>Text: ## Annual Performance History\n- **2020:**  \n  - Completed onboarding successfully.  \n  - Met expecta...",
          "Type: employees<br>Text: ## Compensation History\n- **2020:** Base Salary: $80,000  \n- **2021:** Base Salary Increase to $90,0...",
          "Type: employees<br>Text: Alex Chen continues to be a vital asset at Insurellm, contributing significantly to innovative backe...",
          "Type: employees<br>Text: # HR Record\n\n# Oliver Spencer\n\n## Summary\n- **Date of Birth**: May 14, 1990  \n- **Job Title**: Backe...",
          "Type: employees<br>Text: ## Annual Performance History\n- **2018**: **3/5** - Adaptable team player but still learning to take...",
          "Type: employees<br>Text: ## Compensation History\n- **March 2018**: Initial salary of $80,000.\n- **July 2019**: Salary increas...",
          "Type: employees<br>Text: # HR Record\n\n# Emily Tran\n\n## Summary\n- **Date of Birth:** March 18, 1991  \n- **Job Title:** Digital...",
          "Type: employees<br>Text: - **January 2017 - May 2018**: Marketing Intern  \n  - Supported the Marketing team by collaborating ...",
          "Type: employees<br>Text: - **2021**:  \n  - Performance Rating: Meets Expectations  \n  - Key Achievements: Contributed to the ...",
          "Type: employees<br>Text: - **Professional Development Goals**:  \n  - Emily Tran aims to become a Marketing Manager within the...",
          "Type: employees<br>Text: # HR Record\n\n# Jordan Blake\n\n## Summary\n- **Date of Birth:** March 15, 1993  \n- **Job Title:** Sales...",
          "Type: employees<br>Text: ## Annual Performance History\n- **2021:** First year at Insurellm; achieved 90% of monthly targets. ...",
          "Type: employees<br>Text: ## Other HR Notes\n- Jordan has shown an interest in continuing education, actively participating in ...",
          "Type: employees<br>Text: # Avery Lancaster\n\n## Summary\n- **Date of Birth**: March 15, 1985  \n- **Job Title**: Co-Founder & Ch...",
          "Type: employees<br>Text: - **2010 - 2013**: Business Analyst at Edge Analytics  \n  Prior to joining Innovate, Avery worked as...",
          "Type: employees<br>Text: - **2018**: **Exceeds Expectations**  \n  Under Avery’s pivoted vision, Insurellm launched two new su...",
          "Type: employees<br>Text: - **2022**: **Satisfactory**  \n  Avery focused on rebuilding team dynamics and addressing employee c...",
          "Type: employees<br>Text: ## Compensation History\n- **2015**: $150,000 base salary + Significant equity stake  \n- **2016**: $1...",
          "Type: employees<br>Text: ## Other HR Notes\n- **Professional Development**: Avery has actively participated in leadership trai...",
          "Type: employees<br>Text: # HR Record\n\n# Maxine Thompson\n\n## Summary\n- **Date of Birth:** January 15, 1991  \n- **Job Title:** ...",
          "Type: employees<br>Text: ## Insurellm Career Progression\n- **January 2017 - October 2018**: **Junior Data Engineer**  \n  * Ma...",
          "Type: employees<br>Text: ## Annual Performance History\n- **2017**: *Meets Expectations*  \n  Maxine showed potential in her ro...",
          "Type: employees<br>Text: - **2021**: *Exceeds Expectations*  \n  Maxine spearheaded the transition to a new data warehousing s...",
          "Type: employees<br>Text: ## Compensation History\n- **2017**: $70,000 (Junior Data Engineer)  \n- **2018**: $75,000 (Junior Dat...",
          "Type: employees<br>Text: # Samantha Greene\n\n## Summary\n- **Date of Birth:** October 14, 1990\n- **Job Title:** HR Generalist\n-...",
          "Type: employees<br>Text: ## Annual Performance History\n- **2020:** Exceeds Expectations  \n  Samantha Greene demonstrated exce...",
          "Type: employees<br>Text: ## Compensation History\n- **2020:** Base Salary - $55,000  \n  The entry-level salary matched industr...",
          "Type: employees<br>Text: - **2023:** Base Salary - $70,000  \n  Recognized for substantial improvement in employee relations m...",
          "Type: employees<br>Text: # HR Record\n\n# Alex Thomson\n\n## Summary\n- **Date of Birth:** March 15, 1995  \n- **Job Title:** Sales...",
          "Type: employees<br>Text: ## Annual Performance History  \n- **2022** - Rated as \"Exceeds Expectations.\" Alex Thomson achieved ...",
          "Type: employees<br>Text: ## Other HR Notes\n- Alex Thomson is an active member of the Diversity and Inclusion committee at Ins...",
          "Type: employees<br>Text: # HR Record\n\n# Samuel Trenton\n\n## Summary\n- **Date of Birth:** April 12, 1989  \n- **Job Title:** Sen...",
          "Type: employees<br>Text: ## Annual Performance History\n- **2023:** Rating: 4.5/5  \n  *Samuel exceeded expectations, successfu...",
          "Type: employees<br>Text: ## Compensation History\n- **2023:** Base Salary: $115,000 + Bonus: $15,000  \n  *Annual bonus based o...",
          "Type: employees<br>Text: - **Engagement in Company Culture:** Regularly participates in team-building events and contributes ...",
          "Type: employees<br>Text: # HR Record\n\n# Alex Harper\n\n## Summary\n- **Date of Birth**: March 15, 1993  \n- **Job Title**: Sales ...",
          "Type: employees<br>Text: ## Annual Performance History  \n- **2021**:  \n  - **Performance Rating**: 4.5/5  \n  - **Key Achievem...",
          "Type: employees<br>Text: - **2022**:  \n  - **Base Salary**: $65,000 (Promotion to Senior SDR)  \n  - **Bonus**: $13,000 (20% o...",
          "Type: employees<br>Text: # HR Record\n\n# Jordan K. Bishop\n\n## Summary\n- **Date of Birth:** March 15, 1990\n- **Job Title:** Fro...",
          "Type: employees<br>Text: ## Annual Performance History\n- **2019:** Exceeds Expectations - Continuously delivered high-quality...",
          "Type: employees<br>Text: ## Compensation History\n- **June 2018:** Starting Salary - $85,000\n- **June 2019:** Salary Increase ...",
          "Type: employees<br>Text: ## Other HR Notes\n- Jordan K. Bishop has been an integral part of club initiatives, including the In...",
          "Type: employees<br>Text: # HR Record\n\n# Emily Carter\n\n## Summary\n- **Date of Birth:** August 12, 1990  \n- **Job Title:** Acco...",
          "Type: employees<br>Text: - **2017-2019:** Marketing Intern  \n  - Assisted with market research and campaign development for s...",
          "Type: employees<br>Text: ## Compensation History\n| Year | Base Salary | Bonus         | Total Compensation |\n|------|--------...",
          "Type: employees<br>Text: Emily Carter exemplifies the kind of talent that drives Insurellm's success and is an invaluable ass..."
         ],
         "type": "scatter3d",
         "x": {
          "_inputArray": {
           "0": -25.600032806396484,
           "1": -32.72956848144531,
           "10": 35.16373062133789,
           "100": -8.485557556152344,
           "101": 40.41541290283203,
           "102": 27.686094284057617,
           "103": 6.606799125671387,
           "104": 20.5593318939209,
           "105": -50.139522552490234,
           "106": -4.103260040283203,
           "107": -64.02820587158203,
           "108": 10.652027130126953,
           "109": 3.909198760986328,
           "11": -3.585498332977295,
           "110": -55.89039611816406,
           "111": 34.400115966796875,
           "112": -36.61485290527344,
           "113": -23.51922607421875,
           "114": -34.800811767578125,
           "115": 12.164721488952637,
           "116": 39.48076248168945,
           "117": -47.38109588623047,
           "118": 34.5035514831543,
           "119": -62.39392852783203,
           "12": 52.4510498046875,
           "120": 67.7000503540039,
           "121": -35.19155502319336,
           "122": -54.665771484375,
           "13": 74.27809143066406,
           "14": 68.78396606445312,
           "15": 53.1224250793457,
           "16": 3.593881368637085,
           "17": 6.2702178955078125,
           "18": -6.066632270812988,
           "19": 14.486776351928711,
           "2": -58.14906692504883,
           "20": -22.67796516418457,
           "21": -56.889461517333984,
           "22": 46.68148422241211,
           "23": -10.189088821411133,
           "24": 100.52622985839844,
           "25": -57.230098724365234,
           "26": -21.963380813598633,
           "27": -1.948554277420044,
           "28": -44.84386444091797,
           "29": 54.4909782409668,
           "3": -39.13576126098633,
           "30": -52.69435501098633,
           "31": 31.887523651123047,
           "32": 72.62728881835938,
           "33": 35.87321853637695,
           "34": 77.08917236328125,
           "35": -79.56636047363281,
           "36": 2.1818649768829346,
           "37": 34.444725036621094,
           "38": 36.80052185058594,
           "39": 28.362079620361328,
           "4": 57.86281967163086,
           "40": 82.63851165771484,
           "41": 53.08113098144531,
           "42": -8.874454498291016,
           "43": 58.66355514526367,
           "44": 14.004133224487305,
           "45": 17.03800392150879,
           "46": 19.443960189819336,
           "47": -3.5053722858428955,
           "48": -70.51713562011719,
           "49": 25.072168350219727,
           "5": 1.209213376045227,
           "50": -75.50469207763672,
           "51": 37.16434097290039,
           "52": -62.96034240722656,
           "53": 34.71990203857422,
           "54": 38.87337112426758,
           "55": 43.48267364501953,
           "56": 72.85659790039062,
           "57": 11.42874526977539,
           "58": -33.62760543823242,
           "59": -38.22539520263672,
           "6": 16.41307258605957,
           "60": -14.485331535339355,
           "61": 12.128745079040527,
           "62": -34.3376350402832,
           "63": -3.729045867919922,
           "64": -25.250146865844727,
           "65": -44.11140060424805,
           "66": -5.354851245880127,
           "67": -41.76572036743164,
           "68": -31.967464447021484,
           "69": 78.07652282714844,
           "7": 2.004265546798706,
           "70": 25.570749282836914,
           "71": -21.652870178222656,
           "72": 56.331268310546875,
           "73": -72.1254653930664,
           "74": 33.41946792602539,
           "75": 20.68454360961914,
           "76": -12.927212715148926,
           "77": 35.80142593383789,
           "78": -40.24502182006836,
           "79": -31.35471534729004,
           "8": -77.36614990234375,
           "80": 0.41432875394821167,
           "81": 14.563178062438965,
           "82": -28.914709091186523,
           "83": -59.33204650878906,
           "84": -11.419731140136719,
           "85": -11.5798978805542,
           "86": -36.83842468261719,
           "87": -18.46139907836914,
           "88": -48.353485107421875,
           "89": 55.60056686401367,
           "9": -17.820777893066406,
           "90": -55.72879409790039,
           "91": -8.460329055786133,
           "92": -6.632147312164307,
           "93": 10.886173248291016,
           "94": -19.317296981811523,
           "95": -33.73574447631836,
           "96": 34.36158752441406,
           "97": 5.875661849975586,
           "98": 35.984283447265625,
           "99": 13.834685325622559,
           "bdata": "3szMwRTrAsKlmGjCBYscwodzZ0KBx5o/+U2DQeNFAEB4u5rC9JCOwamnDELOeGXA4M1RQmKOlEJkkYlCXX1UQicCZkCgpchA2iHCwNbJZ0F5bLXBz45jwte5OkKCBiPBbg3JQp/rZMIBta/BOmr5vx5gM8LD9llCBcdSwqYZ/0EsQZFCLX4PQqgtmkL6IZ/CraMLQGbHCUK8MxNCiuXiQetGpUIUU1RCxP0NwXunakLuEGBB1U2IQTuNm0EFWGDAxgiNws2TyEFnApfCSagUQmTXe8Iu4QpCVX4bQkLuLUKUtpFCJNw2QauCBsLO5hjC68NnwVcPQkG9WQnCsKhuwE0AysETcjDC8VqrwBkQJ8Jevf/BLiecQuWQzEEUOa3BOFNhQj1AkMKJrQVC8nmlQd3VTsGpNA9C5/ogwnXW+sHmItQ+xwJpQVNR58EEVG3COLc2wUNHOcGMWhPC8rCTwfhpQcL7Zl5CSepewoJdB8GNOtTAxC0uQdOJmsFn8QbCRHIJQmwFvEDo7w9C31pdQdjEB8FiqSFCH33dQeZq00CDeaRB345IwuhNg8BxDoDCtG4qQVAwekDEj1/CuJkJQpx1EsJgJ7zBCDQLwrOiQkFN7B1CPoY9wqMDCkJik3nCbWaHQifEDMLAqVrC",
           "dtype": "f4",
           "shape": "123"
          },
          "bdata": "3szMwRTrAsKlmGjCBYscwodzZ0KBx5o/+U2DQeNFAEB4u5rC9JCOwamnDELOeGXA4M1RQmKOlEJkkYlCXX1UQicCZkCgpchA2iHCwNbJZ0F5bLXBz45jwte5OkKCBiPBbg3JQp/rZMIBta/BOmr5vx5gM8LD9llCBcdSwqYZ/0EsQZFCLX4PQqgtmkL6IZ/CraMLQGbHCUK8MxNCiuXiQetGpUIUU1RCxP0NwXunakLuEGBB1U2IQTuNm0EFWGDAxgiNws2TyEFnApfCSagUQmTXe8Iu4QpCVX4bQkLuLUKUtpFCJNw2QauCBsLO5hjC68NnwVcPQkG9WQnCsKhuwE0AysETcjDC8VqrwBkQJ8Jevf/BLiecQuWQzEEUOa3BOFNhQj1AkMKJrQVC8nmlQd3VTsGpNA9C5/ogwnXW+sHmItQ+xwJpQVNR58EEVG3COLc2wUNHOcGMWhPC8rCTwfhpQcL7Zl5CSepewoJdB8GNOtTAxC0uQdOJmsFn8QbCRHIJQmwFvEDo7w9C31pdQdjEB8FiqSFCH33dQeZq00CDeaRB345IwuhNg8BxDoDCtG4qQVAwekDEj1/CuJkJQpx1EsJgJ7zBCDQLwrOiQkFN7B1CPoY9wqMDCkJik3nCbWaHQifEDMLAqVrC",
          "dtype": "f4"
         },
         "y": {
          "_inputArray": {
           "0": 28.498313903808594,
           "1": 59.149784088134766,
           "10": 16.91840171813965,
           "100": -103.02378845214844,
           "101": -101.35054779052734,
           "102": -80.06639099121094,
           "103": -104.49016571044922,
           "104": -90.1859359741211,
           "105": 6.359616756439209,
           "106": -61.701656341552734,
           "107": -11.008551597595215,
           "108": -27.832473754882812,
           "109": -60.52169418334961,
           "11": 79.0384292602539,
           "110": 14.0985689163208,
           "111": -52.891361236572266,
           "112": -9.419689178466797,
           "113": -63.84736251831055,
           "114": -40.797767639160156,
           "115": -8.137521743774414,
           "116": -42.28285598754883,
           "117": -91.64026641845703,
           "118": -13.663017272949219,
           "119": -54.58930587768555,
           "12": 17.039724349975586,
           "120": -59.811824798583984,
           "121": -88.97704315185547,
           "122": 5.261011123657227,
           "13": 44.45396423339844,
           "14": 40.729366302490234,
           "15": -5.485687255859375,
           "16": 10.826510429382324,
           "17": 26.926544189453125,
           "18": 39.33222198486328,
           "19": 86.8061294555664,
           "2": 42.37784194946289,
           "20": 8.052536964416504,
           "21": 69.19426727294922,
           "22": 87.51130676269531,
           "23": 115.55467224121094,
           "24": 3.5768232345581055,
           "25": -53.854942321777344,
           "26": 68.55023193359375,
           "27": 72.98092651367188,
           "28": 71.05659484863281,
           "29": -7.317256450653076,
           "3": 12.00898551940918,
           "30": -39.58499526977539,
           "31": 48.70835494995117,
           "32": 72.27400207519531,
           "33": 45.02091598510742,
           "34": 29.030715942382812,
           "35": -46.2333984375,
           "36": 66.9590835571289,
           "37": 88.83616638183594,
           "38": 46.95572280883789,
           "39": 32.90620803833008,
           "4": -34.3782844543457,
           "40": -21.64244842529297,
           "41": 37.536624908447266,
           "42": 47.896297454833984,
           "43": -19.945798873901367,
           "44": 43.34868240356445,
           "45": 60.22501754760742,
           "46": 14.084881782531738,
           "47": 19.05421257019043,
           "48": 47.00006866455078,
           "49": 84.43094635009766,
           "5": 2.084865093231201,
           "50": 14.32953929901123,
           "51": -1.7524621486663818,
           "52": -20.492576599121094,
           "53": 60.29196548461914,
           "54": 65.43173217773438,
           "55": 25.12196922302246,
           "56": 65.68029022216797,
           "57": 44.86057662963867,
           "58": 101.47969055175781,
           "59": 24.238351821899414,
           "6": -2.9949300289154053,
           "60": 44.50111389160156,
           "61": 40.38472366333008,
           "62": 45.000404357910156,
           "63": -39.460182189941406,
           "64": -53.664363861083984,
           "65": 48.602813720703125,
           "66": 2.3437581062316895,
           "67": 73.66365814208984,
           "68": -20.37942886352539,
           "69": 38.09573745727539,
           "7": -63.02052307128906,
           "70": 100.12467193603516,
           "71": 102.69271850585938,
           "72": 14.04598617553711,
           "73": 5.420425891876221,
           "74": -46.39912414550781,
           "75": -29.988189697265625,
           "76": 3.9167988300323486,
           "77": -54.226905822753906,
           "78": -71.39816284179688,
           "79": -6.405767440795898,
           "8": 43.88249588012695,
           "80": 0.7620630264282227,
           "81": -48.827735900878906,
           "82": -49.12528991699219,
           "83": -71.53945922851562,
           "84": 102.22903442382812,
           "85": -75.26959991455078,
           "86": -77.82410430908203,
           "87": -24.351831436157227,
           "88": -52.723793029785156,
           "89": -17.873796463012695,
           "9": -8.959287643432617,
           "90": -25.646875381469727,
           "91": -29.869714736938477,
           "92": -47.77520751953125,
           "93": -34.14021682739258,
           "94": -95.59564208984375,
           "95": -24.084720611572266,
           "96": -4.461272716522217,
           "97": -93.5816879272461,
           "98": -65.6053695678711,
           "99": -68.77532196044922,
           "bdata": "jPzjQWGZbELpgilCziRAQV2DCcJubgVA76w/wAQVfMKthy9CPlkPweNYh0GtE55CW1GIQdzQMULf6iJCwIqvwGM5LUGQaddBMlQdQr2crUIx1wBBd2OKQsoFr0L+G+dCrOpkQHZrV8K4GYlCPPaRQvocjkL3JurACVcewlvVQkJKjJBCaxU0Qug+6EEA7zjCDeuFQh6ssUKp0jtC9Z8DQrwjrcGBJRZCz5U/Qv+Qn8ENZS1Ca+ZwQq1bYUEHb5hBEgA8QqXcqELLRWVBrlDgv8zwo8H5KnFCDN2CQsv5yEFPXINCO3EzQpr1ykIl6MFBJAEyQvWJIUJqADRCOtcdwk+oVsJIaUJCIgAWQMtTk0ISCaPBCWIYQtU/yEKsYs1CXLxgQSF0rUC0mDnC0OfvwdWsekBa6FjC3MuOwgz8zMCQFkM/mk9DwkyARMI0FI/CRHXMQgmKlsLxpZvCjdDCwSrlUsKJ/Y7BzSzNwS317sHQGT/ClY8Iwvgwv8KCrcDBv8KOwNMpu8LzNYPC94yJwi4MzsJ7s8rC/iGgwvf60MIzX7TC+4HLQH/OdsIHIzDB6KjewTcWcsK9k2FBwZBTwgy3FsGzY3/C6jAjwkozAsGlISnC0Ue3wribWsFzW1rCTz9vwj/0scI0WqhA",
           "dtype": "f4",
           "shape": "123"
          },
          "bdata": "jPzjQWGZbELpgilCziRAQV2DCcJubgVA76w/wAQVfMKthy9CPlkPweNYh0GtE55CW1GIQdzQMULf6iJCwIqvwGM5LUGQaddBMlQdQr2crUIx1wBBd2OKQsoFr0L+G+dCrOpkQHZrV8K4GYlCPPaRQvocjkL3JurACVcewlvVQkJKjJBCaxU0Qug+6EEA7zjCDeuFQh6ssUKp0jtC9Z8DQrwjrcGBJRZCz5U/Qv+Qn8ENZS1Ca+ZwQq1bYUEHb5hBEgA8QqXcqELLRWVBrlDgv8zwo8H5KnFCDN2CQsv5yEFPXINCO3EzQpr1ykIl6MFBJAEyQvWJIUJqADRCOtcdwk+oVsJIaUJCIgAWQMtTk0ISCaPBCWIYQtU/yEKsYs1CXLxgQSF0rUC0mDnC0OfvwdWsekBa6FjC3MuOwgz8zMCQFkM/mk9DwkyARMI0FI/CRHXMQgmKlsLxpZvCjdDCwSrlUsKJ/Y7BzSzNwS317sHQGT/ClY8Iwvgwv8KCrcDBv8KOwNMpu8LzNYPC94yJwi4MzsJ7s8rC/iGgwvf60MIzX7TC+4HLQH/OdsIHIzDB6KjewTcWcsK9k2FBwZBTwgy3FsGzY3/C6jAjwkozAsGlISnC0Ue3wribWsFzW1rCTz9vwj/0scI0WqhA",
          "dtype": "f4"
         },
         "z": {
          "_inputArray": {
           "0": 68.83599090576172,
           "1": 65.40265655517578,
           "10": 72.99324798583984,
           "100": -6.298933982849121,
           "101": -40.748451232910156,
           "102": -23.675777435302734,
           "103": -38.250755310058594,
           "104": -53.6719970703125,
           "105": -69.07324981689453,
           "106": -93.5617446899414,
           "107": -61.669036865234375,
           "108": -82.69100189208984,
           "109": -61.957149505615234,
           "11": -74.81990051269531,
           "110": 96.42715454101562,
           "111": -78.82357025146484,
           "112": -82.45758056640625,
           "113": -71.65667724609375,
           "114": -91.3139419555664,
           "115": -59.1233024597168,
           "116": -19.51814842224121,
           "117": -66.68757629394531,
           "118": -49.36087417602539,
           "119": -18.88497543334961,
           "12": 47.44997024536133,
           "120": -41.248844146728516,
           "121": -25.652925491333008,
           "122": -31.947776794433594,
           "13": 41.527679443359375,
           "14": 68.2283935546875,
           "15": 67.63798522949219,
           "16": 11.415288925170898,
           "17": 28.65089225769043,
           "18": 5.9989776611328125,
           "19": -8.268867492675781,
           "2": 56.15589141845703,
           "20": 23.617582321166992,
           "21": -7.195291042327881,
           "22": 49.51607131958008,
           "23": 8.771125793457031,
           "24": -26.697731018066406,
           "25": 60.43801498413086,
           "26": 4.101186752319336,
           "27": 30.009658813476562,
           "28": 46.61808776855469,
           "29": -12.443595886230469,
           "3": 44.76926040649414,
           "30": 39.112606048583984,
           "31": -88.58870697021484,
           "32": 18.141874313354492,
           "33": 53.679290771484375,
           "34": 1.6255922317504883,
           "35": 53.694854736328125,
           "36": -27.886089324951172,
           "37": 20.52204704284668,
           "38": 25.13125228881836,
           "39": -0.7299891114234924,
           "4": 67.8740234375,
           "40": 5.405200481414795,
           "41": -61.79877471923828,
           "42": 50.171142578125,
           "43": 21.370378494262695,
           "44": -26.864274978637695,
           "45": 4.996335506439209,
           "46": -19.704313278198242,
           "47": -26.790430068969727,
           "48": -20.66193962097168,
           "49": 66.84500122070312,
           "5": 61.998138427734375,
           "50": 35.12876510620117,
           "51": 7.710880756378174,
           "52": 57.93894577026367,
           "53": -29.736637115478516,
           "54": 0.3213282823562622,
           "55": -25.110309600830078,
           "56": -22.956830978393555,
           "57": 80.6844711303711,
           "58": 10.298232078552246,
           "59": -1.726035475730896,
           "6": 44.30250930786133,
           "60": -56.79738235473633,
           "61": -60.590362548828125,
           "62": 36.26753234863281,
           "63": 41.635154724121094,
           "64": 51.19539260864258,
           "65": -28.767126083374023,
           "66": 100.67544555664062,
           "67": -41.82732009887695,
           "68": 80.10753631591797,
           "69": -34.57961654663086,
           "7": 76.03175354003906,
           "70": 49.033504486083984,
           "71": 42.33646011352539,
           "72": 5.695379734039307,
           "73": -0.25724029541015625,
           "74": 44.38837814331055,
           "75": 65.63526153564453,
           "76": -64.03884887695312,
           "77": -41.525352478027344,
           "78": -44.129539489746094,
           "79": -32.097286224365234,
           "8": 12.263571739196777,
           "80": -85.21537780761719,
           "81": -29.743274688720703,
           "82": -39.518043518066406,
           "83": 1.40354585647583,
           "84": -43.6175537109375,
           "85": -30.674665451049805,
           "86": 12.950726509094238,
           "87": -65.94352722167969,
           "88": -61.71293258666992,
           "89": -61.38977813720703,
           "9": 44.63264465332031,
           "90": 1.5063209533691406,
           "91": -13.1763916015625,
           "92": 4.527614116668701,
           "93": 6.396548271179199,
           "94": -57.39482498168945,
           "95": -1.635769009590149,
           "96": -97.37628173828125,
           "97": 14.883004188537598,
           "98": -1.2795320749282837,
           "99": 11.465545654296875,
           "bdata": "B6yJQinOgkKin2BCuRMzQoC/h0IY/ndCxTUxQkIQmEKXN0RB1IcyQov8kULKo5XCxcw9QlgcJkLwdIhCpkaHQgalNkEHNeVBoPe/QEhNBMHP8LxB0z/mwHUQRkKIVgxB9JTVwYfAcULsPINAyBPwQex4OkL4GEfBT3McQmstscKPIpFBmLdWQmgT0D+Ix1ZCthbfwSctpEHODMlBkeA6v2f3rEDyMXfCQK9IQon2qkEJ6tbB++GfQG+incHNUtbBp0ulwaSwhULbgwxCib/2QHvBZ0Ki5O3BJIWkPurhyMGXp7fBc16hQo/FJEG77ty/hTBjwohccsL0ERFCZoomQhXITEITI+bB1FnJQi1PJ8IPN6BCh1EKwk8iREKJWClCjUC2QAC1g76zjTFCQUWDQuQTgML2GSbCpoQwwp9jAMJGbqrCOvLtwXoSHsJkp7M/YHguwrdl9cEtNk9BFuODwgvadsIij3XCIM/AP4DSUsE34pBAhrDMQE2UZcLhYNG/qMDCwskgbkG1x6O/4HI3Qd6QycBq/iLC/me9wcYAGcIgsFbCgSWKwp0fu8IYrXbCy2Glwh/Ud8K02sBCq6WdwkjqpMI4UI/CvaC2wkN+bMIrJZzBCmCFwolxRcJuFJfB0f4kwjE5zcEMlf/B",
           "dtype": "f4",
           "shape": "123"
          },
          "bdata": "B6yJQinOgkKin2BCuRMzQoC/h0IY/ndCxTUxQkIQmEKXN0RB1IcyQov8kULKo5XCxcw9QlgcJkLwdIhCpkaHQgalNkEHNeVBoPe/QEhNBMHP8LxB0z/mwHUQRkKIVgxB9JTVwYfAcULsPINAyBPwQex4OkL4GEfBT3McQmstscKPIpFBmLdWQmgT0D+Ix1ZCthbfwSctpEHODMlBkeA6v2f3rEDyMXfCQK9IQon2qkEJ6tbB++GfQG+incHNUtbBp0ulwaSwhULbgwxCib/2QHvBZ0Ki5O3BJIWkPurhyMGXp7fBc16hQo/FJEG77ty/hTBjwohccsL0ERFCZoomQhXITEITI+bB1FnJQi1PJ8IPN6BCh1EKwk8iREKJWClCjUC2QAC1g76zjTFCQUWDQuQTgML2GSbCpoQwwp9jAMJGbqrCOvLtwXoSHsJkp7M/YHguwrdl9cEtNk9BFuODwgvadsIij3XCIM/AP4DSUsE34pBAhrDMQE2UZcLhYNG/qMDCwskgbkG1x6O/4HI3Qd6QycBq/iLC/me9wcYAGcIgsFbCgSWKwp0fu8IYrXbCy2Glwh/Ud8K02sBCq6WdwkjqpMI4UI/CvaC2wkN+bMIrJZzBCmCFwolxRcJuFJfB0f4kwjE5zcEMlf/B",
          "dtype": "f4"
         }
        }
       ],
       "layout": {
        "height": 700,
        "margin": {
         "b": 10,
         "l": 10,
         "r": 20,
         "t": 40
        },
        "scene": {
         "aspectmode": "auto",
         "aspectratio": {
          "x": 0.9062206552492941,
          "y": 1.1072591985330076,
          "z": 0.9965905079801418
         },
         "camera": {
          "center": {
           "x": 0,
           "y": 0,
           "z": 0
          },
          "eye": {
           "x": 0.6143182769147552,
           "y": 1.531093026210889,
           "z": 0.5879489607781496
          },
          "projection": {
           "type": "perspective"
          },
          "up": {
           "x": -0.66536725736793,
           "y": -0.019603503126366495,
           "z": 0.7462587456692578
          }
         },
         "xaxis": {
          "title": {
           "text": "x"
          },
          "type": "linear"
         },
         "yaxis": {
          "title": {
           "text": "y"
          },
          "type": "linear"
         },
         "zaxis": {
          "title": {
           "text": "z"
          },
          "type": "linear"
         }
        },
        "template": {
         "data": {
          "bar": [
           {
            "error_x": {
             "color": "#2a3f5f"
            },
            "error_y": {
             "color": "#2a3f5f"
            },
            "marker": {
             "line": {
              "color": "#E5ECF6",
              "width": 0.5
             },
             "pattern": {
              "fillmode": "overlay",
              "size": 10,
              "solidity": 0.2
             }
            },
            "type": "bar"
           }
          ],
          "barpolar": [
           {
            "marker": {
             "line": {
              "color": "#E5ECF6",
              "width": 0.5
             },
             "pattern": {
              "fillmode": "overlay",
              "size": 10,
              "solidity": 0.2
             }
            },
            "type": "barpolar"
           }
          ],
          "carpet": [
           {
            "aaxis": {
             "endlinecolor": "#2a3f5f",
             "gridcolor": "white",
             "linecolor": "white",
             "minorgridcolor": "white",
             "startlinecolor": "#2a3f5f"
            },
            "baxis": {
             "endlinecolor": "#2a3f5f",
             "gridcolor": "white",
             "linecolor": "white",
             "minorgridcolor": "white",
             "startlinecolor": "#2a3f5f"
            },
            "type": "carpet"
           }
          ],
          "choropleth": [
           {
            "colorbar": {
             "outlinewidth": 0,
             "ticks": ""
            },
            "type": "choropleth"
           }
          ],
          "contour": [
           {
            "colorbar": {
             "outlinewidth": 0,
             "ticks": ""
            },
            "colorscale": [
             [
              0,
              "#0d0887"
             ],
             [
              0.1111111111111111,
              "#46039f"
             ],
             [
              0.2222222222222222,
              "#7201a8"
             ],
             [
              0.3333333333333333,
              "#9c179e"
             ],
             [
              0.4444444444444444,
              "#bd3786"
             ],
             [
              0.5555555555555556,
              "#d8576b"
             ],
             [
              0.6666666666666666,
              "#ed7953"
             ],
             [
              0.7777777777777778,
              "#fb9f3a"
             ],
             [
              0.8888888888888888,
              "#fdca26"
             ],
             [
              1,
              "#f0f921"
             ]
            ],
            "type": "contour"
           }
          ],
          "contourcarpet": [
           {
            "colorbar": {
             "outlinewidth": 0,
             "ticks": ""
            },
            "type": "contourcarpet"
           }
          ],
          "heatmap": [
           {
            "colorbar": {
             "outlinewidth": 0,
             "ticks": ""
            },
            "colorscale": [
             [
              0,
              "#0d0887"
             ],
             [
              0.1111111111111111,
              "#46039f"
             ],
             [
              0.2222222222222222,
              "#7201a8"
             ],
             [
              0.3333333333333333,
              "#9c179e"
             ],
             [
              0.4444444444444444,
              "#bd3786"
             ],
             [
              0.5555555555555556,
              "#d8576b"
             ],
             [
              0.6666666666666666,
              "#ed7953"
             ],
             [
              0.7777777777777778,
              "#fb9f3a"
             ],
             [
              0.8888888888888888,
              "#fdca26"
             ],
             [
              1,
              "#f0f921"
             ]
            ],
            "type": "heatmap"
           }
          ],
          "histogram": [
           {
            "marker": {
             "pattern": {
              "fillmode": "overlay",
              "size": 10,
              "solidity": 0.2
             }
            },
            "type": "histogram"
           }
          ],
          "histogram2d": [
           {
            "colorbar": {
             "outlinewidth": 0,
             "ticks": ""
            },
            "colorscale": [
             [
              0,
              "#0d0887"
             ],
             [
              0.1111111111111111,
              "#46039f"
             ],
             [
              0.2222222222222222,
              "#7201a8"
             ],
             [
              0.3333333333333333,
              "#9c179e"
             ],
             [
              0.4444444444444444,
              "#bd3786"
             ],
             [
              0.5555555555555556,
              "#d8576b"
             ],
             [
              0.6666666666666666,
              "#ed7953"
             ],
             [
              0.7777777777777778,
              "#fb9f3a"
             ],
             [
              0.8888888888888888,
              "#fdca26"
             ],
             [
              1,
              "#f0f921"
             ]
            ],
            "type": "histogram2d"
           }
          ],
          "histogram2dcontour": [
           {
            "colorbar": {
             "outlinewidth": 0,
             "ticks": ""
            },
            "colorscale": [
             [
              0,
              "#0d0887"
             ],
             [
              0.1111111111111111,
              "#46039f"
             ],
             [
              0.2222222222222222,
              "#7201a8"
             ],
             [
              0.3333333333333333,
              "#9c179e"
             ],
             [
              0.4444444444444444,
              "#bd3786"
             ],
             [
              0.5555555555555556,
              "#d8576b"
             ],
             [
              0.6666666666666666,
              "#ed7953"
             ],
             [
              0.7777777777777778,
              "#fb9f3a"
             ],
             [
              0.8888888888888888,
              "#fdca26"
             ],
             [
              1,
              "#f0f921"
             ]
            ],
            "type": "histogram2dcontour"
           }
          ],
          "mesh3d": [
           {
            "colorbar": {
             "outlinewidth": 0,
             "ticks": ""
            },
            "type": "mesh3d"
           }
          ],
          "parcoords": [
           {
            "line": {
             "colorbar": {
              "outlinewidth": 0,
              "ticks": ""
             }
            },
            "type": "parcoords"
           }
          ],
          "pie": [
           {
            "automargin": true,
            "type": "pie"
           }
          ],
          "scatter": [
           {
            "fillpattern": {
             "fillmode": "overlay",
             "size": 10,
             "solidity": 0.2
            },
            "type": "scatter"
           }
          ],
          "scatter3d": [
           {
            "line": {
             "colorbar": {
              "outlinewidth": 0,
              "ticks": ""
             }
            },
            "marker": {
             "colorbar": {
              "outlinewidth": 0,
              "ticks": ""
             }
            },
            "type": "scatter3d"
           }
          ],
          "scattercarpet": [
           {
            "marker": {
             "colorbar": {
              "outlinewidth": 0,
              "ticks": ""
             }
            },
            "type": "scattercarpet"
           }
          ],
          "scattergeo": [
           {
            "marker": {
             "colorbar": {
              "outlinewidth": 0,
              "ticks": ""
             }
            },
            "type": "scattergeo"
           }
          ],
          "scattergl": [
           {
            "marker": {
             "colorbar": {
              "outlinewidth": 0,
              "ticks": ""
             }
            },
            "type": "scattergl"
           }
          ],
          "scattermap": [
           {
            "marker": {
             "colorbar": {
              "outlinewidth": 0,
              "ticks": ""
             }
            },
            "type": "scattermap"
           }
          ],
          "scattermapbox": [
           {
            "marker": {
             "colorbar": {
              "outlinewidth": 0,
              "ticks": ""
             }
            },
            "type": "scattermapbox"
           }
          ],
          "scatterpolar": [
           {
            "marker": {
             "colorbar": {
              "outlinewidth": 0,
              "ticks": ""
             }
            },
            "type": "scatterpolar"
           }
          ],
          "scatterpolargl": [
           {
            "marker": {
             "colorbar": {
              "outlinewidth": 0,
              "ticks": ""
             }
            },
            "type": "scatterpolargl"
           }
          ],
          "scatterternary": [
           {
            "marker": {
             "colorbar": {
              "outlinewidth": 0,
              "ticks": ""
             }
            },
            "type": "scatterternary"
           }
          ],
          "surface": [
           {
            "colorbar": {
             "outlinewidth": 0,
             "ticks": ""
            },
            "colorscale": [
             [
              0,
              "#0d0887"
             ],
             [
              0.1111111111111111,
              "#46039f"
             ],
             [
              0.2222222222222222,
              "#7201a8"
             ],
             [
              0.3333333333333333,
              "#9c179e"
             ],
             [
              0.4444444444444444,
              "#bd3786"
             ],
             [
              0.5555555555555556,
              "#d8576b"
             ],
             [
              0.6666666666666666,
              "#ed7953"
             ],
             [
              0.7777777777777778,
              "#fb9f3a"
             ],
             [
              0.8888888888888888,
              "#fdca26"
             ],
             [
              1,
              "#f0f921"
             ]
            ],
            "type": "surface"
           }
          ],
          "table": [
           {
            "cells": {
             "fill": {
              "color": "#EBF0F8"
             },
             "line": {
              "color": "white"
             }
            },
            "header": {
             "fill": {
              "color": "#C8D4E3"
             },
             "line": {
              "color": "white"
             }
            },
            "type": "table"
           }
          ]
         },
         "layout": {
          "annotationdefaults": {
           "arrowcolor": "#2a3f5f",
           "arrowhead": 0,
           "arrowwidth": 1
          },
          "autotypenumbers": "strict",
          "coloraxis": {
           "colorbar": {
            "outlinewidth": 0,
            "ticks": ""
           }
          },
          "colorscale": {
           "diverging": [
            [
             0,
             "#8e0152"
            ],
            [
             0.1,
             "#c51b7d"
            ],
            [
             0.2,
             "#de77ae"
            ],
            [
             0.3,
             "#f1b6da"
            ],
            [
             0.4,
             "#fde0ef"
            ],
            [
             0.5,
             "#f7f7f7"
            ],
            [
             0.6,
             "#e6f5d0"
            ],
            [
             0.7,
             "#b8e186"
            ],
            [
             0.8,
             "#7fbc41"
            ],
            [
             0.9,
             "#4d9221"
            ],
            [
             1,
             "#276419"
            ]
           ],
           "sequential": [
            [
             0,
             "#0d0887"
            ],
            [
             0.1111111111111111,
             "#46039f"
            ],
            [
             0.2222222222222222,
             "#7201a8"
            ],
            [
             0.3333333333333333,
             "#9c179e"
            ],
            [
             0.4444444444444444,
             "#bd3786"
            ],
            [
             0.5555555555555556,
             "#d8576b"
            ],
            [
             0.6666666666666666,
             "#ed7953"
            ],
            [
             0.7777777777777778,
             "#fb9f3a"
            ],
            [
             0.8888888888888888,
             "#fdca26"
            ],
            [
             1,
             "#f0f921"
            ]
           ],
           "sequentialminus": [
            [
             0,
             "#0d0887"
            ],
            [
             0.1111111111111111,
             "#46039f"
            ],
            [
             0.2222222222222222,
             "#7201a8"
            ],
            [
             0.3333333333333333,
             "#9c179e"
            ],
            [
             0.4444444444444444,
             "#bd3786"
            ],
            [
             0.5555555555555556,
             "#d8576b"
            ],
            [
             0.6666666666666666,
             "#ed7953"
            ],
            [
             0.7777777777777778,
             "#fb9f3a"
            ],
            [
             0.8888888888888888,
             "#fdca26"
            ],
            [
             1,
             "#f0f921"
            ]
           ]
          },
          "colorway": [
           "#636efa",
           "#EF553B",
           "#00cc96",
           "#ab63fa",
           "#FFA15A",
           "#19d3f3",
           "#FF6692",
           "#B6E880",
           "#FF97FF",
           "#FECB52"
          ],
          "font": {
           "color": "#2a3f5f"
          },
          "geo": {
           "bgcolor": "white",
           "lakecolor": "white",
           "landcolor": "#E5ECF6",
           "showlakes": true,
           "showland": true,
           "subunitcolor": "white"
          },
          "hoverlabel": {
           "align": "left"
          },
          "hovermode": "closest",
          "mapbox": {
           "style": "light"
          },
          "paper_bgcolor": "white",
          "plot_bgcolor": "#E5ECF6",
          "polar": {
           "angularaxis": {
            "gridcolor": "white",
            "linecolor": "white",
            "ticks": ""
           },
           "bgcolor": "#E5ECF6",
           "radialaxis": {
            "gridcolor": "white",
            "linecolor": "white",
            "ticks": ""
           }
          },
          "scene": {
           "xaxis": {
            "backgroundcolor": "#E5ECF6",
            "gridcolor": "white",
            "gridwidth": 2,
            "linecolor": "white",
            "showbackground": true,
            "ticks": "",
            "zerolinecolor": "white"
           },
           "yaxis": {
            "backgroundcolor": "#E5ECF6",
            "gridcolor": "white",
            "gridwidth": 2,
            "linecolor": "white",
            "showbackground": true,
            "ticks": "",
            "zerolinecolor": "white"
           },
           "zaxis": {
            "backgroundcolor": "#E5ECF6",
            "gridcolor": "white",
            "gridwidth": 2,
            "linecolor": "white",
            "showbackground": true,
            "ticks": "",
            "zerolinecolor": "white"
           }
          },
          "shapedefaults": {
           "line": {
            "color": "#2a3f5f"
           }
          },
          "ternary": {
           "aaxis": {
            "gridcolor": "white",
            "linecolor": "white",
            "ticks": ""
           },
           "baxis": {
            "gridcolor": "white",
            "linecolor": "white",
            "ticks": ""
           },
           "bgcolor": "#E5ECF6",
           "caxis": {
            "gridcolor": "white",
            "linecolor": "white",
            "ticks": ""
           }
          },
          "title": {
           "x": 0.05
          },
          "xaxis": {
           "automargin": true,
           "gridcolor": "white",
           "linecolor": "white",
           "ticks": "",
           "title": {
            "standoff": 15
           },
           "zerolinecolor": "white",
           "zerolinewidth": 2
          },
          "yaxis": {
           "automargin": true,
           "gridcolor": "white",
           "linecolor": "white",
           "ticks": "",
           "title": {
            "standoff": 15
           },
           "zerolinecolor": "white",
           "zerolinewidth": 2
          }
         }
        },
        "title": {
         "text": "3D Chroma Vector Store Visualization"
        },
        "width": 900
       }
      },
      "image/png": "[encoded data removed]"
     },
     "metadata": {},
     "output_type": "display_data"
    }
   ],
   "source": [
    "# Let's try 3D!\n",
    "\n",
    "tsne = TSNE(n_components=3, random_state=42)\n",
    "reduced_vectors = tsne.fit_transform(vectors)\n",
    "\n",
    "# Create the 3D scatter plot\n",
    "fig = go.Figure(data=[go.Scatter3d(\n",
    "    x=reduced_vectors[:, 0],\n",
    "    y=reduced_vectors[:, 1],\n",
    "    z=reduced_vectors[:, 2],\n",
    "    mode='markers',\n",
    "    marker=dict(size=5, color=colors, opacity=0.8),\n",
    "    text=[f\"Type: {t}<br>Text: {d[:100]}...\" for t, d in zip(doc_types, documents)],\n",
    "    hoverinfo='text'\n",
    ")])\n",
    "\n",
    "fig.update_layout(\n",
    "    title='3D Chroma Vector Store Visualization',\n",
    "    scene=dict(xaxis_title='x', yaxis_title='y', zaxis_title='z'),\n",
    "    width=900,\n",
    "    height=700,\n",
    "    margin=dict(r=20, b=10, l=10, t=40)\n",
    ")\n",
    "\n",
    "fig.show()"
   ]
  },
  {
   "cell_type": "code",
   "execution_count": null,
   "id": "9b3ada26-b4b7-42fc-b943-933c14adf89b",
   "metadata": {},
   "outputs": [],
   "source": []
  }
 ],
 "metadata": {
  "kernelspec": {
   "display_name": "Python [conda env:llms]",
   "language": "python",
   "name": "conda-env-llms-py"
  },
  "language_info": {
   "codemirror_mode": {
    "name": "ipython",
    "version": 3
   },
   "file_extension": ".py",
   "mimetype": "text/x-python",
   "name": "python",
   "nbconvert_exporter": "python",
   "pygments_lexer": "ipython3",
   "version": "3.11.13"
  }
 },
 "nbformat": 4,
 "nbformat_minor": 5
}
