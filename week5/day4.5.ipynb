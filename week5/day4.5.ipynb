{
 "cells": [
  {
   "cell_type": "markdown",
   "id": "dfe37963-1af6-44fc-a841-8e462443f5e6",
   "metadata": {},
   "source": [
    "## Expert Knowledge Worker\n",
    "\n",
    "## Extra Jupyter Notebook - Day 4.5 - switch out Chroma for FAISS!\n",
    "\n",
    "FAISS is Facebook AI Similarity Search"
   ]
  },
  {
   "cell_type": "code",
   "execution_count": 1,
   "id": "ba2779af-84ef-4227-9e9e-6eaf0df87e77",
   "metadata": {},
   "outputs": [],
   "source": [
    "# imports\n",
    "\n",
    "import os\n",
    "import glob\n",
    "from dotenv import load_dotenv\n",
    "import gradio as gr"
   ]
  },
  {
   "cell_type": "code",
   "execution_count": 2,
   "id": "802137aa-8a74-45e0-a487-d1974927d7ca",
   "metadata": {},
   "outputs": [],
   "source": [
    "# imports for langchain\n",
    "\n",
    "from langchain.document_loaders import DirectoryLoader, TextLoader\n",
    "from langchain.text_splitter import CharacterTextSplitter\n",
    "from langchain.schema import Document\n",
    "from langchain_openai import OpenAIEmbeddings, ChatOpenAI\n",
    "# from langchain_chroma import Chroma\n",
    "from langchain.vectorstores import FAISS\n",
    "import numpy as np\n",
    "from sklearn.manifold import TSNE\n",
    "import plotly.graph_objects as go\n",
    "from langchain.memory import ConversationBufferMemory\n",
    "from langchain.chains import ConversationalRetrievalChain"
   ]
  },
  {
   "cell_type": "code",
   "execution_count": 3,
   "id": "58c85082-e417-4708-9efe-81a5d55d1424",
   "metadata": {},
   "outputs": [],
   "source": [
    "# price is a factor for our company, so we're going to use a low cost model\n",
    "\n",
    "MODEL = \"gpt-4o-mini\"\n",
    "db_name = \"vector_db\""
   ]
  },
  {
   "cell_type": "code",
   "execution_count": 4,
   "id": "ee78efcb-60fe-449e-a944-40bab26261af",
   "metadata": {},
   "outputs": [],
   "source": [
    "# Load environment variables in a file called .env\n",
    "\n",
    "load_dotenv(override=True)\n",
    "os.environ['OPENAI_API_KEY'] = os.getenv('OPENAI_API_KEY', 'your-key-if-not-using-env')"
   ]
  },
  {
   "cell_type": "code",
   "execution_count": 5,
   "id": "730711a9-6ffe-4eee-8f48-d6cfb7314905",
   "metadata": {},
   "outputs": [],
   "source": [
    "# Read in documents using LangChain's loaders\n",
    "# Take everything in all the sub-folders of our knowledgebase\n",
    "\n",
    "folders = glob.glob(\"knowledge-base/*\")\n",
    "\n",
    "# With thanks to CG and Jon R, students on the course, for this fix needed for some users \n",
    "text_loader_kwargs = {'encoding': 'utf-8'}\n",
    "# If that doesn't work, some Windows users might need to uncomment the next line instead\n",
    "# text_loader_kwargs={'autodetect_encoding': True}\n",
    "\n",
    "documents = []\n",
    "for folder in folders:\n",
    "    doc_type = os.path.basename(folder)\n",
    "    loader = DirectoryLoader(folder, glob=\"**/*.md\", loader_cls=TextLoader, loader_kwargs=text_loader_kwargs)\n",
    "    folder_docs = loader.load()\n",
    "    for doc in folder_docs:\n",
    "        doc.metadata[\"doc_type\"] = doc_type\n",
    "        documents.append(doc)"
   ]
  },
  {
   "cell_type": "code",
   "execution_count": 6,
   "id": "7310c9c8-03c1-4efc-a104-5e89aec6db1a",
   "metadata": {},
   "outputs": [
    {
     "name": "stderr",
     "output_type": "stream",
     "text": [
      "Created a chunk of size 1088, which is longer than the specified 1000\n"
     ]
    }
   ],
   "source": [
    "text_splitter = CharacterTextSplitter(chunk_size=1000, chunk_overlap=200)\n",
    "chunks = text_splitter.split_documents(documents)"
   ]
  },
  {
   "cell_type": "code",
   "execution_count": 10,
   "id": "cd06e02f-6d9b-44cc-a43d-e1faa8acc7bb",
   "metadata": {},
   "outputs": [
    {
     "data": {
      "text/plain": [
       "123"
      ]
     },
     "execution_count": 10,
     "metadata": {},
     "output_type": "execute_result"
    }
   ],
   "source": [
    "len(chunks)"
   ]
  },
  {
   "cell_type": "code",
   "execution_count": 9,
   "id": "2c54b4b6-06da-463d-bee7-4dd456c2b887",
   "metadata": {},
   "outputs": [
    {
     "name": "stdout",
     "output_type": "stream",
     "text": [
      "Document types found: company, products, contracts, employees\n"
     ]
    }
   ],
   "source": [
    "doc_types = set(chunk.metadata['doc_type'] for chunk in chunks)\n",
    "print(f\"Document types found: {', '.join(doc_types)}\")"
   ]
  },
  {
   "cell_type": "markdown",
   "id": "77f7d2a6-ccfa-425b-a1c3-5e55b23bd013",
   "metadata": {},
   "source": [
    "## A sidenote on Embeddings, and \"Auto-Encoding LLMs\"\n",
    "\n",
    "We will be mapping each chunk of text into a Vector that represents the meaning of the text, known as an embedding.\n",
    "\n",
    "OpenAI offers a model to do this, which we will use by calling their API with some LangChain code.\n",
    "\n",
    "This model is an example of an \"Auto-Encoding LLM\" which generates an output given a complete input.\n",
    "It's different to all the other LLMs we've discussed today, which are known as \"Auto-Regressive LLMs\", and generate future tokens based only on past context.\n",
    "\n",
    "Another example of an Auto-Encoding LLMs is BERT from Google. In addition to embedding, Auto-encoding LLMs are often used for classification.\n",
    "\n",
    "### Sidenote\n",
    "\n",
    "In week 8 we will return to RAG and vector embeddings, and we will use an open-source vector encoder so that the data never leaves our computer - that's an important consideration when building enterprise systems and the data needs to remain internal."
   ]
  },
  {
   "cell_type": "code",
   "execution_count": 12,
   "id": "78998399-ac17-4e28-b15f-0b5f51e6ee23",
   "metadata": {},
   "outputs": [
    {
     "name": "stdout",
     "output_type": "stream",
     "text": [
      "There are 123 vectors with 1,536 dimensions in the vector store\n"
     ]
    }
   ],
   "source": [
    "# Put the chunks of data into a Vector Store that associates a Vector Embedding with each chunk\n",
    "# Chroma is a popular open source Vector Database based on SQLLite\n",
    "\n",
    "embeddings = OpenAIEmbeddings()\n",
    "\n",
    "# Create vectorstore\n",
    "\n",
    "# BEFORE\n",
    "# vectorstore = Chroma.from_documents(documents=chunks, embedding=embeddings, persist_directory=db_name)\n",
    "\n",
    "# AFTER\n",
    "vectorstore = FAISS.from_documents(chunks, embedding=embeddings)\n",
    "\n",
    "total_vectors = vectorstore.index.ntotal\n",
    "dimensions = vectorstore.index.d\n",
    "\n",
    "print(f\"There are {total_vectors} vectors with {dimensions:,} dimensions in the vector store\")"
   ]
  },
  {
   "cell_type": "code",
   "execution_count": 13,
   "id": "057868f6-51a6-4087-94d1-380145821550",
   "metadata": {},
   "outputs": [],
   "source": [
    "# Prework\n",
    "vectors = []\n",
    "documents = []\n",
    "doc_types = []\n",
    "colors = []\n",
    "color_map = {'products':'blue', 'employees':'green', 'contracts':'red', 'company':'orange'}\n",
    "\n",
    "for i in range(total_vectors):\n",
    "    vectors.append(vectorstore.index.reconstruct(i))\n",
    "    doc_id = vectorstore.index_to_docstore_id[i]\n",
    "    document = vectorstore.docstore.search(doc_id)\n",
    "    documents.append(document.page_content)\n",
    "    doc_type = document.metadata['doc_type']\n",
    "    doc_types.append(doc_type)\n",
    "    colors.append(color_map[doc_type])\n",
    "    \n",
    "vectors = np.array(vectors)"
   ]
  },
  {
   "cell_type": "markdown",
   "id": "b0d45462-a818-441c-b010-b85b32bcf618",
   "metadata": {},
   "source": [
    "## Visualizing the Vector Store\n",
    "\n",
    "Let's take a minute to look at the documents and their embedding vectors to see what's going on.\n",
    "\n",
    "(As a sidenote, what we're really looking at here is the distribution of the Vectors generated by OpenAIEmbeddings, retrieved from FAISS. So there's no surprise that they look the same whether they are \"from\" FAISS or Chroma.)"
   ]
  },
  {
   "cell_type": "code",
   "execution_count": 14,
   "id": "427149d5-e5d8-4abd-bb6f-7ef0333cca21",
   "metadata": {},
   "outputs": [
    {
     "data": {
      "application/vnd.plotly.v1+json": {
       "config": {
        "plotlyServerURL": "https://plot.ly"
       },
       "data": [
        {
         "hoverinfo": "text",
         "marker": {
          "color": [
           "blue",
           "blue",
           "blue",
           "blue",
           "blue",
           "blue",
           "blue",
           "blue",
           "blue",
           "blue",
           "blue",
           "blue",
           "blue",
           "blue",
           "blue",
           "blue",
           "blue",
           "blue",
           "blue",
           "blue",
           "blue",
           "red",
           "red",
           "red",
           "red",
           "red",
           "red",
           "red",
           "red",
           "red",
           "red",
           "red",
           "red",
           "red",
           "red",
           "red",
           "red",
           "red",
           "red",
           "red",
           "red",
           "red",
           "red",
           "red",
           "red",
           "red",
           "red",
           "red",
           "red",
           "red",
           "red",
           "red",
           "red",
           "red",
           "red",
           "red",
           "red",
           "red",
           "red",
           "red",
           "red",
           "red",
           "red",
           "red",
           "red",
           "red",
           "red",
           "red",
           "red",
           "red",
           "red",
           "red",
           "red",
           "orange",
           "orange",
           "orange",
           "green",
           "green",
           "green",
           "green",
           "green",
           "green",
           "green",
           "green",
           "green",
           "green",
           "green",
           "green",
           "green",
           "green",
           "green",
           "green",
           "green",
           "green",
           "green",
           "green",
           "green",
           "green",
           "green",
           "green",
           "green",
           "green",
           "green",
           "green",
           "green",
           "green",
           "green",
           "green",
           "green",
           "green",
           "green",
           "green",
           "green",
           "green",
           "green",
           "green",
           "green",
           "green",
           "green",
           "green",
           "green",
           "green",
           "green"
          ],
          "opacity": 0.8,
          "size": 5
         },
         "mode": "markers",
         "text": [
          "Type: products<br>Text: # Product Summary\n\n# Rellm: AI-Powered Enterprise Reinsurance Solution\n\n## Summary\n\nRellm is an inno...",
          "Type: products<br>Text: ### Seamless Integrations\nRellm's architecture is designed for effortless integration with existing ...",
          "Type: products<br>Text: ### Regulatory Compliance Tools\nRellm includes built-in compliance tracking features to help organiz...",
          "Type: products<br>Text: Join the growing number of organizations leveraging Rellm to enhance their reinsurance processes whi...",
          "Type: products<br>Text: Experience the future of reinsurance with Rellm, where innovation meets reliability. Let Insurellm h...",
          "Type: products<br>Text: # Product Summary\n\n# Markellm\n\n## Summary\n\nMarkellm is an innovative two-sided marketplace designed ...",
          "Type: products<br>Text: - **User-Friendly Interface**: Designed with user experience in mind, Markellm features an intuitive...",
          "Type: products<br>Text: - **Customer Support**: Our dedicated support team is always available to assist both consumers and ...",
          "Type: products<br>Text: ### For Insurance Companies:\n- **Basic Listing Fee**: $199/month for a featured listing on the platf...",
          "Type: products<br>Text: ### Q3 2025\n- Initiate a comprehensive marketing campaign targeting both consumers and insurers to i...",
          "Type: products<br>Text: # Product Summary\n\n# Homellm\n\n## Summary\nHomellm is an innovative home insurance product developed b...",
          "Type: products<br>Text: ### 2. Dynamic Pricing Model\nWith Homellm's innovative dynamic pricing model, insurance providers ca...",
          "Type: products<br>Text: ### 5. Multi-Channel Integration\nHomellm seamlessly integrates into existing insurance platforms, pr...",
          "Type: products<br>Text: - **Basic Tier:** Starting at $5,000/month for small insurers with basic integration features.\n- **S...",
          "Type: products<br>Text: All tiers include a comprehensive training program and ongoing updates to ensure optimal performance...",
          "Type: products<br>Text: With Homellm, Insurellm is committed to transforming the landscape of home insurance, ensuring both ...",
          "Type: products<br>Text: # Product Summary\n\n# Carllm\n\n## Summary\n\nCarllm is an innovative auto insurance product developed by...",
          "Type: products<br>Text: - **Instant Quoting**: With Carllm, insurance companies can offer near-instant quotes to customers, ...",
          "Type: products<br>Text: - **Mobile Integration**: Carllm is designed to work seamlessly with mobile applications, providing ...",
          "Type: products<br>Text: - **Professional Tier**: $2,500/month\n  - For medium-sized companies.\n  - All Basic Tier features pl...",
          "Type: products<br>Text: ### Q2 2025: Customer Experience Improvements\n- Launch of a new **mobile app** for end-users.\n- Intr...",
          "Type: contracts<br>Text: # Contract with GreenField Holdings for Markellm\n\n**Effective Date:** November 15, 2023  \n**Contract...",
          "Type: contracts<br>Text: ## Renewal\n1. **Automatic Renewal**: This contract will automatically renew for sequential one-year ...",
          "Type: contracts<br>Text: ## Features\n1. **AI-Powered Matching**: Access to advanced algorithms that connect GreenField Holdin...",
          "Type: contracts<br>Text: ## Support\n1. **Customer Support Access**: The Client will have access to dedicated support through ...",
          "Type: contracts<br>Text: **Signatures:**  \n_________________________                           _________________________  \n**...",
          "Type: contracts<br>Text: # Contract with Apex Reinsurance for Rellm: AI-Powered Enterprise Reinsurance Solution\n\n## Terms\n\n1....",
          "Type: contracts<br>Text: ## Renewal\n\n1. **Automatic Renewal**: This Agreement will automatically renew for successive one-yea...",
          "Type: contracts<br>Text: 2. **Seamless Integrations**: The architecture of Rellm allows for easy integration with existing sy...",
          "Type: contracts<br>Text: 1. **Technical Support**: Provider shall offer dedicated technical support to the Client via phone, ...",
          "Type: contracts<br>Text: **Insurellm, Inc.**  \n_____________________________  \nAuthorized Signature   \nDate: ________________...",
          "Type: contracts<br>Text: # Contract with Greenstone Insurance for Homellm\n\n---\n\n## Terms\n\n1. **Parties**: This Contract (\"Agr...",
          "Type: contracts<br>Text: 4. **Payment Terms**: \n   - The Customer shall pay an amount of $10,000 per month for the Standard T...",
          "Type: contracts<br>Text: ---\n\n## Features\n\n- **AI-Powered Risk Assessment**: Customer will have access to enhanced risk evalu...",
          "Type: contracts<br>Text: - **Customer Portal**: A dedicated portal will be provided, allowing the Customer's clients to manag...",
          "Type: contracts<br>Text: ______________________________  \n[Name], [Title]  \nDate: ______________________\n\n**For Greenstone In...",
          "Type: contracts<br>Text: # Contract with Roadway Insurance Inc. for Carllm\n\n---\n\n## Terms\n\n1. **Agreement Effective Date**: T...",
          "Type: contracts<br>Text: ---\n\n## Renewal\n\n1. **Automatic Renewal**: This agreement will automatically renew for an additional...",
          "Type: contracts<br>Text: ---\n\n## Features\n\n1. **Access to Core Features**: Roadway Insurance Inc. will have access to all Pro...",
          "Type: contracts<br>Text: ---\n\n## Support\n\n1. **Technical Support**: Roadway Insurance Inc. will receive priority technical su...",
          "Type: contracts<br>Text: # Contract with Stellar Insurance Co. for Rellm\n\n## Terms\nThis contract is made between **Insurellm*...",
          "Type: contracts<br>Text: ### Termination\nEither party may terminate this agreement with a **30-day written notice**. In the e...",
          "Type: contracts<br>Text: ## Features\nStellar Insurance Co. will receive access to the following features of the Rellm product...",
          "Type: contracts<br>Text: ## Support\nInsurellm provides Stellar Insurance Co. with the following support services:\n\n- **24/7 T...",
          "Type: contracts<br>Text: # Contract with TechDrive Insurance for Carllm\n\n**Contract Date:** October 1, 2024  \n**Contract Dura...",
          "Type: contracts<br>Text: ## Renewal\n\n1. **Automatic Renewal**: This contract shall automatically renew for additional one-yea...",
          "Type: contracts<br>Text: ## Support\n\n1. **Customer Support**: Insurellm will provide 24/7 customer support to TechDrive Insur...",
          "Type: contracts<br>Text: **TechDrive Insurance Representative:**  \nName: Sarah Johnson  \nTitle: Operations Director  \nDate: _...",
          "Type: contracts<br>Text: # Contract with Belvedere Insurance for Markellm\n\n## Terms\nThis Contract (\"Agreement\") is made and e...",
          "Type: contracts<br>Text: ## Renewal\n1. **Renewal Terms**: This Agreement may be renewed for additional one-year terms upon mu...",
          "Type: contracts<br>Text: ## Features\n1. **AI-Powered Matching**: Belvedere Insurance will benefit from Markellm's AI-powered ...",
          "Type: contracts<br>Text: ## Support\n1. **Technical Support**: Technical support will be available from 9 AM to 7 PM EST, Mond...",
          "Type: contracts<br>Text: **Belvedere Insurance**  \nSignature: ______________________  \nName: [Authorized Signatory]  \nTitle: ...",
          "Type: contracts<br>Text: # Contract with Velocity Auto Solutions for Carllm\n\n**Contract Date:** October 1, 2023  \n**Contract ...",
          "Type: contracts<br>Text: ## Renewal\n\n1. **Automatic Renewal**: This contract will automatically renew for successive 12-month...",
          "Type: contracts<br>Text: ## Support\n\n1. **Customer Support**: Velocity Auto Solutions will have access to Insurellm’s custome...",
          "Type: contracts<br>Text: # Contract with GreenValley Insurance for Homellm\n\n**Contract Date:** October 6, 2023  \n**Contract N...",
          "Type: contracts<br>Text: 4. **Confidentiality:** Both parties agree to maintain the confidentiality of proprietary informatio...",
          "Type: contracts<br>Text: 1. **AI-Powered Risk Assessment:** Access to advanced AI algorithms for real-time risk evaluations.\n...",
          "Type: contracts<br>Text: 3. **Regular Updates:** Insurellm will offer ongoing updates and enhancements to the Homellm platfor...",
          "Type: contracts<br>Text: # Contract with EverGuard Insurance for Rellm: AI-Powered Enterprise Reinsurance Solution\n\n**Contrac...",
          "Type: contracts<br>Text: 4. **Usage Rights**: EverGuard Insurance is granted a non-exclusive, non-transferable license to acc...",
          "Type: contracts<br>Text: 1. **Core Functionality**: Rellm provides EverGuard Insurance with advanced AI-driven analytics, sea...",
          "Type: contracts<br>Text: 1. **Customer Support**: Insurellm will provide EverGuard Insurance with 24/7 customer support, incl...",
          "Type: contracts<br>Text: ---\n\n**Signatures**  \n**For Insurellm**: __________________________  \n**Name**: John Smith  \n**Title...",
          "Type: contracts<br>Text: # Contract with BrightWay Solutions for Markellm\n\n**Contract Date:** October 5, 2023  \n**Contract ID...",
          "Type: contracts<br>Text: 3. **Service Level Agreement (SLA):**  \n   Insurellm commits to a 99.9% uptime for the platform with...",
          "Type: contracts<br>Text: 2. **Real-Time Quote Availability:**  \n   Consumers sourced via BrightWay Solutions will receive rea...",
          "Type: contracts<br>Text: 3. **Training and Onboarding:**  \n   Insurellm agrees to provide one free training session on how to...",
          "Type: contracts<br>Text: # Contract with Pinnacle Insurance Co. for Homellm\n\n## Terms\nThis contract (\"Contract\") is entered i...",
          "Type: contracts<br>Text: ## Renewal\n1. **Renewal Terms**: At the end of the initial term, this Contract shall automatically r...",
          "Type: contracts<br>Text: ## Features\n1. **AI-Powered Risk Assessment**: Utilized for tailored underwriting decisions specific...",
          "Type: contracts<br>Text: ## Support\n1. **Technical Support**: Insurellm shall provide 24/7 technical support via an email and...",
          "Type: company<br>Text: # Overview of Insurellm\n\nInsurellm is an innovative insurance tech firm with 200 employees across th...",
          "Type: company<br>Text: # Careers at Insurellm\n\nInsurellm is hiring! We are looking for talented software engineers, data sc...",
          "Type: company<br>Text: # About Insurellm\n\nInsurellm was founded by Avery Lancaster in 2015 as an insurance tech startup des...",
          "Type: employees<br>Text: # HR Record\n\n# Alex Chen\n\n## Summary\n- **Date of Birth:** March 15, 1990  \n- **Job Title:** Backend ...",
          "Type: employees<br>Text: ## Annual Performance History\n- **2020:**  \n  - Completed onboarding successfully.  \n  - Met expecta...",
          "Type: employees<br>Text: ## Compensation History\n- **2020:** Base Salary: $80,000  \n- **2021:** Base Salary Increase to $90,0...",
          "Type: employees<br>Text: Alex Chen continues to be a vital asset at Insurellm, contributing significantly to innovative backe...",
          "Type: employees<br>Text: # HR Record\n\n# Oliver Spencer\n\n## Summary\n- **Date of Birth**: May 14, 1990  \n- **Job Title**: Backe...",
          "Type: employees<br>Text: ## Annual Performance History\n- **2018**: **3/5** - Adaptable team player but still learning to take...",
          "Type: employees<br>Text: ## Compensation History\n- **March 2018**: Initial salary of $80,000.\n- **July 2019**: Salary increas...",
          "Type: employees<br>Text: # HR Record\n\n# Emily Tran\n\n## Summary\n- **Date of Birth:** March 18, 1991  \n- **Job Title:** Digital...",
          "Type: employees<br>Text: - **January 2017 - May 2018**: Marketing Intern  \n  - Supported the Marketing team by collaborating ...",
          "Type: employees<br>Text: - **2021**:  \n  - Performance Rating: Meets Expectations  \n  - Key Achievements: Contributed to the ...",
          "Type: employees<br>Text: - **Professional Development Goals**:  \n  - Emily Tran aims to become a Marketing Manager within the...",
          "Type: employees<br>Text: # HR Record\n\n# Jordan Blake\n\n## Summary\n- **Date of Birth:** March 15, 1993  \n- **Job Title:** Sales...",
          "Type: employees<br>Text: ## Annual Performance History\n- **2021:** First year at Insurellm; achieved 90% of monthly targets. ...",
          "Type: employees<br>Text: ## Other HR Notes\n- Jordan has shown an interest in continuing education, actively participating in ...",
          "Type: employees<br>Text: # Avery Lancaster\n\n## Summary\n- **Date of Birth**: March 15, 1985  \n- **Job Title**: Co-Founder & Ch...",
          "Type: employees<br>Text: - **2010 - 2013**: Business Analyst at Edge Analytics  \n  Prior to joining Innovate, Avery worked as...",
          "Type: employees<br>Text: - **2018**: **Exceeds Expectations**  \n  Under Avery’s pivoted vision, Insurellm launched two new su...",
          "Type: employees<br>Text: - **2022**: **Satisfactory**  \n  Avery focused on rebuilding team dynamics and addressing employee c...",
          "Type: employees<br>Text: ## Compensation History\n- **2015**: $150,000 base salary + Significant equity stake  \n- **2016**: $1...",
          "Type: employees<br>Text: ## Other HR Notes\n- **Professional Development**: Avery has actively participated in leadership trai...",
          "Type: employees<br>Text: # HR Record\n\n# Maxine Thompson\n\n## Summary\n- **Date of Birth:** January 15, 1991  \n- **Job Title:** ...",
          "Type: employees<br>Text: ## Insurellm Career Progression\n- **January 2017 - October 2018**: **Junior Data Engineer**  \n  * Ma...",
          "Type: employees<br>Text: ## Annual Performance History\n- **2017**: *Meets Expectations*  \n  Maxine showed potential in her ro...",
          "Type: employees<br>Text: - **2021**: *Exceeds Expectations*  \n  Maxine spearheaded the transition to a new data warehousing s...",
          "Type: employees<br>Text: ## Compensation History\n- **2017**: $70,000 (Junior Data Engineer)  \n- **2018**: $75,000 (Junior Dat...",
          "Type: employees<br>Text: # Samantha Greene\n\n## Summary\n- **Date of Birth:** October 14, 1990\n- **Job Title:** HR Generalist\n-...",
          "Type: employees<br>Text: ## Annual Performance History\n- **2020:** Exceeds Expectations  \n  Samantha Greene demonstrated exce...",
          "Type: employees<br>Text: ## Compensation History\n- **2020:** Base Salary - $55,000  \n  The entry-level salary matched industr...",
          "Type: employees<br>Text: - **2023:** Base Salary - $70,000  \n  Recognized for substantial improvement in employee relations m...",
          "Type: employees<br>Text: # HR Record\n\n# Alex Thomson\n\n## Summary\n- **Date of Birth:** March 15, 1995  \n- **Job Title:** Sales...",
          "Type: employees<br>Text: ## Annual Performance History  \n- **2022** - Rated as \"Exceeds Expectations.\" Alex Thomson achieved ...",
          "Type: employees<br>Text: ## Other HR Notes\n- Alex Thomson is an active member of the Diversity and Inclusion committee at Ins...",
          "Type: employees<br>Text: # HR Record\n\n# Samuel Trenton\n\n## Summary\n- **Date of Birth:** April 12, 1989  \n- **Job Title:** Sen...",
          "Type: employees<br>Text: ## Annual Performance History\n- **2023:** Rating: 4.5/5  \n  *Samuel exceeded expectations, successfu...",
          "Type: employees<br>Text: ## Compensation History\n- **2023:** Base Salary: $115,000 + Bonus: $15,000  \n  *Annual bonus based o...",
          "Type: employees<br>Text: - **Engagement in Company Culture:** Regularly participates in team-building events and contributes ...",
          "Type: employees<br>Text: # HR Record\n\n# Alex Harper\n\n## Summary\n- **Date of Birth**: March 15, 1993  \n- **Job Title**: Sales ...",
          "Type: employees<br>Text: ## Annual Performance History  \n- **2021**:  \n  - **Performance Rating**: 4.5/5  \n  - **Key Achievem...",
          "Type: employees<br>Text: - **2022**:  \n  - **Base Salary**: $65,000 (Promotion to Senior SDR)  \n  - **Bonus**: $13,000 (20% o...",
          "Type: employees<br>Text: # HR Record\n\n# Jordan K. Bishop\n\n## Summary\n- **Date of Birth:** March 15, 1990\n- **Job Title:** Fro...",
          "Type: employees<br>Text: ## Annual Performance History\n- **2019:** Exceeds Expectations - Continuously delivered high-quality...",
          "Type: employees<br>Text: ## Compensation History\n- **June 2018:** Starting Salary - $85,000\n- **June 2019:** Salary Increase ...",
          "Type: employees<br>Text: ## Other HR Notes\n- Jordan K. Bishop has been an integral part of club initiatives, including the In...",
          "Type: employees<br>Text: # HR Record\n\n# Emily Carter\n\n## Summary\n- **Date of Birth:** August 12, 1990  \n- **Job Title:** Acco...",
          "Type: employees<br>Text: - **2017-2019:** Marketing Intern  \n  - Assisted with market research and campaign development for s...",
          "Type: employees<br>Text: ## Compensation History\n| Year | Base Salary | Bonus         | Total Compensation |\n|------|--------...",
          "Type: employees<br>Text: Emily Carter exemplifies the kind of talent that drives Insurellm's success and is an invaluable ass..."
         ],
         "type": "scatter",
         "x": {
          "_inputArray": {
           "0": 1.7110434770584106,
           "1": 0.8716334700584412,
           "10": 2.216191530227661,
           "100": -13.192537307739258,
           "101": -10.326842308044434,
           "102": -10.559834480285645,
           "103": -11.612927436828613,
           "104": -11.069499969482422,
           "105": -9.68953800201416,
           "106": -13.059971809387207,
           "107": -10.209531784057617,
           "108": -8.298861503601074,
           "109": -13.458426475524902,
           "11": 3.0243945121765137,
           "110": -13.536300659179688,
           "111": -9.050113677978516,
           "112": -9.749715805053711,
           "113": -12.708553314208984,
           "114": -11.863455772399902,
           "115": -8.08859920501709,
           "116": -9.614583015441895,
           "117": -13.961396217346191,
           "118": -8.738690376281738,
           "119": -7.010174751281738,
           "12": 2.1095690727233887,
           "120": -8.011701583862305,
           "121": -11.981789588928223,
           "122": -4.678164958953857,
           "13": 2.4953460693359375,
           "14": 2.108283281326294,
           "15": 0.7661707997322083,
           "16": 4.017268180847168,
           "17": 4.437169075012207,
           "18": 4.927457332611084,
           "19": 4.971738815307617,
           "2": 1.8838714361190796,
           "20": 4.311431407928467,
           "21": 9.438339233398438,
           "22": 5.332117557525635,
           "23": 5.5426483154296875,
           "24": 9.085200309753418,
           "25": -2.4132497310638428,
           "26": 2.7255289554595947,
           "27": 3.003549814224243,
           "28": 0.5016080737113953,
           "29": 0.5881102085113525,
           "3": 2.749030590057373,
           "30": -2.0911636352539062,
           "31": 2.3004112243652344,
           "32": 3.454704999923706,
           "33": 3.567516565322876,
           "34": 1.0662155151367188,
           "35": -2.419735908508301,
           "36": 5.623763084411621,
           "37": 5.440448760986328,
           "38": 4.73909330368042,
           "39": 5.323738098144531,
           "4": 0.5788225531578064,
           "40": 2.45658016204834,
           "41": 3.131889581680298,
           "42": 1.8050028085708618,
           "43": 0.8705827593803406,
           "44": 5.736475944519043,
           "45": 4.81947135925293,
           "46": 6.199464797973633,
           "47": 6.790565490722656,
           "48": 8.956968307495117,
           "49": 5.641361713409424,
           "5": 6.361708164215088,
           "50": 6.79461145401001,
           "51": 0.30711492896080017,
           "52": -1.4075002670288086,
           "53": 5.097484588623047,
           "54": 4.537198066711426,
           "55": 5.877935409545898,
           "56": 1.847151756286621,
           "57": 1.4853382110595703,
           "58": 4.158540725708008,
           "59": 0.6736661791801453,
           "6": 6.77308988571167,
           "60": 1.9818720817565918,
           "61": 2.0516974925994873,
           "62": 1.1928292512893677,
           "63": 0.5069988369941711,
           "64": -1.3047727346420288,
           "65": 8.248832702636719,
           "66": 7.067193508148193,
           "67": 7.355867862701416,
           "68": 8.123032569885254,
           "69": 2.3988547325134277,
           "7": 7.429797172546387,
           "70": 5.525691509246826,
           "71": 4.3227858543396,
           "72": 0.7226653695106506,
           "73": -0.625259280204773,
           "74": -1.8022141456604004,
           "75": -0.9628012776374817,
           "76": -7.5587263107299805,
           "77": -9.589159965515137,
           "78": -12.79058837890625,
           "79": -4.1607255935668945,
           "8": 8.2410888671875,
           "80": -7.313388347625732,
           "81": -9.440572738647461,
           "82": -12.919492721557617,
           "83": -7.107150554656982,
           "84": -7.21724796295166,
           "85": -11.549234390258789,
           "86": -6.863889217376709,
           "87": -9.190000534057617,
           "88": -12.338671684265137,
           "89": -9.229419708251953,
           "9": 5.512799263000488,
           "90": -5.881283283233643,
           "91": -7.789462566375732,
           "92": -8.288411140441895,
           "93": -8.282670974731445,
           "94": -14.230386734008789,
           "95": -6.154884338378906,
           "96": -7.754403591156006,
           "97": -12.245485305786133,
           "98": -10.600522994995117,
           "99": -10.995646476745605,
           "bdata": "eQPbP18jXz+zIvE/HvAvQLctFD8dk8tAJ73YQObA7UCA2wNB2miwQBXWDUCuj0FALgMHQMCzH0Ad7gZAxSNEP3aNgEBK/Y1Au62dQHwYn0A/94lAcAMXQbWgqkBgXbFA+1wRQa9yGsARby5AKTpAQGNpAD9kjhY/oNUFwPA5E0DjGV1AMVJkQMB5iD/03BrA3vWzQCgYrkCnppdAEFyqQJw4HUDhcEhAVQrnP4PeXj82kbdAHDmaQARixkBQTNlAvk8PQQmGtEB1bdlAKz6dPvgotL+YHqNAujCRQAwYvEB4b+w/kB++P8QShUBjdSw//K39PwNPA0Chrpg/rcoBP8sCp784+wNBcybiQEVj60Dx9wFB1oYZQHfSsEBDVIpAmQA5P/4QIL/0rua/JXp2vxbh8cAzbRnBQKZMwaokhcBHB+rAlgwXwT62TsHHbePAsvPmwKrJOMH7pNvAPgoTwTNrRcG0qxPBeTO8wEdD+cBVnQTB0oUEwaqvY8HQ9MTAEyT4wILtQ8G+mynBK+4vwaIUU8G/OiXBFfUowY3OOcGsHDHBWQgbwaX1UME+WiPBI8gEwbdVV8GwlFjBRM0Qwdb+G8E8VkvBt9A9wedqAcFV1RnB4WFfwa3RC8FaU+DA7i8AwWm1P8GHs5XA",
           "dtype": "f4",
           "shape": "123"
          },
          "bdata": "eQPbP18jXz+zIvE/HvAvQLctFD8dk8tAJ73YQObA7UCA2wNB2miwQBXWDUCuj0FALgMHQMCzH0Ad7gZAxSNEP3aNgEBK/Y1Au62dQHwYn0A/94lAcAMXQbWgqkBgXbFA+1wRQa9yGsARby5AKTpAQGNpAD9kjhY/oNUFwPA5E0DjGV1AMVJkQMB5iD/03BrA3vWzQCgYrkCnppdAEFyqQJw4HUDhcEhAVQrnP4PeXj82kbdAHDmaQARixkBQTNlAvk8PQQmGtEB1bdlAKz6dPvgotL+YHqNAujCRQAwYvEB4b+w/kB++P8QShUBjdSw//K39PwNPA0Chrpg/rcoBP8sCp784+wNBcybiQEVj60Dx9wFB1oYZQHfSsEBDVIpAmQA5P/4QIL/0rua/JXp2vxbh8cAzbRnBQKZMwaokhcBHB+rAlgwXwT62TsHHbePAsvPmwKrJOMH7pNvAPgoTwTNrRcG0qxPBeTO8wEdD+cBVnQTB0oUEwaqvY8HQ9MTAEyT4wILtQ8G+mynBK+4vwaIUU8G/OiXBFfUowY3OOcGsHDHBWQgbwaX1UME+WiPBI8gEwbdVV8GwlFjBRM0Qwdb+G8E8VkvBt9A9wedqAcFV1RnB4WFfwa3RC8FaU+DA7i8AwWm1P8GHs5XA",
          "dtype": "f4"
         },
         "y": {
          "_inputArray": {
           "0": -0.5562744140625,
           "1": 0.27992868423461914,
           "10": -2.6657118797302246,
           "100": -2.0635526180267334,
           "101": -3.2995188236236572,
           "102": -1.7548454999923706,
           "103": -2.832233428955078,
           "104": -3.157172679901123,
           "105": -7.11611795425415,
           "106": -6.177806854248047,
           "107": -7.444571018218994,
           "108": -6.6167216300964355,
           "109": -5.03193473815918,
           "11": -3.317234992980957,
           "110": -4.334529399871826,
           "111": -3.2971980571746826,
           "112": -6.725529670715332,
           "113": -5.26478385925293,
           "114": -6.115607261657715,
           "115": -5.739866256713867,
           "116": -0.554049551486969,
           "117": -3.0695605278015137,
           "118": -5.010207176208496,
           "119": -5.002048969268799,
           "12": -3.2233974933624268,
           "120": -2.211251735687256,
           "121": -3.8739564418792725,
           "122": -2.9284751415252686,
           "13": -4.748239517211914,
           "14": -4.538547992706299,
           "15": -2.5211269855499268,
           "16": -0.3827061653137207,
           "17": -0.4575195014476776,
           "18": 0.181937113404274,
           "19": 0.4721421003341675,
           "2": 0.35079172253608704,
           "20": -1.2857879400253296,
           "21": 0.6788249611854553,
           "22": 7.77639627456665,
           "23": -3.7362728118896484,
           "24": -0.9410688281059265,
           "25": 5.5394463539123535,
           "26": 3.1895759105682373,
           "27": 2.3367865085601807,
           "28": 0.7094984650611877,
           "29": 4.006778717041016,
           "3": -1.069553017616272,
           "30": 5.049846172332764,
           "31": 6.505521774291992,
           "32": 7.426814556121826,
           "33": -3.5931448936462402,
           "34": 5.7340312004089355,
           "35": 5.953734874725342,
           "36": 5.488706111907959,
           "37": 6.557480812072754,
           "38": 1.5616717338562012,
           "39": 2.490628480911255,
           "4": -1.189078450202942,
           "40": 4.341152667999268,
           "41": 4.457665920257568,
           "42": 1.0552748441696167,
           "43": 2.9881439208984375,
           "44": 4.593775749206543,
           "45": 3.5681591033935547,
           "46": 3.5370535850524902,
           "47": 4.141397476196289,
           "48": 1.0668606758117676,
           "49": 8.174107551574707,
           "5": -2.0078039169311523,
           "50": -0.9552102088928223,
           "51": 4.639877796173096,
           "52": 5.45328950881958,
           "53": 4.724674224853516,
           "54": 3.3069868087768555,
           "55": 3.1743438243865967,
           "56": 7.14169979095459,
           "57": 6.980931758880615,
           "58": -3.2934987545013428,
           "59": 6.7732439041137695,
           "6": -1.946526288986206,
           "60": 2.938871145248413,
           "61": 2.1506905555725098,
           "62": 1.3491766452789307,
           "63": 2.467869758605957,
           "64": 3.308924913406372,
           "65": 1.6565436124801636,
           "66": 1.5350044965744019,
           "67": 0.4723643958568573,
           "68": 2.1831226348876953,
           "69": 5.985465049743652,
           "7": -1.4487290382385254,
           "70": 7.961672782897949,
           "71": -4.260711669921875,
           "72": 5.112928867340088,
           "73": -1.7222055196762085,
           "74": -1.9540762901306152,
           "75": -1.730119228363037,
           "76": -6.421379566192627,
           "77": -1.030784249305725,
           "78": -3.7496542930603027,
           "79": -2.550318956375122,
           "8": -1.1834150552749634,
           "80": -6.477327823638916,
           "81": -1.1295647621154785,
           "82": -3.3419809341430664,
           "83": -4.153168201446533,
           "84": -3.2019474506378174,
           "85": -4.597710609436035,
           "86": -3.4692203998565674,
           "87": -6.3350725173950195,
           "88": -4.633971214294434,
           "89": -5.038228511810303,
           "9": -1.9558475017547607,
           "90": -0.4945072829723358,
           "91": 0.2321997582912445,
           "92": 0.7887435555458069,
           "93": 0.9399526715278625,
           "94": -3.8702378273010254,
           "95": -0.4560197591781616,
           "96": -8.030900955200195,
           "97": -0.5320326685905457,
           "98": -0.29345300793647766,
           "99": 0.19480696320533752,
           "bdata": "AGgOv9BSjz75mrM+HeeIv7kzmL/cfwDAxif5v/Rvub8lepe/Nln6vwabKsCUTVTAJUxOwJTxl8DJO5HAJVohwBDyw77/P+q+uU06Ppy88T6zlKS/ecctPz3Y+EAYH2/A4+lwvyVDsUADIkxA6Y0VQLGhNT+IN4BAV5ihQDwt0EB3qO1AFvZlwC99t0D/hL5Ae6OvQOLW0UDc5Mc/dWYfQLnqikAzpY5APxOHP8A9P0A2AJNAuFxkQBZfYkBUhoRA5I6IPyXJAkGoiHS/4XmUQFmBrkCIMJdArKVTQHMoS0DOiORAy2PfQK/IUsBqvthAdxY8QOqkCUDSsaw/lPEdQG3FU0CfCdQ/B3vEP7/Z8T5IuAtA7oi/QAbG/kDAV4jAHZ2jQDtx3L8sH/q/jHTdv/F7zcC98IO/VvpvwG04I8BFRs/AlJWQvwTjVcDB5oTAtexMwHIgk8C1B17A6rjKwH5JlMArOaHADzD9vsbFbT4Z60k/vaBwP/qxd8Bse+m+kn4AwUszCL95P5a+entHPj8RBMBRK1PAx57gv1BDNcAeD0rAPbfjwJiwxcDtOe7AL7zTwJwFocB3tIrASwVTwIo318AceajADrPDwPyst8Ax1g2/rnNEwJ5ToMDJEKDAJoUNwOfud8AjbDvA",
           "dtype": "f4",
           "shape": "123"
          },
          "bdata": "AGgOv9BSjz75mrM+HeeIv7kzmL/cfwDAxif5v/Rvub8lepe/Nln6vwabKsCUTVTAJUxOwJTxl8DJO5HAJVohwBDyw77/P+q+uU06Ppy88T6zlKS/ecctPz3Y+EAYH2/A4+lwvyVDsUADIkxA6Y0VQLGhNT+IN4BAV5ihQDwt0EB3qO1AFvZlwC99t0D/hL5Ae6OvQOLW0UDc5Mc/dWYfQLnqikAzpY5APxOHP8A9P0A2AJNAuFxkQBZfYkBUhoRA5I6IPyXJAkGoiHS/4XmUQFmBrkCIMJdArKVTQHMoS0DOiORAy2PfQK/IUsBqvthAdxY8QOqkCUDSsaw/lPEdQG3FU0CfCdQ/B3vEP7/Z8T5IuAtA7oi/QAbG/kDAV4jAHZ2jQDtx3L8sH/q/jHTdv/F7zcC98IO/VvpvwG04I8BFRs/AlJWQvwTjVcDB5oTAtexMwHIgk8C1B17A6rjKwH5JlMArOaHADzD9vsbFbT4Z60k/vaBwP/qxd8Bse+m+kn4AwUszCL95P5a+entHPj8RBMBRK1PAx57gv1BDNcAeD0rAPbfjwJiwxcDtOe7AL7zTwJwFocB3tIrASwVTwIo318AceajADrPDwPyst8Ax1g2/rnNEwJ5ToMDJEKDAJoUNwOfud8AjbDvA",
          "dtype": "f4"
         }
        }
       ],
       "layout": {
        "height": 600,
        "margin": {
         "b": 10,
         "l": 10,
         "r": 20,
         "t": 40
        },
        "scene": {
         "xaxis": {
          "title": {
           "text": "x"
          }
         },
         "yaxis": {
          "title": {
           "text": "y"
          }
         }
        },
        "template": {
         "data": {
          "bar": [
           {
            "error_x": {
             "color": "#2a3f5f"
            },
            "error_y": {
             "color": "#2a3f5f"
            },
            "marker": {
             "line": {
              "color": "#E5ECF6",
              "width": 0.5
             },
             "pattern": {
              "fillmode": "overlay",
              "size": 10,
              "solidity": 0.2
             }
            },
            "type": "bar"
           }
          ],
          "barpolar": [
           {
            "marker": {
             "line": {
              "color": "#E5ECF6",
              "width": 0.5
             },
             "pattern": {
              "fillmode": "overlay",
              "size": 10,
              "solidity": 0.2
             }
            },
            "type": "barpolar"
           }
          ],
          "carpet": [
           {
            "aaxis": {
             "endlinecolor": "#2a3f5f",
             "gridcolor": "white",
             "linecolor": "white",
             "minorgridcolor": "white",
             "startlinecolor": "#2a3f5f"
            },
            "baxis": {
             "endlinecolor": "#2a3f5f",
             "gridcolor": "white",
             "linecolor": "white",
             "minorgridcolor": "white",
             "startlinecolor": "#2a3f5f"
            },
            "type": "carpet"
           }
          ],
          "choropleth": [
           {
            "colorbar": {
             "outlinewidth": 0,
             "ticks": ""
            },
            "type": "choropleth"
           }
          ],
          "contour": [
           {
            "colorbar": {
             "outlinewidth": 0,
             "ticks": ""
            },
            "colorscale": [
             [
              0,
              "#0d0887"
             ],
             [
              0.1111111111111111,
              "#46039f"
             ],
             [
              0.2222222222222222,
              "#7201a8"
             ],
             [
              0.3333333333333333,
              "#9c179e"
             ],
             [
              0.4444444444444444,
              "#bd3786"
             ],
             [
              0.5555555555555556,
              "#d8576b"
             ],
             [
              0.6666666666666666,
              "#ed7953"
             ],
             [
              0.7777777777777778,
              "#fb9f3a"
             ],
             [
              0.8888888888888888,
              "#fdca26"
             ],
             [
              1,
              "#f0f921"
             ]
            ],
            "type": "contour"
           }
          ],
          "contourcarpet": [
           {
            "colorbar": {
             "outlinewidth": 0,
             "ticks": ""
            },
            "type": "contourcarpet"
           }
          ],
          "heatmap": [
           {
            "colorbar": {
             "outlinewidth": 0,
             "ticks": ""
            },
            "colorscale": [
             [
              0,
              "#0d0887"
             ],
             [
              0.1111111111111111,
              "#46039f"
             ],
             [
              0.2222222222222222,
              "#7201a8"
             ],
             [
              0.3333333333333333,
              "#9c179e"
             ],
             [
              0.4444444444444444,
              "#bd3786"
             ],
             [
              0.5555555555555556,
              "#d8576b"
             ],
             [
              0.6666666666666666,
              "#ed7953"
             ],
             [
              0.7777777777777778,
              "#fb9f3a"
             ],
             [
              0.8888888888888888,
              "#fdca26"
             ],
             [
              1,
              "#f0f921"
             ]
            ],
            "type": "heatmap"
           }
          ],
          "histogram": [
           {
            "marker": {
             "pattern": {
              "fillmode": "overlay",
              "size": 10,
              "solidity": 0.2
             }
            },
            "type": "histogram"
           }
          ],
          "histogram2d": [
           {
            "colorbar": {
             "outlinewidth": 0,
             "ticks": ""
            },
            "colorscale": [
             [
              0,
              "#0d0887"
             ],
             [
              0.1111111111111111,
              "#46039f"
             ],
             [
              0.2222222222222222,
              "#7201a8"
             ],
             [
              0.3333333333333333,
              "#9c179e"
             ],
             [
              0.4444444444444444,
              "#bd3786"
             ],
             [
              0.5555555555555556,
              "#d8576b"
             ],
             [
              0.6666666666666666,
              "#ed7953"
             ],
             [
              0.7777777777777778,
              "#fb9f3a"
             ],
             [
              0.8888888888888888,
              "#fdca26"
             ],
             [
              1,
              "#f0f921"
             ]
            ],
            "type": "histogram2d"
           }
          ],
          "histogram2dcontour": [
           {
            "colorbar": {
             "outlinewidth": 0,
             "ticks": ""
            },
            "colorscale": [
             [
              0,
              "#0d0887"
             ],
             [
              0.1111111111111111,
              "#46039f"
             ],
             [
              0.2222222222222222,
              "#7201a8"
             ],
             [
              0.3333333333333333,
              "#9c179e"
             ],
             [
              0.4444444444444444,
              "#bd3786"
             ],
             [
              0.5555555555555556,
              "#d8576b"
             ],
             [
              0.6666666666666666,
              "#ed7953"
             ],
             [
              0.7777777777777778,
              "#fb9f3a"
             ],
             [
              0.8888888888888888,
              "#fdca26"
             ],
             [
              1,
              "#f0f921"
             ]
            ],
            "type": "histogram2dcontour"
           }
          ],
          "mesh3d": [
           {
            "colorbar": {
             "outlinewidth": 0,
             "ticks": ""
            },
            "type": "mesh3d"
           }
          ],
          "parcoords": [
           {
            "line": {
             "colorbar": {
              "outlinewidth": 0,
              "ticks": ""
             }
            },
            "type": "parcoords"
           }
          ],
          "pie": [
           {
            "automargin": true,
            "type": "pie"
           }
          ],
          "scatter": [
           {
            "fillpattern": {
             "fillmode": "overlay",
             "size": 10,
             "solidity": 0.2
            },
            "type": "scatter"
           }
          ],
          "scatter3d": [
           {
            "line": {
             "colorbar": {
              "outlinewidth": 0,
              "ticks": ""
             }
            },
            "marker": {
             "colorbar": {
              "outlinewidth": 0,
              "ticks": ""
             }
            },
            "type": "scatter3d"
           }
          ],
          "scattercarpet": [
           {
            "marker": {
             "colorbar": {
              "outlinewidth": 0,
              "ticks": ""
             }
            },
            "type": "scattercarpet"
           }
          ],
          "scattergeo": [
           {
            "marker": {
             "colorbar": {
              "outlinewidth": 0,
              "ticks": ""
             }
            },
            "type": "scattergeo"
           }
          ],
          "scattergl": [
           {
            "marker": {
             "colorbar": {
              "outlinewidth": 0,
              "ticks": ""
             }
            },
            "type": "scattergl"
           }
          ],
          "scattermap": [
           {
            "marker": {
             "colorbar": {
              "outlinewidth": 0,
              "ticks": ""
             }
            },
            "type": "scattermap"
           }
          ],
          "scattermapbox": [
           {
            "marker": {
             "colorbar": {
              "outlinewidth": 0,
              "ticks": ""
             }
            },
            "type": "scattermapbox"
           }
          ],
          "scatterpolar": [
           {
            "marker": {
             "colorbar": {
              "outlinewidth": 0,
              "ticks": ""
             }
            },
            "type": "scatterpolar"
           }
          ],
          "scatterpolargl": [
           {
            "marker": {
             "colorbar": {
              "outlinewidth": 0,
              "ticks": ""
             }
            },
            "type": "scatterpolargl"
           }
          ],
          "scatterternary": [
           {
            "marker": {
             "colorbar": {
              "outlinewidth": 0,
              "ticks": ""
             }
            },
            "type": "scatterternary"
           }
          ],
          "surface": [
           {
            "colorbar": {
             "outlinewidth": 0,
             "ticks": ""
            },
            "colorscale": [
             [
              0,
              "#0d0887"
             ],
             [
              0.1111111111111111,
              "#46039f"
             ],
             [
              0.2222222222222222,
              "#7201a8"
             ],
             [
              0.3333333333333333,
              "#9c179e"
             ],
             [
              0.4444444444444444,
              "#bd3786"
             ],
             [
              0.5555555555555556,
              "#d8576b"
             ],
             [
              0.6666666666666666,
              "#ed7953"
             ],
             [
              0.7777777777777778,
              "#fb9f3a"
             ],
             [
              0.8888888888888888,
              "#fdca26"
             ],
             [
              1,
              "#f0f921"
             ]
            ],
            "type": "surface"
           }
          ],
          "table": [
           {
            "cells": {
             "fill": {
              "color": "#EBF0F8"
             },
             "line": {
              "color": "white"
             }
            },
            "header": {
             "fill": {
              "color": "#C8D4E3"
             },
             "line": {
              "color": "white"
             }
            },
            "type": "table"
           }
          ]
         },
         "layout": {
          "annotationdefaults": {
           "arrowcolor": "#2a3f5f",
           "arrowhead": 0,
           "arrowwidth": 1
          },
          "autotypenumbers": "strict",
          "coloraxis": {
           "colorbar": {
            "outlinewidth": 0,
            "ticks": ""
           }
          },
          "colorscale": {
           "diverging": [
            [
             0,
             "#8e0152"
            ],
            [
             0.1,
             "#c51b7d"
            ],
            [
             0.2,
             "#de77ae"
            ],
            [
             0.3,
             "#f1b6da"
            ],
            [
             0.4,
             "#fde0ef"
            ],
            [
             0.5,
             "#f7f7f7"
            ],
            [
             0.6,
             "#e6f5d0"
            ],
            [
             0.7,
             "#b8e186"
            ],
            [
             0.8,
             "#7fbc41"
            ],
            [
             0.9,
             "#4d9221"
            ],
            [
             1,
             "#276419"
            ]
           ],
           "sequential": [
            [
             0,
             "#0d0887"
            ],
            [
             0.1111111111111111,
             "#46039f"
            ],
            [
             0.2222222222222222,
             "#7201a8"
            ],
            [
             0.3333333333333333,
             "#9c179e"
            ],
            [
             0.4444444444444444,
             "#bd3786"
            ],
            [
             0.5555555555555556,
             "#d8576b"
            ],
            [
             0.6666666666666666,
             "#ed7953"
            ],
            [
             0.7777777777777778,
             "#fb9f3a"
            ],
            [
             0.8888888888888888,
             "#fdca26"
            ],
            [
             1,
             "#f0f921"
            ]
           ],
           "sequentialminus": [
            [
             0,
             "#0d0887"
            ],
            [
             0.1111111111111111,
             "#46039f"
            ],
            [
             0.2222222222222222,
             "#7201a8"
            ],
            [
             0.3333333333333333,
             "#9c179e"
            ],
            [
             0.4444444444444444,
             "#bd3786"
            ],
            [
             0.5555555555555556,
             "#d8576b"
            ],
            [
             0.6666666666666666,
             "#ed7953"
            ],
            [
             0.7777777777777778,
             "#fb9f3a"
            ],
            [
             0.8888888888888888,
             "#fdca26"
            ],
            [
             1,
             "#f0f921"
            ]
           ]
          },
          "colorway": [
           "#636efa",
           "#EF553B",
           "#00cc96",
           "#ab63fa",
           "#FFA15A",
           "#19d3f3",
           "#FF6692",
           "#B6E880",
           "#FF97FF",
           "#FECB52"
          ],
          "font": {
           "color": "#2a3f5f"
          },
          "geo": {
           "bgcolor": "white",
           "lakecolor": "white",
           "landcolor": "#E5ECF6",
           "showlakes": true,
           "showland": true,
           "subunitcolor": "white"
          },
          "hoverlabel": {
           "align": "left"
          },
          "hovermode": "closest",
          "mapbox": {
           "style": "light"
          },
          "paper_bgcolor": "white",
          "plot_bgcolor": "#E5ECF6",
          "polar": {
           "angularaxis": {
            "gridcolor": "white",
            "linecolor": "white",
            "ticks": ""
           },
           "bgcolor": "#E5ECF6",
           "radialaxis": {
            "gridcolor": "white",
            "linecolor": "white",
            "ticks": ""
           }
          },
          "scene": {
           "xaxis": {
            "backgroundcolor": "#E5ECF6",
            "gridcolor": "white",
            "gridwidth": 2,
            "linecolor": "white",
            "showbackground": true,
            "ticks": "",
            "zerolinecolor": "white"
           },
           "yaxis": {
            "backgroundcolor": "#E5ECF6",
            "gridcolor": "white",
            "gridwidth": 2,
            "linecolor": "white",
            "showbackground": true,
            "ticks": "",
            "zerolinecolor": "white"
           },
           "zaxis": {
            "backgroundcolor": "#E5ECF6",
            "gridcolor": "white",
            "gridwidth": 2,
            "linecolor": "white",
            "showbackground": true,
            "ticks": "",
            "zerolinecolor": "white"
           }
          },
          "shapedefaults": {
           "line": {
            "color": "#2a3f5f"
           }
          },
          "ternary": {
           "aaxis": {
            "gridcolor": "white",
            "linecolor": "white",
            "ticks": ""
           },
           "baxis": {
            "gridcolor": "white",
            "linecolor": "white",
            "ticks": ""
           },
           "bgcolor": "#E5ECF6",
           "caxis": {
            "gridcolor": "white",
            "linecolor": "white",
            "ticks": ""
           }
          },
          "title": {
           "x": 0.05
          },
          "xaxis": {
           "automargin": true,
           "gridcolor": "white",
           "linecolor": "white",
           "ticks": "",
           "title": {
            "standoff": 15
           },
           "zerolinecolor": "white",
           "zerolinewidth": 2
          },
          "yaxis": {
           "automargin": true,
           "gridcolor": "white",
           "linecolor": "white",
           "ticks": "",
           "title": {
            "standoff": 15
           },
           "zerolinecolor": "white",
           "zerolinewidth": 2
          }
         }
        },
        "title": {
         "text": "2D FAISS Vector Store Visualization"
        },
        "width": 800,
        "xaxis": {
         "autorange": true,
         "range": [
          -15.667876652766017,
          10.875829152155665
         ],
         "type": "linear"
        },
        "yaxis": {
         "autorange": true,
         "range": [
          -9.049799192186727,
          9.193005788561239
         ],
         "type": "linear"
        }
       }
      },
      "image/png": "[encoded data removed]"
     },
     "metadata": {},
     "output_type": "display_data"
    }
   ],
   "source": [
    "# We humans find it easier to visalize things in 2D!\n",
    "# Reduce the dimensionality of the vectors to 2D using t-SNE\n",
    "# (t-distributed stochastic neighbor embedding)\n",
    "\n",
    "tsne = TSNE(n_components=2, random_state=42)\n",
    "reduced_vectors = tsne.fit_transform(vectors)\n",
    "\n",
    "# Create the 2D scatter plot\n",
    "fig = go.Figure(data=[go.Scatter(\n",
    "    x=reduced_vectors[:, 0],\n",
    "    y=reduced_vectors[:, 1],\n",
    "    mode='markers',\n",
    "    marker=dict(size=5, color=colors, opacity=0.8),\n",
    "    text=[f\"Type: {t}<br>Text: {d[:100]}...\" for t, d in zip(doc_types, documents)],\n",
    "    hoverinfo='text'\n",
    ")])\n",
    "\n",
    "fig.update_layout(\n",
    "    title='2D FAISS Vector Store Visualization',\n",
    "    scene=dict(xaxis_title='x',yaxis_title='y'),\n",
    "    width=800,\n",
    "    height=600,\n",
    "    margin=dict(r=20, b=10, l=10, t=40)\n",
    ")\n",
    "\n",
    "fig.show()"
   ]
  },
  {
   "cell_type": "code",
   "execution_count": 15,
   "id": "e1418e88-acd5-460a-bf2b-4e6efc88e3dd",
   "metadata": {},
   "outputs": [
    {
     "data": {
      "application/vnd.plotly.v1+json": {
       "config": {
        "plotlyServerURL": "https://plot.ly"
       },
       "data": [
        {
         "hoverinfo": "text",
         "marker": {
          "color": [
           "blue",
           "blue",
           "blue",
           "blue",
           "blue",
           "blue",
           "blue",
           "blue",
           "blue",
           "blue",
           "blue",
           "blue",
           "blue",
           "blue",
           "blue",
           "blue",
           "blue",
           "blue",
           "blue",
           "blue",
           "blue",
           "red",
           "red",
           "red",
           "red",
           "red",
           "red",
           "red",
           "red",
           "red",
           "red",
           "red",
           "red",
           "red",
           "red",
           "red",
           "red",
           "red",
           "red",
           "red",
           "red",
           "red",
           "red",
           "red",
           "red",
           "red",
           "red",
           "red",
           "red",
           "red",
           "red",
           "red",
           "red",
           "red",
           "red",
           "red",
           "red",
           "red",
           "red",
           "red",
           "red",
           "red",
           "red",
           "red",
           "red",
           "red",
           "red",
           "red",
           "red",
           "red",
           "red",
           "red",
           "red",
           "orange",
           "orange",
           "orange",
           "green",
           "green",
           "green",
           "green",
           "green",
           "green",
           "green",
           "green",
           "green",
           "green",
           "green",
           "green",
           "green",
           "green",
           "green",
           "green",
           "green",
           "green",
           "green",
           "green",
           "green",
           "green",
           "green",
           "green",
           "green",
           "green",
           "green",
           "green",
           "green",
           "green",
           "green",
           "green",
           "green",
           "green",
           "green",
           "green",
           "green",
           "green",
           "green",
           "green",
           "green",
           "green",
           "green",
           "green",
           "green",
           "green",
           "green"
          ],
          "opacity": 0.8,
          "size": 5
         },
         "mode": "markers",
         "text": [
          "Type: products<br>Text: # Product Summary\n\n# Rellm: AI-Powered Enterprise Reinsurance Solution\n\n## Summary\n\nRellm is an inno...",
          "Type: products<br>Text: ### Seamless Integrations\nRellm's architecture is designed for effortless integration with existing ...",
          "Type: products<br>Text: ### Regulatory Compliance Tools\nRellm includes built-in compliance tracking features to help organiz...",
          "Type: products<br>Text: Join the growing number of organizations leveraging Rellm to enhance their reinsurance processes whi...",
          "Type: products<br>Text: Experience the future of reinsurance with Rellm, where innovation meets reliability. Let Insurellm h...",
          "Type: products<br>Text: # Product Summary\n\n# Markellm\n\n## Summary\n\nMarkellm is an innovative two-sided marketplace designed ...",
          "Type: products<br>Text: - **User-Friendly Interface**: Designed with user experience in mind, Markellm features an intuitive...",
          "Type: products<br>Text: - **Customer Support**: Our dedicated support team is always available to assist both consumers and ...",
          "Type: products<br>Text: ### For Insurance Companies:\n- **Basic Listing Fee**: $199/month for a featured listing on the platf...",
          "Type: products<br>Text: ### Q3 2025\n- Initiate a comprehensive marketing campaign targeting both consumers and insurers to i...",
          "Type: products<br>Text: # Product Summary\n\n# Homellm\n\n## Summary\nHomellm is an innovative home insurance product developed b...",
          "Type: products<br>Text: ### 2. Dynamic Pricing Model\nWith Homellm's innovative dynamic pricing model, insurance providers ca...",
          "Type: products<br>Text: ### 5. Multi-Channel Integration\nHomellm seamlessly integrates into existing insurance platforms, pr...",
          "Type: products<br>Text: - **Basic Tier:** Starting at $5,000/month for small insurers with basic integration features.\n- **S...",
          "Type: products<br>Text: All tiers include a comprehensive training program and ongoing updates to ensure optimal performance...",
          "Type: products<br>Text: With Homellm, Insurellm is committed to transforming the landscape of home insurance, ensuring both ...",
          "Type: products<br>Text: # Product Summary\n\n# Carllm\n\n## Summary\n\nCarllm is an innovative auto insurance product developed by...",
          "Type: products<br>Text: - **Instant Quoting**: With Carllm, insurance companies can offer near-instant quotes to customers, ...",
          "Type: products<br>Text: - **Mobile Integration**: Carllm is designed to work seamlessly with mobile applications, providing ...",
          "Type: products<br>Text: - **Professional Tier**: $2,500/month\n  - For medium-sized companies.\n  - All Basic Tier features pl...",
          "Type: products<br>Text: ### Q2 2025: Customer Experience Improvements\n- Launch of a new **mobile app** for end-users.\n- Intr...",
          "Type: contracts<br>Text: # Contract with GreenField Holdings for Markellm\n\n**Effective Date:** November 15, 2023  \n**Contract...",
          "Type: contracts<br>Text: ## Renewal\n1. **Automatic Renewal**: This contract will automatically renew for sequential one-year ...",
          "Type: contracts<br>Text: ## Features\n1. **AI-Powered Matching**: Access to advanced algorithms that connect GreenField Holdin...",
          "Type: contracts<br>Text: ## Support\n1. **Customer Support Access**: The Client will have access to dedicated support through ...",
          "Type: contracts<br>Text: **Signatures:**  \n_________________________                           _________________________  \n**...",
          "Type: contracts<br>Text: # Contract with Apex Reinsurance for Rellm: AI-Powered Enterprise Reinsurance Solution\n\n## Terms\n\n1....",
          "Type: contracts<br>Text: ## Renewal\n\n1. **Automatic Renewal**: This Agreement will automatically renew for successive one-yea...",
          "Type: contracts<br>Text: 2. **Seamless Integrations**: The architecture of Rellm allows for easy integration with existing sy...",
          "Type: contracts<br>Text: 1. **Technical Support**: Provider shall offer dedicated technical support to the Client via phone, ...",
          "Type: contracts<br>Text: **Insurellm, Inc.**  \n_____________________________  \nAuthorized Signature   \nDate: ________________...",
          "Type: contracts<br>Text: # Contract with Greenstone Insurance for Homellm\n\n---\n\n## Terms\n\n1. **Parties**: This Contract (\"Agr...",
          "Type: contracts<br>Text: 4. **Payment Terms**: \n   - The Customer shall pay an amount of $10,000 per month for the Standard T...",
          "Type: contracts<br>Text: ---\n\n## Features\n\n- **AI-Powered Risk Assessment**: Customer will have access to enhanced risk evalu...",
          "Type: contracts<br>Text: - **Customer Portal**: A dedicated portal will be provided, allowing the Customer's clients to manag...",
          "Type: contracts<br>Text: ______________________________  \n[Name], [Title]  \nDate: ______________________\n\n**For Greenstone In...",
          "Type: contracts<br>Text: # Contract with Roadway Insurance Inc. for Carllm\n\n---\n\n## Terms\n\n1. **Agreement Effective Date**: T...",
          "Type: contracts<br>Text: ---\n\n## Renewal\n\n1. **Automatic Renewal**: This agreement will automatically renew for an additional...",
          "Type: contracts<br>Text: ---\n\n## Features\n\n1. **Access to Core Features**: Roadway Insurance Inc. will have access to all Pro...",
          "Type: contracts<br>Text: ---\n\n## Support\n\n1. **Technical Support**: Roadway Insurance Inc. will receive priority technical su...",
          "Type: contracts<br>Text: # Contract with Stellar Insurance Co. for Rellm\n\n## Terms\nThis contract is made between **Insurellm*...",
          "Type: contracts<br>Text: ### Termination\nEither party may terminate this agreement with a **30-day written notice**. In the e...",
          "Type: contracts<br>Text: ## Features\nStellar Insurance Co. will receive access to the following features of the Rellm product...",
          "Type: contracts<br>Text: ## Support\nInsurellm provides Stellar Insurance Co. with the following support services:\n\n- **24/7 T...",
          "Type: contracts<br>Text: # Contract with TechDrive Insurance for Carllm\n\n**Contract Date:** October 1, 2024  \n**Contract Dura...",
          "Type: contracts<br>Text: ## Renewal\n\n1. **Automatic Renewal**: This contract shall automatically renew for additional one-yea...",
          "Type: contracts<br>Text: ## Support\n\n1. **Customer Support**: Insurellm will provide 24/7 customer support to TechDrive Insur...",
          "Type: contracts<br>Text: **TechDrive Insurance Representative:**  \nName: Sarah Johnson  \nTitle: Operations Director  \nDate: _...",
          "Type: contracts<br>Text: # Contract with Belvedere Insurance for Markellm\n\n## Terms\nThis Contract (\"Agreement\") is made and e...",
          "Type: contracts<br>Text: ## Renewal\n1. **Renewal Terms**: This Agreement may be renewed for additional one-year terms upon mu...",
          "Type: contracts<br>Text: ## Features\n1. **AI-Powered Matching**: Belvedere Insurance will benefit from Markellm's AI-powered ...",
          "Type: contracts<br>Text: ## Support\n1. **Technical Support**: Technical support will be available from 9 AM to 7 PM EST, Mond...",
          "Type: contracts<br>Text: **Belvedere Insurance**  \nSignature: ______________________  \nName: [Authorized Signatory]  \nTitle: ...",
          "Type: contracts<br>Text: # Contract with Velocity Auto Solutions for Carllm\n\n**Contract Date:** October 1, 2023  \n**Contract ...",
          "Type: contracts<br>Text: ## Renewal\n\n1. **Automatic Renewal**: This contract will automatically renew for successive 12-month...",
          "Type: contracts<br>Text: ## Support\n\n1. **Customer Support**: Velocity Auto Solutions will have access to Insurellm’s custome...",
          "Type: contracts<br>Text: # Contract with GreenValley Insurance for Homellm\n\n**Contract Date:** October 6, 2023  \n**Contract N...",
          "Type: contracts<br>Text: 4. **Confidentiality:** Both parties agree to maintain the confidentiality of proprietary informatio...",
          "Type: contracts<br>Text: 1. **AI-Powered Risk Assessment:** Access to advanced AI algorithms for real-time risk evaluations.\n...",
          "Type: contracts<br>Text: 3. **Regular Updates:** Insurellm will offer ongoing updates and enhancements to the Homellm platfor...",
          "Type: contracts<br>Text: # Contract with EverGuard Insurance for Rellm: AI-Powered Enterprise Reinsurance Solution\n\n**Contrac...",
          "Type: contracts<br>Text: 4. **Usage Rights**: EverGuard Insurance is granted a non-exclusive, non-transferable license to acc...",
          "Type: contracts<br>Text: 1. **Core Functionality**: Rellm provides EverGuard Insurance with advanced AI-driven analytics, sea...",
          "Type: contracts<br>Text: 1. **Customer Support**: Insurellm will provide EverGuard Insurance with 24/7 customer support, incl...",
          "Type: contracts<br>Text: ---\n\n**Signatures**  \n**For Insurellm**: __________________________  \n**Name**: John Smith  \n**Title...",
          "Type: contracts<br>Text: # Contract with BrightWay Solutions for Markellm\n\n**Contract Date:** October 5, 2023  \n**Contract ID...",
          "Type: contracts<br>Text: 3. **Service Level Agreement (SLA):**  \n   Insurellm commits to a 99.9% uptime for the platform with...",
          "Type: contracts<br>Text: 2. **Real-Time Quote Availability:**  \n   Consumers sourced via BrightWay Solutions will receive rea...",
          "Type: contracts<br>Text: 3. **Training and Onboarding:**  \n   Insurellm agrees to provide one free training session on how to...",
          "Type: contracts<br>Text: # Contract with Pinnacle Insurance Co. for Homellm\n\n## Terms\nThis contract (\"Contract\") is entered i...",
          "Type: contracts<br>Text: ## Renewal\n1. **Renewal Terms**: At the end of the initial term, this Contract shall automatically r...",
          "Type: contracts<br>Text: ## Features\n1. **AI-Powered Risk Assessment**: Utilized for tailored underwriting decisions specific...",
          "Type: contracts<br>Text: ## Support\n1. **Technical Support**: Insurellm shall provide 24/7 technical support via an email and...",
          "Type: company<br>Text: # Overview of Insurellm\n\nInsurellm is an innovative insurance tech firm with 200 employees across th...",
          "Type: company<br>Text: # Careers at Insurellm\n\nInsurellm is hiring! We are looking for talented software engineers, data sc...",
          "Type: company<br>Text: # About Insurellm\n\nInsurellm was founded by Avery Lancaster in 2015 as an insurance tech startup des...",
          "Type: employees<br>Text: # HR Record\n\n# Alex Chen\n\n## Summary\n- **Date of Birth:** March 15, 1990  \n- **Job Title:** Backend ...",
          "Type: employees<br>Text: ## Annual Performance History\n- **2020:**  \n  - Completed onboarding successfully.  \n  - Met expecta...",
          "Type: employees<br>Text: ## Compensation History\n- **2020:** Base Salary: $80,000  \n- **2021:** Base Salary Increase to $90,0...",
          "Type: employees<br>Text: Alex Chen continues to be a vital asset at Insurellm, contributing significantly to innovative backe...",
          "Type: employees<br>Text: # HR Record\n\n# Oliver Spencer\n\n## Summary\n- **Date of Birth**: May 14, 1990  \n- **Job Title**: Backe...",
          "Type: employees<br>Text: ## Annual Performance History\n- **2018**: **3/5** - Adaptable team player but still learning to take...",
          "Type: employees<br>Text: ## Compensation History\n- **March 2018**: Initial salary of $80,000.\n- **July 2019**: Salary increas...",
          "Type: employees<br>Text: # HR Record\n\n# Emily Tran\n\n## Summary\n- **Date of Birth:** March 18, 1991  \n- **Job Title:** Digital...",
          "Type: employees<br>Text: - **January 2017 - May 2018**: Marketing Intern  \n  - Supported the Marketing team by collaborating ...",
          "Type: employees<br>Text: - **2021**:  \n  - Performance Rating: Meets Expectations  \n  - Key Achievements: Contributed to the ...",
          "Type: employees<br>Text: - **Professional Development Goals**:  \n  - Emily Tran aims to become a Marketing Manager within the...",
          "Type: employees<br>Text: # HR Record\n\n# Jordan Blake\n\n## Summary\n- **Date of Birth:** March 15, 1993  \n- **Job Title:** Sales...",
          "Type: employees<br>Text: ## Annual Performance History\n- **2021:** First year at Insurellm; achieved 90% of monthly targets. ...",
          "Type: employees<br>Text: ## Other HR Notes\n- Jordan has shown an interest in continuing education, actively participating in ...",
          "Type: employees<br>Text: # Avery Lancaster\n\n## Summary\n- **Date of Birth**: March 15, 1985  \n- **Job Title**: Co-Founder & Ch...",
          "Type: employees<br>Text: - **2010 - 2013**: Business Analyst at Edge Analytics  \n  Prior to joining Innovate, Avery worked as...",
          "Type: employees<br>Text: - **2018**: **Exceeds Expectations**  \n  Under Avery’s pivoted vision, Insurellm launched two new su...",
          "Type: employees<br>Text: - **2022**: **Satisfactory**  \n  Avery focused on rebuilding team dynamics and addressing employee c...",
          "Type: employees<br>Text: ## Compensation History\n- **2015**: $150,000 base salary + Significant equity stake  \n- **2016**: $1...",
          "Type: employees<br>Text: ## Other HR Notes\n- **Professional Development**: Avery has actively participated in leadership trai...",
          "Type: employees<br>Text: # HR Record\n\n# Maxine Thompson\n\n## Summary\n- **Date of Birth:** January 15, 1991  \n- **Job Title:** ...",
          "Type: employees<br>Text: ## Insurellm Career Progression\n- **January 2017 - October 2018**: **Junior Data Engineer**  \n  * Ma...",
          "Type: employees<br>Text: ## Annual Performance History\n- **2017**: *Meets Expectations*  \n  Maxine showed potential in her ro...",
          "Type: employees<br>Text: - **2021**: *Exceeds Expectations*  \n  Maxine spearheaded the transition to a new data warehousing s...",
          "Type: employees<br>Text: ## Compensation History\n- **2017**: $70,000 (Junior Data Engineer)  \n- **2018**: $75,000 (Junior Dat...",
          "Type: employees<br>Text: # Samantha Greene\n\n## Summary\n- **Date of Birth:** October 14, 1990\n- **Job Title:** HR Generalist\n-...",
          "Type: employees<br>Text: ## Annual Performance History\n- **2020:** Exceeds Expectations  \n  Samantha Greene demonstrated exce...",
          "Type: employees<br>Text: ## Compensation History\n- **2020:** Base Salary - $55,000  \n  The entry-level salary matched industr...",
          "Type: employees<br>Text: - **2023:** Base Salary - $70,000  \n  Recognized for substantial improvement in employee relations m...",
          "Type: employees<br>Text: # HR Record\n\n# Alex Thomson\n\n## Summary\n- **Date of Birth:** March 15, 1995  \n- **Job Title:** Sales...",
          "Type: employees<br>Text: ## Annual Performance History  \n- **2022** - Rated as \"Exceeds Expectations.\" Alex Thomson achieved ...",
          "Type: employees<br>Text: ## Other HR Notes\n- Alex Thomson is an active member of the Diversity and Inclusion committee at Ins...",
          "Type: employees<br>Text: # HR Record\n\n# Samuel Trenton\n\n## Summary\n- **Date of Birth:** April 12, 1989  \n- **Job Title:** Sen...",
          "Type: employees<br>Text: ## Annual Performance History\n- **2023:** Rating: 4.5/5  \n  *Samuel exceeded expectations, successfu...",
          "Type: employees<br>Text: ## Compensation History\n- **2023:** Base Salary: $115,000 + Bonus: $15,000  \n  *Annual bonus based o...",
          "Type: employees<br>Text: - **Engagement in Company Culture:** Regularly participates in team-building events and contributes ...",
          "Type: employees<br>Text: # HR Record\n\n# Alex Harper\n\n## Summary\n- **Date of Birth**: March 15, 1993  \n- **Job Title**: Sales ...",
          "Type: employees<br>Text: ## Annual Performance History  \n- **2021**:  \n  - **Performance Rating**: 4.5/5  \n  - **Key Achievem...",
          "Type: employees<br>Text: - **2022**:  \n  - **Base Salary**: $65,000 (Promotion to Senior SDR)  \n  - **Bonus**: $13,000 (20% o...",
          "Type: employees<br>Text: # HR Record\n\n# Jordan K. Bishop\n\n## Summary\n- **Date of Birth:** March 15, 1990\n- **Job Title:** Fro...",
          "Type: employees<br>Text: ## Annual Performance History\n- **2019:** Exceeds Expectations - Continuously delivered high-quality...",
          "Type: employees<br>Text: ## Compensation History\n- **June 2018:** Starting Salary - $85,000\n- **June 2019:** Salary Increase ...",
          "Type: employees<br>Text: ## Other HR Notes\n- Jordan K. Bishop has been an integral part of club initiatives, including the In...",
          "Type: employees<br>Text: # HR Record\n\n# Emily Carter\n\n## Summary\n- **Date of Birth:** August 12, 1990  \n- **Job Title:** Acco...",
          "Type: employees<br>Text: - **2017-2019:** Marketing Intern  \n  - Assisted with market research and campaign development for s...",
          "Type: employees<br>Text: ## Compensation History\n| Year | Base Salary | Bonus         | Total Compensation |\n|------|--------...",
          "Type: employees<br>Text: Emily Carter exemplifies the kind of talent that drives Insurellm's success and is an invaluable ass..."
         ],
         "type": "scatter3d",
         "x": {
          "_inputArray": {
           "0": -41.753753662109375,
           "1": -40.5488395690918,
           "10": -53.7073974609375,
           "100": 83.28909301757812,
           "101": 80.88407135009766,
           "102": 39.95478057861328,
           "103": 86.84345245361328,
           "104": -39.37871551513672,
           "105": -20.822750091552734,
           "106": 80.25711059570312,
           "107": 6.080041885375977,
           "108": 67.03777313232422,
           "109": 85.08904266357422,
           "11": -78.10456848144531,
           "110": 84.92726135253906,
           "111": 98.01412963867188,
           "112": 33.781517028808594,
           "113": 59.691925048828125,
           "114": 71.84617614746094,
           "115": 55.0241584777832,
           "116": 52.96797561645508,
           "117": 101.2895736694336,
           "118": 34.87614059448242,
           "119": 50.725399017333984,
           "12": -1.1156995296478271,
           "120": 62.33163833618164,
           "121": 54.51445007324219,
           "122": -1.8075063228607178,
           "13": -8.749275207519531,
           "14": 11.24536418914795,
           "15": -60.722293853759766,
           "16": -62.25477600097656,
           "17": -76.14291381835938,
           "18": -71.11688232421875,
           "19": -50.876708984375,
           "2": -17.19647789001465,
           "20": 11.898807525634766,
           "21": 7.647981643676758,
           "22": -27.375280380249023,
           "23": -87.4781494140625,
           "24": 5.930656909942627,
           "25": -3.2763168811798096,
           "26": 26.71017074584961,
           "27": -50.146636962890625,
           "28": -47.88972091674805,
           "29": -8.259958267211914,
           "3": -8.82958984375,
           "30": -13.328460693359375,
           "31": -21.783674240112305,
           "32": -68.12169647216797,
           "33": -87.92893981933594,
           "34": -34.998653411865234,
           "35": -15.983511924743652,
           "36": -71.84551239013672,
           "37": -58.51234436035156,
           "38": -94.44068145751953,
           "39": -81.96106719970703,
           "4": -12.076505661010742,
           "40": -28.27255630493164,
           "41": -1.0774798393249512,
           "42": -14.154056549072266,
           "43": -12.777676582336426,
           "44": -68.2681655883789,
           "45": 45.488948822021484,
           "46": 109.81602478027344,
           "47": -9.66942024230957,
           "48": 33.6908073425293,
           "49": -8.631380081176758,
           "5": -41.13557434082031,
           "50": -54.79340362548828,
           "51": -3.3237695693969727,
           "52": -18.321163177490234,
           "53": -53.05415344238281,
           "54": -46.749107360839844,
           "55": -36.49391174316406,
           "56": -26.326377868652344,
           "57": -107.11331939697266,
           "58": -83.17755889892578,
           "59": 37.05234146118164,
           "6": -34.931396484375,
           "60": 23.743146896362305,
           "61": 48.52716827392578,
           "62": -17.350177764892578,
           "63": 4.078652858734131,
           "64": 4.009176731109619,
           "65": 121.73646545410156,
           "66": -80.61885833740234,
           "67": -74.90760803222656,
           "68": -48.48304748535156,
           "69": -35.57487106323242,
           "7": -47.852481842041016,
           "70": -25.60442543029785,
           "71": -100.84812927246094,
           "72": 17.326725006103516,
           "73": 96.41604614257812,
           "74": 6.483640670776367,
           "75": -0.41764405369758606,
           "76": -140.75621032714844,
           "77": 44.41923904418945,
           "78": 22.538768768310547,
           "79": -20.251134872436523,
           "8": -44.4736213684082,
           "80": 27.744300842285156,
           "81": 68.73085021972656,
           "82": 65.15177154541016,
           "83": 49.9372673034668,
           "84": -109.4663314819336,
           "85": 73.31244659423828,
           "86": 57.00881576538086,
           "87": 39.76272201538086,
           "88": 41.324649810791016,
           "89": 28.914241790771484,
           "9": -13.803426742553711,
           "90": 0.3810870051383972,
           "91": 17.686737060546875,
           "92": -52.930686950683594,
           "93": 4.880768299102783,
           "94": 109.31473541259766,
           "95": 0.5188100337982178,
           "96": 54.90919876098633,
           "97": 71.50116729736328,
           "98": 41.713016510009766,
           "99": 52.535343170166016,
           "bdata": "2AMnwgMyIsJjkonBAEYNwV45QcHUiiTCwLkLwvFoP8L95DHC1tpcwWDUVsKKNZzCPs+Ovwj9C8ED7TNBoeNywuQEecIsSZjC2DuOwsCBS8KEYT5BRLz0QJMA28HQ9K7C8ce9QC2vUcBurtVBKJZIwhOPP8LKKATBYEFVwfdErsFPPojCntuvwp/+C8J3vH/B57CPwqQMasKh4bzCEeyjwjIu4sHc6om/BHdiwV1xTMFNiYjCr/Q1Qs6h20LytRrBY8MGQiIaCsFyLFvCpLhUwL6RksF0N1TCFv86wsT5EcJsnNLBBTrWwulapsKZNRRC9/G9QdIbQkIqzYrBU4SCQC1LgEASefNC2zyhwrLQlcKk7kHCq0wOwt3VzME+ssnCIp2KQQTVwEL8ec9AcdXVvpfBDMNNrTFCZk+0QVMCosFU9N1BMnaJQrVNgkLDv0dCw+7awvmfkkIHCWRCBw0fQnFMJUJeUOdB1h3DPnB+jUEGuVPCQS+cQCWh2kK80AQ/BaNbQpkAj0Ih2iZCMSRSQgSUpkKlxKFCstEfQtmvrULOgx3C/pSmwaSDoEK0j8JAVxOGQpctqkLC2qlCPAfEQkYgB0KIxG5CPrGPQr0YXEI131NCQ5TKQiuBC0LP5kpCmVN5QswOWkJeXOe/",
           "dtype": "f4",
           "shape": "123"
          },
          "bdata": "2AMnwgMyIsJjkonBAEYNwV45QcHUiiTCwLkLwvFoP8L95DHC1tpcwWDUVsKKNZzCPs+Ovwj9C8ED7TNBoeNywuQEecIsSZjC2DuOwsCBS8KEYT5BRLz0QJMA28HQ9K7C8ce9QC2vUcBurtVBKJZIwhOPP8LKKATBYEFVwfdErsFPPojCntuvwp/+C8J3vH/B57CPwqQMasKh4bzCEeyjwjIu4sHc6om/BHdiwV1xTMFNiYjCr/Q1Qs6h20LytRrBY8MGQiIaCsFyLFvCpLhUwL6RksF0N1TCFv86wsT5EcJsnNLBBTrWwulapsKZNRRC9/G9QdIbQkIqzYrBU4SCQC1LgEASefNC2zyhwrLQlcKk7kHCq0wOwt3VzME+ssnCIp2KQQTVwEL8ec9AcdXVvpfBDMNNrTFCZk+0QVMCosFU9N1BMnaJQrVNgkLDv0dCw+7awvmfkkIHCWRCBw0fQnFMJUJeUOdB1h3DPnB+jUEGuVPCQS+cQCWh2kK80AQ/BaNbQpkAj0Ih2iZCMSRSQgSUpkKlxKFCstEfQtmvrULOgx3C/pSmwaSDoEK0j8JAVxOGQpctqkLC2qlCPAfEQkYgB0KIxG5CPrGPQr0YXEI131NCQ5TKQiuBC0LP5kpCmVN5QswOWkJeXOe/",
          "dtype": "f4"
         },
         "y": {
          "_inputArray": {
           "0": 28.17500877380371,
           "1": 50.548126220703125,
           "10": 51.08050537109375,
           "100": -56.46419906616211,
           "101": -5.283968925476074,
           "102": 27.917116165161133,
           "103": -0.04984566941857338,
           "104": -86.7381591796875,
           "105": -56.559852600097656,
           "106": -8.221190452575684,
           "107": -102.00065612792969,
           "108": -39.438453674316406,
           "109": 8.53872299194336,
           "11": 51.1639518737793,
           "110": -14.245742797851562,
           "111": -51.00379943847656,
           "112": -56.04841232299805,
           "113": -8.7352876663208,
           "114": -36.212860107421875,
           "115": -67.79706573486328,
           "116": 33.49070358276367,
           "117": -30.563432693481445,
           "118": -84.33334350585938,
           "119": -10.778425216674805,
           "12": 100.440185546875,
           "120": 60.18718338012695,
           "121": 0.26094669103622437,
           "122": -81.7258071899414,
           "13": 82.13462829589844,
           "14": 67.73078155517578,
           "15": 79.86095428466797,
           "16": 5.649657726287842,
           "17": -8.486416816711426,
           "18": -37.127647399902344,
           "19": 10.117204666137695,
           "2": 50.167152404785156,
           "20": 34.20907974243164,
           "21": 74.24101257324219,
           "22": 95.09180450439453,
           "23": 20.299989700317383,
           "24": 50.718841552734375,
           "25": 14.895328521728516,
           "26": 44.19554901123047,
           "27": 47.497047424316406,
           "28": 32.76423645019531,
           "29": -8.552070617675781,
           "3": 45.932044982910156,
           "30": -9.447988510131836,
           "31": 75.60343933105469,
           "32": 81.49808502197266,
           "33": 40.121368408203125,
           "34": -60.809303283691406,
           "35": 21.667137145996094,
           "36": -10.98613166809082,
           "37": 80.65220642089844,
           "38": 9.392196655273438,
           "39": -22.407995223999023,
           "4": -65.8406753540039,
           "40": -15.462584495544434,
           "41": -21.187747955322266,
           "42": 16.633304595947266,
           "43": -5.141032695770264,
           "44": -40.2862663269043,
           "45": -24.49365997314453,
           "46": -47.91368865966797,
           "47": -37.89191818237305,
           "48": 82.16964721679688,
           "49": 74.95828247070312,
           "5": 23.133268356323242,
           "50": 16.641759872436523,
           "51": -31.75035285949707,
           "52": -8.209930419921875,
           "53": -40.46125793457031,
           "54": -12.851799011230469,
           "55": -43.23938751220703,
           "56": 103.1203842163086,
           "57": 33.2202033996582,
           "58": 48.2098388671875,
           "59": -22.27920150756836,
           "6": -1.3110896348953247,
           "60": 25.95828628540039,
           "61": 34.4139404296875,
           "62": 29.781991958618164,
           "63": 14.222007751464844,
           "64": -4.431758403778076,
           "65": 0.4537546634674072,
           "66": -3.729203701019287,
           "67": -16.227678298950195,
           "68": -26.238283157348633,
           "69": 93.42088317871094,
           "7": -11.051581382751465,
           "70": 70.6299057006836,
           "71": 26.78681755065918,
           "72": -17.47178840637207,
           "73": 53.33968734741211,
           "74": -96.94300842285156,
           "75": -67.74207305908203,
           "76": -8.45054817199707,
           "77": 49.1262321472168,
           "78": 5.489126682281494,
           "79": -79.42022705078125,
           "8": -36.78342056274414,
           "80": -22.103172302246094,
           "81": 36.956687927246094,
           "82": -30.733789443969727,
           "83": 15.803475379943848,
           "84": -24.9127197265625,
           "85": 21.12417221069336,
           "86": 41.47661590576172,
           "87": -48.06657791137695,
           "88": -26.372966766357422,
           "89": -73.78767395019531,
           "9": 27.911453247070312,
           "90": -46.38395309448242,
           "91": -34.72821807861328,
           "92": -68.00206756591797,
           "93": -44.124759674072266,
           "94": 0.9246896505355835,
           "95": -61.11463165283203,
           "96": -76.48043060302734,
           "97": -76.54305267333984,
           "98": 16.04285430908203,
           "99": -95.67839813232422,
           "bdata": "a2bhQUgxSkIqq0hCaro3Qm2ug8LvELlBydGnv0fTMME5IhPCqErfQXBSTELjp0xCYOHIQu5EpEIpdodCz7ifQv/JtEBdyAfBtoIUwhLgIUEZ1ghCZnuUQgEvvkJhZqJBGOBKQkRTbkE+yDBC+vw9QpQOA0JI1QjB9ioXwfY0l0IF/6JCSHwgQro8c8JMVq1BMscvwe5NoUJwRhZBk0Ozwb9md8GCgKnBAhGFQVeDpMAjJSHCBPPDwZ6nP8JTkRfC3FakQqTqlUJTIoVBuQD+weBbA8FU2CHC+KBNwSL1LMKjPc5CfeEEQuDWQELOO7LBkqrPQeCnCUKFQe5BWI1jQffQjcCIUug+RqtuwEnSgcEB6NHBfte6QoNCjUJnS9ZBOcaLwddbVULS4sHC8XuHwnI1B8FDgURC7aavQCjXnsJM07DBptMTQs3e9cEJ23xBQE3HwU7+qEEO6CVCLURAwtb70sFKk5PCK4k5wrLpCsIPAYjCwX8wwna4bD9idXTC+/WYwgsWmcLEV4BBV1u/wlfbYcJGFqnAQVbfQfkqTL3wea3CSj1iwv+JA8FWAMzC+sAdwpyeCEGQ7mPB5ANMwpMxYMK9wwvB+NkQwhmYh8J79gVC6YH0wayqqMJudCzBrb9wQs6ahT6dc6PC",
           "dtype": "f4",
           "shape": "123"
          },
          "bdata": "a2bhQUgxSkIqq0hCaro3Qm2ug8LvELlBydGnv0fTMME5IhPCqErfQXBSTELjp0xCYOHIQu5EpEIpdodCz7ifQv/JtEBdyAfBtoIUwhLgIUEZ1ghCZnuUQgEvvkJhZqJBGOBKQkRTbkE+yDBC+vw9QpQOA0JI1QjB9ioXwfY0l0IF/6JCSHwgQro8c8JMVq1BMscvwe5NoUJwRhZBk0Ozwb9md8GCgKnBAhGFQVeDpMAjJSHCBPPDwZ6nP8JTkRfC3FakQqTqlUJTIoVBuQD+weBbA8FU2CHC+KBNwSL1LMKjPc5CfeEEQuDWQELOO7LBkqrPQeCnCUKFQe5BWI1jQffQjcCIUug+RqtuwEnSgcEB6NHBfte6QoNCjUJnS9ZBOcaLwddbVULS4sHC8XuHwnI1B8FDgURC7aavQCjXnsJM07DBptMTQs3e9cEJ23xBQE3HwU7+qEEO6CVCLURAwtb70sFKk5PCK4k5wrLpCsIPAYjCwX8wwna4bD9idXTC+/WYwgsWmcLEV4BBV1u/wlfbYcJGFqnAQVbfQfkqTL3wea3CSj1iwv+JA8FWAMzC+sAdwpyeCEGQ7mPB5ANMwpMxYMK9wwvB+NkQwhmYh8J79gVC6YH0wayqqMJudCzBrb9wQs6ahT6dc6PC",
          "dtype": "f4"
         },
         "z": {
          "_inputArray": {
           "0": 34.81229782104492,
           "1": 57.456031799316406,
           "10": 11.969836235046387,
           "100": -14.327009201049805,
           "101": 49.01715850830078,
           "102": -32.53096008300781,
           "103": 10.766074180603027,
           "104": 14.400135040283203,
           "105": 106.12386322021484,
           "106": -70.24378967285156,
           "107": -34.649234771728516,
           "108": 42.027061462402344,
           "109": -44.20627212524414,
           "11": -2.3483099937438965,
           "110": -26.913562774658203,
           "111": 38.02275085449219,
           "112": 1.48043954372406,
           "113": -43.660133361816406,
           "114": -46.532936096191406,
           "115": -56.14405059814453,
           "116": -83.62461853027344,
           "117": -5.680605888366699,
           "118": -52.97110366821289,
           "119": 30.53951644897461,
           "12": 31.659297943115234,
           "120": -30.669902801513672,
           "121": -8.884136199951172,
           "122": -1.6964621543884277,
           "13": 60.09220504760742,
           "14": 43.996185302734375,
           "15": -2.3916068077087402,
           "16": 18.535476684570312,
           "17": 2.715784788131714,
           "18": 9.481086730957031,
           "19": -86.66339111328125,
           "2": 83.36479949951172,
           "20": 11.958224296569824,
           "21": -9.616194725036621,
           "22": -55.14493179321289,
           "23": -32.572784423828125,
           "24": -29.08953285217285,
           "25": -43.09878158569336,
           "26": 88.97162628173828,
           "27": -67.24943542480469,
           "28": 76.0438461303711,
           "29": 30.385683059692383,
           "3": 28.675539016723633,
           "30": -44.546142578125,
           "31": 2.893285036087036,
           "32": 41.04914855957031,
           "33": 21.477436065673828,
           "34": -78.20260620117188,
           "35": -64.12025451660156,
           "36": 74.76520538330078,
           "37": -51.916404724121094,
           "38": 38.334075927734375,
           "39": 43.9847526550293,
           "4": 67.66831970214844,
           "40": 88.49256134033203,
           "41": 94.96434783935547,
           "42": 84.16801452636719,
           "43": 65.51306915283203,
           "44": 81.12154388427734,
           "45": -95.14900207519531,
           "46": -51.308982849121094,
           "47": 2.54107928276062,
           "48": 2.343482732772827,
           "49": -65.39005279541016,
           "5": -6.172219276428223,
           "50": -31.510276794433594,
           "51": 45.20492935180664,
           "52": -73.35881805419922,
           "53": 57.68421173095703,
           "54": 42.36215591430664,
           "55": 30.655851364135742,
           "56": -7.30662727355957,
           "57": -57.35987091064453,
           "58": -30.6994686126709,
           "59": 78.4871597290039,
           "6": -3.3601527214050293,
           "60": 67.72449493408203,
           "61": 59.988346099853516,
           "62": 57.471031188964844,
           "63": 47.08308029174805,
           "64": -13.42515754699707,
           "65": 31.056259155273438,
           "66": -66.1448745727539,
           "67": -40.21043014526367,
           "68": -65.53382873535156,
           "69": 22.904233932495117,
           "7": -24.1007080078125,
           "70": -46.81064224243164,
           "71": -2.2720768451690674,
           "72": 50.61513137817383,
           "73": 3.767138957977295,
           "74": 32.86919403076172,
           "75": 32.04220199584961,
           "76": 10.698700904846191,
           "77": -62.28339767456055,
           "78": -83.08030700683594,
           "79": -22.359228134155273,
           "8": -16.914365768432617,
           "80": 8.557242393493652,
           "81": -57.9947509765625,
           "82": -4.132826805114746,
           "83": 22.74958610534668,
           "84": -12.637479782104492,
           "85": -14.458452224731445,
           "86": 14.82503890991211,
           "87": 27.84034538269043,
           "88": -29.366838455200195,
           "89": -29.107961654663086,
           "9": 0.2718351185321808,
           "90": -31.90093994140625,
           "91": -59.239498138427734,
           "92": -44.70331573486328,
           "93": -85.75285339355469,
           "94": -17.392757415771484,
           "95": -51.01226806640625,
           "96": 44.286293029785156,
           "97": 2.9063682556152344,
           "98": -58.87773132324219,
           "99": -5.011196613311768,
           "bdata": "yz8LQvrSZULHuqZCgWflQS5Wh0LSgsXAvgxXwEDOwMGfUIfB+S2LPnOEP0G2ShbAPkb9QWtecEIY/C9CFhAZwKhIlEFrzy1AiLIXQahTrcLjVD9B79sZwWmUXMKISgLCXbfowSdlLMJ58bFCtn+GwnMWmELhFfNBQC8ywpUrOUBUMiRCytGrQbxnnMKSPYDCyYeVQmaqT8IYVhlCY/AvQjH8sEK/7b1CBlaoQrEGg0I7PqJCSky+wmY8TcILoSJAn/sVQLXHgsIMFfzB2dE0Qre3ksKivGZC2XIpQi8/9UHkz+nAgnBlwoOY9cFt+ZxC8XKHQhH0b0JW4mVCE1U8QnLNVsE4c/hBLUqEwnvXIMJSEYPC3zu3QRk+O8K1aRHA5XVKQs4YcUAOegNCNysAQuEtK0EzInnCHimmwrPfssF36ghBoPpnwh5AhMAn/7VBHjNKwdJVZ8FcM21BB7neQUnv6sEb3ejBIDX/wT/1bMIy0DLCdoGrwl4ki8GQDEzCKiUxQvABOkDMgmvCuVugwG47ZcGSEURCtB8CwtdBLEH0ZmZBaz/UQtJ8jMLRmArCthsoQjnTMML6TtfBTBcYQgt/vT/6oy7CuiE6woKTYMLOP6fChse1wGniU8LuUPRB9lv1wWwlDsGsJdm/",
           "dtype": "f4",
           "shape": "123"
          },
          "bdata": "yz8LQvrSZULHuqZCgWflQS5Wh0LSgsXAvgxXwEDOwMGfUIfB+S2LPnOEP0G2ShbAPkb9QWtecEIY/C9CFhAZwKhIlEFrzy1AiLIXQahTrcLjVD9B79sZwWmUXMKISgLCXbfowSdlLMJ58bFCtn+GwnMWmELhFfNBQC8ywpUrOUBUMiRCytGrQbxnnMKSPYDCyYeVQmaqT8IYVhlCY/AvQjH8sEK/7b1CBlaoQrEGg0I7PqJCSky+wmY8TcILoSJAn/sVQLXHgsIMFfzB2dE0Qre3ksKivGZC2XIpQi8/9UHkz+nAgnBlwoOY9cFt+ZxC8XKHQhH0b0JW4mVCE1U8QnLNVsE4c/hBLUqEwnvXIMJSEYPC3zu3QRk+O8K1aRHA5XVKQs4YcUAOegNCNysAQuEtK0EzInnCHimmwrPfssF36ghBoPpnwh5AhMAn/7VBHjNKwdJVZ8FcM21BB7neQUnv6sEb3ejBIDX/wT/1bMIy0DLCdoGrwl4ki8GQDEzCKiUxQvABOkDMgmvCuVugwG47ZcGSEURCtB8CwtdBLEH0ZmZBaz/UQtJ8jMLRmArCthsoQjnTMML6TtfBTBcYQgt/vT/6oy7CuiE6woKTYMLOP6fChse1wGniU8LuUPRB9lv1wWwlDsGsJdm/",
          "dtype": "f4"
         }
        }
       ],
       "layout": {
        "height": 700,
        "margin": {
         "b": 10,
         "l": 10,
         "r": 20,
         "t": 40
        },
        "scene": {
         "aspectmode": "auto",
         "aspectratio": {
          "x": 1.186168299871478,
          "y": 0.9269137699512666,
          "z": 0.9095243961651567
         },
         "camera": {
          "center": {
           "x": 0,
           "y": 0,
           "z": 0
          },
          "eye": {
           "x": 3.469559636005058,
           "y": 3.469559636005057,
           "z": 3.469559636005058
          },
          "projection": {
           "type": "perspective"
          },
          "up": {
           "x": 0,
           "y": 0,
           "z": 1
          }
         },
         "xaxis": {
          "title": {
           "text": "x"
          },
          "type": "linear"
         },
         "yaxis": {
          "title": {
           "text": "y"
          },
          "type": "linear"
         },
         "zaxis": {
          "title": {
           "text": "z"
          },
          "type": "linear"
         }
        },
        "template": {
         "data": {
          "bar": [
           {
            "error_x": {
             "color": "#2a3f5f"
            },
            "error_y": {
             "color": "#2a3f5f"
            },
            "marker": {
             "line": {
              "color": "#E5ECF6",
              "width": 0.5
             },
             "pattern": {
              "fillmode": "overlay",
              "size": 10,
              "solidity": 0.2
             }
            },
            "type": "bar"
           }
          ],
          "barpolar": [
           {
            "marker": {
             "line": {
              "color": "#E5ECF6",
              "width": 0.5
             },
             "pattern": {
              "fillmode": "overlay",
              "size": 10,
              "solidity": 0.2
             }
            },
            "type": "barpolar"
           }
          ],
          "carpet": [
           {
            "aaxis": {
             "endlinecolor": "#2a3f5f",
             "gridcolor": "white",
             "linecolor": "white",
             "minorgridcolor": "white",
             "startlinecolor": "#2a3f5f"
            },
            "baxis": {
             "endlinecolor": "#2a3f5f",
             "gridcolor": "white",
             "linecolor": "white",
             "minorgridcolor": "white",
             "startlinecolor": "#2a3f5f"
            },
            "type": "carpet"
           }
          ],
          "choropleth": [
           {
            "colorbar": {
             "outlinewidth": 0,
             "ticks": ""
            },
            "type": "choropleth"
           }
          ],
          "contour": [
           {
            "colorbar": {
             "outlinewidth": 0,
             "ticks": ""
            },
            "colorscale": [
             [
              0,
              "#0d0887"
             ],
             [
              0.1111111111111111,
              "#46039f"
             ],
             [
              0.2222222222222222,
              "#7201a8"
             ],
             [
              0.3333333333333333,
              "#9c179e"
             ],
             [
              0.4444444444444444,
              "#bd3786"
             ],
             [
              0.5555555555555556,
              "#d8576b"
             ],
             [
              0.6666666666666666,
              "#ed7953"
             ],
             [
              0.7777777777777778,
              "#fb9f3a"
             ],
             [
              0.8888888888888888,
              "#fdca26"
             ],
             [
              1,
              "#f0f921"
             ]
            ],
            "type": "contour"
           }
          ],
          "contourcarpet": [
           {
            "colorbar": {
             "outlinewidth": 0,
             "ticks": ""
            },
            "type": "contourcarpet"
           }
          ],
          "heatmap": [
           {
            "colorbar": {
             "outlinewidth": 0,
             "ticks": ""
            },
            "colorscale": [
             [
              0,
              "#0d0887"
             ],
             [
              0.1111111111111111,
              "#46039f"
             ],
             [
              0.2222222222222222,
              "#7201a8"
             ],
             [
              0.3333333333333333,
              "#9c179e"
             ],
             [
              0.4444444444444444,
              "#bd3786"
             ],
             [
              0.5555555555555556,
              "#d8576b"
             ],
             [
              0.6666666666666666,
              "#ed7953"
             ],
             [
              0.7777777777777778,
              "#fb9f3a"
             ],
             [
              0.8888888888888888,
              "#fdca26"
             ],
             [
              1,
              "#f0f921"
             ]
            ],
            "type": "heatmap"
           }
          ],
          "histogram": [
           {
            "marker": {
             "pattern": {
              "fillmode": "overlay",
              "size": 10,
              "solidity": 0.2
             }
            },
            "type": "histogram"
           }
          ],
          "histogram2d": [
           {
            "colorbar": {
             "outlinewidth": 0,
             "ticks": ""
            },
            "colorscale": [
             [
              0,
              "#0d0887"
             ],
             [
              0.1111111111111111,
              "#46039f"
             ],
             [
              0.2222222222222222,
              "#7201a8"
             ],
             [
              0.3333333333333333,
              "#9c179e"
             ],
             [
              0.4444444444444444,
              "#bd3786"
             ],
             [
              0.5555555555555556,
              "#d8576b"
             ],
             [
              0.6666666666666666,
              "#ed7953"
             ],
             [
              0.7777777777777778,
              "#fb9f3a"
             ],
             [
              0.8888888888888888,
              "#fdca26"
             ],
             [
              1,
              "#f0f921"
             ]
            ],
            "type": "histogram2d"
           }
          ],
          "histogram2dcontour": [
           {
            "colorbar": {
             "outlinewidth": 0,
             "ticks": ""
            },
            "colorscale": [
             [
              0,
              "#0d0887"
             ],
             [
              0.1111111111111111,
              "#46039f"
             ],
             [
              0.2222222222222222,
              "#7201a8"
             ],
             [
              0.3333333333333333,
              "#9c179e"
             ],
             [
              0.4444444444444444,
              "#bd3786"
             ],
             [
              0.5555555555555556,
              "#d8576b"
             ],
             [
              0.6666666666666666,
              "#ed7953"
             ],
             [
              0.7777777777777778,
              "#fb9f3a"
             ],
             [
              0.8888888888888888,
              "#fdca26"
             ],
             [
              1,
              "#f0f921"
             ]
            ],
            "type": "histogram2dcontour"
           }
          ],
          "mesh3d": [
           {
            "colorbar": {
             "outlinewidth": 0,
             "ticks": ""
            },
            "type": "mesh3d"
           }
          ],
          "parcoords": [
           {
            "line": {
             "colorbar": {
              "outlinewidth": 0,
              "ticks": ""
             }
            },
            "type": "parcoords"
           }
          ],
          "pie": [
           {
            "automargin": true,
            "type": "pie"
           }
          ],
          "scatter": [
           {
            "fillpattern": {
             "fillmode": "overlay",
             "size": 10,
             "solidity": 0.2
            },
            "type": "scatter"
           }
          ],
          "scatter3d": [
           {
            "line": {
             "colorbar": {
              "outlinewidth": 0,
              "ticks": ""
             }
            },
            "marker": {
             "colorbar": {
              "outlinewidth": 0,
              "ticks": ""
             }
            },
            "type": "scatter3d"
           }
          ],
          "scattercarpet": [
           {
            "marker": {
             "colorbar": {
              "outlinewidth": 0,
              "ticks": ""
             }
            },
            "type": "scattercarpet"
           }
          ],
          "scattergeo": [
           {
            "marker": {
             "colorbar": {
              "outlinewidth": 0,
              "ticks": ""
             }
            },
            "type": "scattergeo"
           }
          ],
          "scattergl": [
           {
            "marker": {
             "colorbar": {
              "outlinewidth": 0,
              "ticks": ""
             }
            },
            "type": "scattergl"
           }
          ],
          "scattermap": [
           {
            "marker": {
             "colorbar": {
              "outlinewidth": 0,
              "ticks": ""
             }
            },
            "type": "scattermap"
           }
          ],
          "scattermapbox": [
           {
            "marker": {
             "colorbar": {
              "outlinewidth": 0,
              "ticks": ""
             }
            },
            "type": "scattermapbox"
           }
          ],
          "scatterpolar": [
           {
            "marker": {
             "colorbar": {
              "outlinewidth": 0,
              "ticks": ""
             }
            },
            "type": "scatterpolar"
           }
          ],
          "scatterpolargl": [
           {
            "marker": {
             "colorbar": {
              "outlinewidth": 0,
              "ticks": ""
             }
            },
            "type": "scatterpolargl"
           }
          ],
          "scatterternary": [
           {
            "marker": {
             "colorbar": {
              "outlinewidth": 0,
              "ticks": ""
             }
            },
            "type": "scatterternary"
           }
          ],
          "surface": [
           {
            "colorbar": {
             "outlinewidth": 0,
             "ticks": ""
            },
            "colorscale": [
             [
              0,
              "#0d0887"
             ],
             [
              0.1111111111111111,
              "#46039f"
             ],
             [
              0.2222222222222222,
              "#7201a8"
             ],
             [
              0.3333333333333333,
              "#9c179e"
             ],
             [
              0.4444444444444444,
              "#bd3786"
             ],
             [
              0.5555555555555556,
              "#d8576b"
             ],
             [
              0.6666666666666666,
              "#ed7953"
             ],
             [
              0.7777777777777778,
              "#fb9f3a"
             ],
             [
              0.8888888888888888,
              "#fdca26"
             ],
             [
              1,
              "#f0f921"
             ]
            ],
            "type": "surface"
           }
          ],
          "table": [
           {
            "cells": {
             "fill": {
              "color": "#EBF0F8"
             },
             "line": {
              "color": "white"
             }
            },
            "header": {
             "fill": {
              "color": "#C8D4E3"
             },
             "line": {
              "color": "white"
             }
            },
            "type": "table"
           }
          ]
         },
         "layout": {
          "annotationdefaults": {
           "arrowcolor": "#2a3f5f",
           "arrowhead": 0,
           "arrowwidth": 1
          },
          "autotypenumbers": "strict",
          "coloraxis": {
           "colorbar": {
            "outlinewidth": 0,
            "ticks": ""
           }
          },
          "colorscale": {
           "diverging": [
            [
             0,
             "#8e0152"
            ],
            [
             0.1,
             "#c51b7d"
            ],
            [
             0.2,
             "#de77ae"
            ],
            [
             0.3,
             "#f1b6da"
            ],
            [
             0.4,
             "#fde0ef"
            ],
            [
             0.5,
             "#f7f7f7"
            ],
            [
             0.6,
             "#e6f5d0"
            ],
            [
             0.7,
             "#b8e186"
            ],
            [
             0.8,
             "#7fbc41"
            ],
            [
             0.9,
             "#4d9221"
            ],
            [
             1,
             "#276419"
            ]
           ],
           "sequential": [
            [
             0,
             "#0d0887"
            ],
            [
             0.1111111111111111,
             "#46039f"
            ],
            [
             0.2222222222222222,
             "#7201a8"
            ],
            [
             0.3333333333333333,
             "#9c179e"
            ],
            [
             0.4444444444444444,
             "#bd3786"
            ],
            [
             0.5555555555555556,
             "#d8576b"
            ],
            [
             0.6666666666666666,
             "#ed7953"
            ],
            [
             0.7777777777777778,
             "#fb9f3a"
            ],
            [
             0.8888888888888888,
             "#fdca26"
            ],
            [
             1,
             "#f0f921"
            ]
           ],
           "sequentialminus": [
            [
             0,
             "#0d0887"
            ],
            [
             0.1111111111111111,
             "#46039f"
            ],
            [
             0.2222222222222222,
             "#7201a8"
            ],
            [
             0.3333333333333333,
             "#9c179e"
            ],
            [
             0.4444444444444444,
             "#bd3786"
            ],
            [
             0.5555555555555556,
             "#d8576b"
            ],
            [
             0.6666666666666666,
             "#ed7953"
            ],
            [
             0.7777777777777778,
             "#fb9f3a"
            ],
            [
             0.8888888888888888,
             "#fdca26"
            ],
            [
             1,
             "#f0f921"
            ]
           ]
          },
          "colorway": [
           "#636efa",
           "#EF553B",
           "#00cc96",
           "#ab63fa",
           "#FFA15A",
           "#19d3f3",
           "#FF6692",
           "#B6E880",
           "#FF97FF",
           "#FECB52"
          ],
          "font": {
           "color": "#2a3f5f"
          },
          "geo": {
           "bgcolor": "white",
           "lakecolor": "white",
           "landcolor": "#E5ECF6",
           "showlakes": true,
           "showland": true,
           "subunitcolor": "white"
          },
          "hoverlabel": {
           "align": "left"
          },
          "hovermode": "closest",
          "mapbox": {
           "style": "light"
          },
          "paper_bgcolor": "white",
          "plot_bgcolor": "#E5ECF6",
          "polar": {
           "angularaxis": {
            "gridcolor": "white",
            "linecolor": "white",
            "ticks": ""
           },
           "bgcolor": "#E5ECF6",
           "radialaxis": {
            "gridcolor": "white",
            "linecolor": "white",
            "ticks": ""
           }
          },
          "scene": {
           "xaxis": {
            "backgroundcolor": "#E5ECF6",
            "gridcolor": "white",
            "gridwidth": 2,
            "linecolor": "white",
            "showbackground": true,
            "ticks": "",
            "zerolinecolor": "white"
           },
           "yaxis": {
            "backgroundcolor": "#E5ECF6",
            "gridcolor": "white",
            "gridwidth": 2,
            "linecolor": "white",
            "showbackground": true,
            "ticks": "",
            "zerolinecolor": "white"
           },
           "zaxis": {
            "backgroundcolor": "#E5ECF6",
            "gridcolor": "white",
            "gridwidth": 2,
            "linecolor": "white",
            "showbackground": true,
            "ticks": "",
            "zerolinecolor": "white"
           }
          },
          "shapedefaults": {
           "line": {
            "color": "#2a3f5f"
           }
          },
          "ternary": {
           "aaxis": {
            "gridcolor": "white",
            "linecolor": "white",
            "ticks": ""
           },
           "baxis": {
            "gridcolor": "white",
            "linecolor": "white",
            "ticks": ""
           },
           "bgcolor": "#E5ECF6",
           "caxis": {
            "gridcolor": "white",
            "linecolor": "white",
            "ticks": ""
           }
          },
          "title": {
           "x": 0.05
          },
          "xaxis": {
           "automargin": true,
           "gridcolor": "white",
           "linecolor": "white",
           "ticks": "",
           "title": {
            "standoff": 15
           },
           "zerolinecolor": "white",
           "zerolinewidth": 2
          },
          "yaxis": {
           "automargin": true,
           "gridcolor": "white",
           "linecolor": "white",
           "ticks": "",
           "title": {
            "standoff": 15
           },
           "zerolinecolor": "white",
           "zerolinewidth": 2
          }
         }
        },
        "title": {
         "text": "3D FAISS Vector Store Visualization"
        },
        "width": 900
       }
      },
      "image/png": "[encoded data removed]"
     },
     "metadata": {},
     "output_type": "display_data"
    }
   ],
   "source": [
    "# Let's try 3D!\n",
    "\n",
    "tsne = TSNE(n_components=3, random_state=42)\n",
    "reduced_vectors = tsne.fit_transform(vectors)\n",
    "\n",
    "# Create the 3D scatter plot\n",
    "fig = go.Figure(data=[go.Scatter3d(\n",
    "    x=reduced_vectors[:, 0],\n",
    "    y=reduced_vectors[:, 1],\n",
    "    z=reduced_vectors[:, 2],\n",
    "    mode='markers',\n",
    "    marker=dict(size=5, color=colors, opacity=0.8),\n",
    "    text=[f\"Type: {t}<br>Text: {d[:100]}...\" for t, d in zip(doc_types, documents)],\n",
    "    hoverinfo='text'\n",
    ")])\n",
    "\n",
    "fig.update_layout(\n",
    "    title='3D FAISS Vector Store Visualization',\n",
    "    scene=dict(xaxis_title='x', yaxis_title='y', zaxis_title='z'),\n",
    "    width=900,\n",
    "    height=700,\n",
    "    margin=dict(r=20, b=10, l=10, t=40)\n",
    ")\n",
    "\n",
    "fig.show()"
   ]
  },
  {
   "cell_type": "markdown",
   "id": "9468860b-86a2-41df-af01-b2400cc985be",
   "metadata": {},
   "source": [
    "## Time to use LangChain to bring it all together"
   ]
  },
  {
   "cell_type": "code",
   "execution_count": 16,
   "id": "129c7d1e-0094-4479-9459-f9360b95f244",
   "metadata": {},
   "outputs": [
    {
     "name": "stderr",
     "output_type": "stream",
     "text": [
      "/var/folders/5t/f0rs2n5d5js_7rrg7_t8ttp40000gq/T/ipykernel_38888/4268784041.py:5: LangChainDeprecationWarning:\n",
      "\n",
      "Please see the migration guide at: https://python.langchain.com/docs/versions/migrating_memory/\n",
      "\n"
     ]
    }
   ],
   "source": [
    "# create a new Chat with OpenAI\n",
    "llm = ChatOpenAI(temperature=0.7, model_name=MODEL)\n",
    "\n",
    "# set up the conversation memory for the chat\n",
    "memory = ConversationBufferMemory(memory_key='chat_history', return_messages=True)\n",
    "\n",
    "# the retriever is an abstraction over the VectorStore that will be used during RAG\n",
    "retriever = vectorstore.as_retriever()\n",
    "\n",
    "# putting it together: set up the conversation chain with the GPT 3.5 LLM, the vector store and memory\n",
    "conversation_chain = ConversationalRetrievalChain.from_llm(llm=llm, retriever=retriever, memory=memory)"
   ]
  },
  {
   "cell_type": "code",
   "execution_count": 17,
   "id": "968e7bf2-e862-4679-a11f-6c1efb6ec8ca",
   "metadata": {},
   "outputs": [
    {
     "name": "stdout",
     "output_type": "stream",
     "text": [
      "Insurellm is an innovative insurance tech firm founded in 2015 by Avery Lancaster, aimed at disrupting the insurance industry with advanced products. With 200 employees and 12 offices across the US, the company offers four software products: Carllm for auto insurance, Homellm for home insurance, Rellm for the reinsurance sector, and Marketllm, a marketplace connecting consumers with insurance providers. Insurellm serves over 300 clients worldwide, focusing on reliability and innovation in its offerings.\n"
     ]
    }
   ],
   "source": [
    "query = \"Can you describe Insurellm in a few sentences\"\n",
    "result = conversation_chain.invoke({\"question\":query})\n",
    "print(result[\"answer\"])"
   ]
  },
  {
   "cell_type": "code",
   "execution_count": 18,
   "id": "987dadc5-5d09-4059-8f2e-733d66ecc696",
   "metadata": {},
   "outputs": [],
   "source": [
    "memory = ConversationBufferMemory(memory_key='chat_history', return_messages=True)\n",
    "conversation_chain = ConversationalRetrievalChain.from_llm(llm=llm, retriever=retriever, memory=memory)"
   ]
  },
  {
   "cell_type": "markdown",
   "id": "bbbcb659-13ce-47ab-8a5e-01b930494964",
   "metadata": {},
   "source": [
    "## Now we will bring this up in Gradio using the Chat interface -\n",
    "\n",
    "A quick and easy way to prototype a chat with an LLM"
   ]
  },
  {
   "cell_type": "code",
   "execution_count": 19,
   "id": "c3536590-85c7-4155-bd87-ae78a1467670",
   "metadata": {},
   "outputs": [],
   "source": [
    "# Wrapping that in a function\n",
    "\n",
    "def chat(message, history):\n",
    "    result = conversation_chain.invoke({\"question\": message})\n",
    "    return result[\"answer\"]"
   ]
  },
  {
   "cell_type": "code",
   "execution_count": 20,
   "id": "b252d8c1-61a8-406d-b57a-8f708a62b014",
   "metadata": {},
   "outputs": [
    {
     "name": "stdout",
     "output_type": "stream",
     "text": [
      "* Running on local URL:  http://127.0.0.1:7862\n",
      "* To create a public link, set `share=True` in `launch()`.\n"
     ]
    },
    {
     "data": {
      "text/html": [
       "<div><iframe src=\"http://127.0.0.1:7862/\" width=\"100%\" height=\"500\" allow=\"autoplay; camera; microphone; clipboard-read; clipboard-write;\" frameborder=\"0\" allowfullscreen></iframe></div>"
      ],
      "text/plain": [
       "<IPython.core.display.HTML object>"
      ]
     },
     "metadata": {},
     "output_type": "display_data"
    }
   ],
   "source": [
    "# And in Gradio:\n",
    "\n",
    "view = gr.ChatInterface(chat, type=\"messages\").launch(inbrowser=True)"
   ]
  },
  {
   "cell_type": "code",
   "execution_count": null,
   "id": "5435b2b9-935c-48cd-aaf3-73a837ecde49",
   "metadata": {},
   "outputs": [],
   "source": []
  }
 ],
 "metadata": {
  "kernelspec": {
   "display_name": "Python [conda env:llms]",
   "language": "python",
   "name": "conda-env-llms-py"
  },
  "language_info": {
   "codemirror_mode": {
    "name": "ipython",
    "version": 3
   },
   "file_extension": ".py",
   "mimetype": "text/x-python",
   "name": "python",
   "nbconvert_exporter": "python",
   "pygments_lexer": "ipython3",
   "version": "3.11.13"
  }
 },
 "nbformat": 4,
 "nbformat_minor": 5
}
