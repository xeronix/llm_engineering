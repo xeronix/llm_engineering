{
 "cells": [
  {
   "cell_type": "markdown",
   "id": "fe12c203-e6a6-452c-a655-afb8a03a4ff5",
   "metadata": {},
   "source": [
    "# End of week 1 exercise\n",
    "\n",
    "To demonstrate your familiarity with OpenAI API, and also Ollama, build a tool that takes a technical question,  \n",
    "and responds with an explanation. This is a tool that you will be able to use yourself during the course!"
   ]
  },
  {
   "cell_type": "code",
   "execution_count": 18,
   "id": "c1070317-3ed9-4659-abe3-828943230e03",
   "metadata": {},
   "outputs": [],
   "source": [
    "# imports\n",
    "from dotenv import load_dotenv\n",
    "import os\n",
    "from IPython.display import Markdown, display, update_display\n",
    "from openai import OpenAI\n",
    "import requests\n",
    "import ollama"
   ]
  },
  {
   "cell_type": "code",
   "execution_count": 7,
   "id": "4a456906-915a-4bfd-bb9d-57e505c5093f",
   "metadata": {},
   "outputs": [],
   "source": [
    "# constants\n",
    "\n",
    "MODEL_GPT = 'gpt-4o-mini'\n",
    "MODEL_LLAMA = 'llama3.2'"
   ]
  },
  {
   "cell_type": "code",
   "execution_count": 8,
   "id": "a8d7923c-5f28-4c30-8556-342d7c8497c1",
   "metadata": {},
   "outputs": [
    {
     "name": "stdout",
     "output_type": "stream",
     "text": [
      "API key found and looks good so far!\n"
     ]
    }
   ],
   "source": [
    "# set up environment\n",
    "load_dotenv(override=True)\n",
    "api_key = os.getenv('OPENAI_API_KEY')\n",
    "\n",
    "# Check the key\n",
    "\n",
    "if not api_key:\n",
    "    print(\"No API key was found - please head over to the troubleshooting notebook in this folder to identify & fix!\")\n",
    "elif not api_key.startswith(\"sk-proj-\"):\n",
    "    print(\"An API key was found, but it doesn't start sk-proj-; please check you're using the right key - see troubleshooting notebook\")\n",
    "elif api_key.strip() != api_key:\n",
    "    print(\"An API key was found, but it looks like it might have space or tab characters at the start or end - please remove them - see troubleshooting notebook\")\n",
    "else:\n",
    "    print(\"API key found and looks good so far!\")"
   ]
  },
  {
   "cell_type": "code",
   "execution_count": 9,
   "id": "3f0d0137-52b0-47a8-81a8-11a90a010798",
   "metadata": {},
   "outputs": [],
   "source": [
    "# here is the question; type over this to ask something new\n",
    "\n",
    "question = \"\"\"\n",
    "Please explain what this code does and why:\n",
    "yield from {book.get(\"author\") for book in books if book.get(\"author\")}\n",
    "\"\"\""
   ]
  },
  {
   "cell_type": "code",
   "execution_count": 10,
   "id": "a806776a-7501-4e36-9a97-937dd32e2230",
   "metadata": {},
   "outputs": [],
   "source": [
    "system_prompt = 'You are a personal assistant. You will be given a technical question and you have to answer it'"
   ]
  },
  {
   "cell_type": "code",
   "execution_count": 17,
   "id": "a4c00911-97fb-43f2-aff2-8c601528dfd2",
   "metadata": {},
   "outputs": [
    {
     "data": {
      "text/markdown": [
       "This code uses a generator expression combined with the `yield from` statement in Python, and it performs the following actions:\n",
       "\n",
       "1. **Set Comprehension**: `{book.get(\"author\") for book in books if book.get(\"author\")}` creates a set of authors from a collection called `books`. Each `book` in `books` is expected to be a dictionary where the author's name can be retrieved by calling `book.get(\"author\")`. The conditional clause `if book.get(\"author\")` ensures that only books with a truthy value for the author (i.e., non-empty and not `None`) are included in the resulting set.\n",
       "\n",
       "2. **Elimination of Duplicates**: Since this is a set comprehension, it automatically eliminates duplicate authors. If multiple books have the same author, that author will only appear once in the resulting set.\n",
       "\n",
       "3. **Yield from**: The `yield from` statement is used within a generator function to yield all values from the given iterable (in this case, the set of authors). When this function is called, it will produce each author one at a time, effectively allowing the function to be iterated over.\n",
       "\n",
       "In summary, this code iterates through a list of `books`, collects the unique authors of those books, and yields each author one by one. It is useful in scenarios where you want to process or generate a sequence of authors from a list of books without creating an intermediate list or a full set at once, thus maintaining efficiency in memory usage."
      ],
      "text/plain": [
       "<IPython.core.display.Markdown object>"
      ]
     },
     "metadata": {},
     "output_type": "display_data"
    }
   ],
   "source": [
    "# Get gpt-4o-mini to answer, with streaming\n",
    "openai = OpenAI()\n",
    "\n",
    "def get_gpt_response(user_prompt):\n",
    "    stream = openai.chat.completions.create(\n",
    "        model=MODEL_GPT,\n",
    "        messages=[\n",
    "            {\"role\": \"system\", \"content\": system_prompt},\n",
    "            {\"role\": \"user\", \"content\": user_prompt}\n",
    "          ],\n",
    "        stream=True\n",
    "    )\n",
    "\n",
    "    response=''\n",
    "    display_handle = display(Markdown(\"\"), display_id=True)\n",
    "    for chunk in stream:\n",
    "        response += chunk.choices[0].delta.content or ''\n",
    "        response = response.replace(\"```\",\"\").replace(\"markdown\", \"\")\n",
    "        update_display(Markdown(response), display_id=display_handle.display_id)\n",
    "\n",
    "get_gpt_response(question)"
   ]
  },
  {
   "cell_type": "code",
   "execution_count": 27,
   "id": "8f7c8ea8-4082-4ad0-8751-3301adcf6538",
   "metadata": {},
   "outputs": [
    {
     "data": {
      "text/markdown": [
       "**Code Explanation**\n",
       "\n",
       "The provided code snippet is written in Python and utilizes the `yield from` statement, which is a part of Python 3.3 onwards.\n",
       "\n",
       "```python\n",
       "yield from {book.get(\"author\") for book in books if book.get(\"author\")}\n",
       "```\n",
       "\n",
       "This line of code generates an iterator that yields the values from a dictionary comprehension. Here's a breakdown:\n",
       "\n",
       "1. `{... for book in books ...}`: This is a dictionary comprehension, which creates a new dictionary (in this case) with the results of the expression inside the curly braces.\n",
       "\n",
       "2. `if book.get(\"author\")`: This filters the input data to only include dictionaries (`book`) where `\"author\"` exists as a key and its value is truthy (non-empty string, non-zero number, etc.). In Python 3, an empty string, zero, None, and False are considered falsy values.\n",
       "\n",
       "3. `yield from ...`: The `yield from` statement is used to delegate a subexpression to a generator. When this expression is evaluated, it returns the results of that expression, which can be used as if they were generated by the outer function's generator.\n",
       "\n",
       "So, in essence, this line of code generates an iterator over the authors of books where the author information exists.\n",
       "\n",
       "**Why**\n",
       "\n",
       "The `yield from` statement was introduced to improve the flexibility and readability of generators. By delegating a subexpression to another generator, it allows you to build complex iterators by combining simpler ones.\n",
       "\n",
       "In this specific case, using `yield from` makes the code more readable because instead of nesting multiple levels of `for` loops or recursive function calls, we can use a dictionary comprehension and then delegate that result to another generator. This improves maintainability and reduces the chance of mistakes.\n",
       "\n",
       "For example, without `yield from`, you might write something like this:\n",
       "\n",
       "```python\n",
       "def get_authors(books):\n",
       "    authors = []\n",
       "    for book in books:\n",
       "        if book.get(\"author\"):\n",
       "            authors.append(book[\"author\"])\n",
       "    yield from authors\n",
       "```\n",
       "\n",
       "The code with `yield from` is more concise and easier to understand, making it a better choice when building complex iterators."
      ],
      "text/plain": [
       "<IPython.core.display.Markdown object>"
      ]
     },
     "metadata": {},
     "output_type": "display_data"
    }
   ],
   "source": [
    "# Get Llama 3.2 to answer\n",
    "def get_ollama_response(user_prompt):\n",
    "    response = ollama.chat(model=MODEL_LLAMA, messages=[\n",
    "            {\"role\": \"system\", \"content\": system_prompt},\n",
    "            {\"role\": \"user\", \"content\": user_prompt}\n",
    "          ]\n",
    "    )\n",
    "    reply = response['message']['content']\n",
    "    display(Markdown(reply))\n",
    "    \n",
    "get_ollama_response(question)\n"
   ]
  },
  {
   "cell_type": "code",
   "execution_count": null,
   "id": "dd4baaea-e36e-4dbc-9503-7cd30e992480",
   "metadata": {},
   "outputs": [],
   "source": []
  }
 ],
 "metadata": {
  "kernelspec": {
   "display_name": "Python [conda env:llms]",
   "language": "python",
   "name": "conda-env-llms-py"
  },
  "language_info": {
   "codemirror_mode": {
    "name": "ipython",
    "version": 3
   },
   "file_extension": ".py",
   "mimetype": "text/x-python",
   "name": "python",
   "nbconvert_exporter": "python",
   "pygments_lexer": "ipython3",
   "version": "3.11.13"
  }
 },
 "nbformat": 4,
 "nbformat_minor": 5
}
